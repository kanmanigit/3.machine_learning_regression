{
 "cells": [
  {
   "cell_type": "code",
   "execution_count": 1,
   "id": "ea254ad6-4dfe-4829-9e89-3d835d36f4a6",
   "metadata": {},
   "outputs": [],
   "source": [
    "import pandas as pd\n",
    "import pickle\n",
    "import numpy"
   ]
  },
  {
   "cell_type": "code",
   "execution_count": 2,
   "id": "a9d23fdd-1d75-4401-956d-2c72cd6628a3",
   "metadata": {},
   "outputs": [],
   "source": [
    "#Read CSV file\n",
    "dataset=pd.read_csv(\"Social_Network_Ads.csv\")\n",
    "#dataset"
   ]
  },
  {
   "cell_type": "code",
   "execution_count": 3,
   "id": "26268ca6-4069-45df-92cc-17173d21924f",
   "metadata": {},
   "outputs": [],
   "source": [
    "# Conversion of string to numerical data\n",
    "\n",
    "dataset=pd.get_dummies(dataset,drop_first=True,dtype=int)\n",
    "#dataset  \n"
   ]
  },
  {
   "cell_type": "code",
   "execution_count": 4,
   "id": "a93230bb-560a-417a-ac1a-6e5505e25bdd",
   "metadata": {},
   "outputs": [],
   "source": [
    "# drop the \"user-id\" column\n",
    "#dataset=dataset.drop(\"User ID\",axis=1)\n"
   ]
  },
  {
   "cell_type": "code",
   "execution_count": 5,
   "id": "18cc3a44-f7cb-4537-9cd5-d788aa826120",
   "metadata": {},
   "outputs": [],
   "source": [
    "#dataset"
   ]
  },
  {
   "cell_type": "code",
   "execution_count": 6,
   "id": "a3aa2168-b21a-465b-8514-0ebb493cb190",
   "metadata": {},
   "outputs": [
    {
     "data": {
      "text/plain": [
       "Purchased\n",
       "0    257\n",
       "1    143\n",
       "Name: count, dtype: int64"
      ]
     },
     "execution_count": 6,
     "metadata": {},
     "output_type": "execute_result"
    }
   ],
   "source": [
    "# finding how many classes need to be classified in the Label\n",
    "\n",
    "dataset['Purchased'].value_counts()"
   ]
  },
  {
   "cell_type": "code",
   "execution_count": 7,
   "id": "e096335c-570c-4266-a369-267c42643e16",
   "metadata": {},
   "outputs": [],
   "source": [
    "#split the data into input and output\n",
    "\n",
    "independent=dataset[['Age', 'EstimatedSalary','Gender_Male']]\n",
    "dependent=dataset[['Purchased']]"
   ]
  },
  {
   "cell_type": "code",
   "execution_count": 8,
   "id": "ff5b6149-d9f9-4502-93d1-f8101e995ff5",
   "metadata": {},
   "outputs": [
    {
     "data": {
      "text/plain": [
       "((400, 3), (400, 1))"
      ]
     },
     "execution_count": 8,
     "metadata": {},
     "output_type": "execute_result"
    }
   ],
   "source": [
    "independent.shape, dependent.shape"
   ]
  },
  {
   "cell_type": "code",
   "execution_count": 9,
   "id": "ea9b185d-736b-41ff-8fe7-cb41f5d9228e",
   "metadata": {},
   "outputs": [],
   "source": [
    "#Split training set and test set\n",
    "\n",
    "from sklearn.model_selection import train_test_split\n",
    "x_train,x_test,y_train,y_test=train_test_split(independent,dependent,test_size=0.3,random_state=0)\n",
    "#x_train,x_test,y_train,y_test"
   ]
  },
  {
   "cell_type": "code",
   "execution_count": 10,
   "id": "1ca3ceec-6a5c-4f92-9d36-c60aa0a40b9a",
   "metadata": {},
   "outputs": [],
   "source": [
    "#scale the input data to a range  using Standard scaler\n",
    "from sklearn.preprocessing import StandardScaler\n",
    "SS=StandardScaler()\n",
    "x_train=SS.fit_transform(x_train)\n",
    "x_test=SS.transform(x_test)\n"
   ]
  },
  {
   "cell_type": "code",
   "execution_count": 11,
   "id": "197b68f0-c94e-4830-a614-9b4d245eb263",
   "metadata": {},
   "outputs": [
    {
     "name": "stdout",
     "output_type": "stream",
     "text": [
      "Fitting 5 folds for each of 40 candidates, totalling 200 fits\n",
      "[CV 1/5] END ...C=10, gamma=auto, kernel=linear;, score=0.836 total time=   0.0s\n",
      "[CV 2/5] END ...C=10, gamma=auto, kernel=linear;, score=0.783 total time=   0.0s\n",
      "[CV 3/5] END ...C=10, gamma=auto, kernel=linear;, score=0.645 total time=   0.0s\n",
      "[CV 4/5] END ...C=10, gamma=auto, kernel=linear;, score=0.928 total time=   0.0s\n",
      "[CV 5/5] END ...C=10, gamma=auto, kernel=linear;, score=0.890 total time=   0.0s\n",
      "[CV 1/5] END .....C=10, gamma=auto, kernel=poly;, score=0.833 total time=   0.0s\n",
      "[CV 2/5] END .....C=10, gamma=auto, kernel=poly;, score=0.800 total time=   0.0s\n",
      "[CV 3/5] END .....C=10, gamma=auto, kernel=poly;, score=0.738 total time=   0.0s\n",
      "[CV 4/5] END .....C=10, gamma=auto, kernel=poly;, score=0.929 total time=   0.0s\n",
      "[CV 5/5] END .....C=10, gamma=auto, kernel=poly;, score=0.888 total time=   0.0s\n",
      "[CV 1/5] END ......C=10, gamma=auto, kernel=rbf;, score=0.893 total time=   0.0s\n",
      "[CV 2/5] END ......C=10, gamma=auto, kernel=rbf;, score=0.876 total time=   0.0s\n",
      "[CV 3/5] END ......C=10, gamma=auto, kernel=rbf;, score=0.841 total time=   0.0s\n",
      "[CV 4/5] END ......C=10, gamma=auto, kernel=rbf;, score=0.947 total time=   0.0s\n",
      "[CV 5/5] END ......C=10, gamma=auto, kernel=rbf;, score=0.946 total time=   0.0s\n",
      "[CV 1/5] END ..C=10, gamma=auto, kernel=sigmoid;, score=0.769 total time=   0.0s\n",
      "[CV 2/5] END ..C=10, gamma=auto, kernel=sigmoid;, score=0.734 total time=   0.0s\n",
      "[CV 3/5] END ..C=10, gamma=auto, kernel=sigmoid;, score=0.731 total time=   0.0s\n",
      "[CV 4/5] END ..C=10, gamma=auto, kernel=sigmoid;, score=0.754 total time=   0.0s\n",
      "[CV 5/5] END ..C=10, gamma=auto, kernel=sigmoid;, score=0.760 total time=   0.0s\n",
      "[CV 1/5] END ..C=10, gamma=scale, kernel=linear;, score=0.836 total time=   0.0s\n",
      "[CV 2/5] END ..C=10, gamma=scale, kernel=linear;, score=0.783 total time=   0.0s\n",
      "[CV 3/5] END ..C=10, gamma=scale, kernel=linear;, score=0.645 total time=   0.0s\n",
      "[CV 4/5] END ..C=10, gamma=scale, kernel=linear;, score=0.928 total time=   0.0s\n",
      "[CV 5/5] END ..C=10, gamma=scale, kernel=linear;, score=0.890 total time=   0.0s\n",
      "[CV 1/5] END ....C=10, gamma=scale, kernel=poly;, score=0.833 total time=   0.0s\n",
      "[CV 2/5] END ....C=10, gamma=scale, kernel=poly;, score=0.800 total time=   0.0s\n",
      "[CV 3/5] END ....C=10, gamma=scale, kernel=poly;, score=0.738 total time=   0.0s\n",
      "[CV 4/5] END ....C=10, gamma=scale, kernel=poly;, score=0.929 total time=   0.0s\n",
      "[CV 5/5] END ....C=10, gamma=scale, kernel=poly;, score=0.888 total time=   0.0s\n",
      "[CV 1/5] END .....C=10, gamma=scale, kernel=rbf;, score=0.893 total time=   0.0s\n",
      "[CV 2/5] END .....C=10, gamma=scale, kernel=rbf;, score=0.876 total time=   0.0s\n",
      "[CV 3/5] END .....C=10, gamma=scale, kernel=rbf;, score=0.841 total time=   0.0s\n",
      "[CV 4/5] END .....C=10, gamma=scale, kernel=rbf;, score=0.947 total time=   0.0s\n",
      "[CV 5/5] END .....C=10, gamma=scale, kernel=rbf;, score=0.946 total time=   0.0s\n",
      "[CV 1/5] END .C=10, gamma=scale, kernel=sigmoid;, score=0.769 total time=   0.0s\n",
      "[CV 2/5] END .C=10, gamma=scale, kernel=sigmoid;, score=0.734 total time=   0.0s\n",
      "[CV 3/5] END .C=10, gamma=scale, kernel=sigmoid;, score=0.610 total time=   0.0s\n",
      "[CV 4/5] END .C=10, gamma=scale, kernel=sigmoid;, score=0.754 total time=   0.0s\n",
      "[CV 5/5] END .C=10, gamma=scale, kernel=sigmoid;, score=0.760 total time=   0.0s\n",
      "[CV 1/5] END ..C=100, gamma=auto, kernel=linear;, score=0.836 total time=   0.0s\n",
      "[CV 2/5] END ..C=100, gamma=auto, kernel=linear;, score=0.783 total time=   0.0s\n"
     ]
    },
    {
     "name": "stderr",
     "output_type": "stream",
     "text": [
      "/opt/anaconda3/lib/python3.11/site-packages/sklearn/utils/validation.py:1143: DataConversionWarning: A column-vector y was passed when a 1d array was expected. Please change the shape of y to (n_samples, ), for example using ravel().\n",
      "  y = column_or_1d(y, warn=True)\n",
      "/opt/anaconda3/lib/python3.11/site-packages/sklearn/utils/validation.py:1143: DataConversionWarning: A column-vector y was passed when a 1d array was expected. Please change the shape of y to (n_samples, ), for example using ravel().\n",
      "  y = column_or_1d(y, warn=True)\n",
      "/opt/anaconda3/lib/python3.11/site-packages/sklearn/utils/validation.py:1143: DataConversionWarning: A column-vector y was passed when a 1d array was expected. Please change the shape of y to (n_samples, ), for example using ravel().\n",
      "  y = column_or_1d(y, warn=True)\n",
      "/opt/anaconda3/lib/python3.11/site-packages/sklearn/utils/validation.py:1143: DataConversionWarning: A column-vector y was passed when a 1d array was expected. Please change the shape of y to (n_samples, ), for example using ravel().\n",
      "  y = column_or_1d(y, warn=True)\n",
      "/opt/anaconda3/lib/python3.11/site-packages/sklearn/utils/validation.py:1143: DataConversionWarning: A column-vector y was passed when a 1d array was expected. Please change the shape of y to (n_samples, ), for example using ravel().\n",
      "  y = column_or_1d(y, warn=True)\n",
      "/opt/anaconda3/lib/python3.11/site-packages/sklearn/utils/validation.py:1143: DataConversionWarning: A column-vector y was passed when a 1d array was expected. Please change the shape of y to (n_samples, ), for example using ravel().\n",
      "  y = column_or_1d(y, warn=True)\n",
      "/opt/anaconda3/lib/python3.11/site-packages/sklearn/utils/validation.py:1143: DataConversionWarning: A column-vector y was passed when a 1d array was expected. Please change the shape of y to (n_samples, ), for example using ravel().\n",
      "  y = column_or_1d(y, warn=True)\n",
      "/opt/anaconda3/lib/python3.11/site-packages/sklearn/utils/validation.py:1143: DataConversionWarning: A column-vector y was passed when a 1d array was expected. Please change the shape of y to (n_samples, ), for example using ravel().\n",
      "  y = column_or_1d(y, warn=True)\n",
      "/opt/anaconda3/lib/python3.11/site-packages/sklearn/utils/validation.py:1143: DataConversionWarning: A column-vector y was passed when a 1d array was expected. Please change the shape of y to (n_samples, ), for example using ravel().\n",
      "  y = column_or_1d(y, warn=True)\n",
      "/opt/anaconda3/lib/python3.11/site-packages/sklearn/utils/validation.py:1143: DataConversionWarning: A column-vector y was passed when a 1d array was expected. Please change the shape of y to (n_samples, ), for example using ravel().\n",
      "  y = column_or_1d(y, warn=True)\n",
      "/opt/anaconda3/lib/python3.11/site-packages/sklearn/utils/validation.py:1143: DataConversionWarning: A column-vector y was passed when a 1d array was expected. Please change the shape of y to (n_samples, ), for example using ravel().\n",
      "  y = column_or_1d(y, warn=True)\n",
      "/opt/anaconda3/lib/python3.11/site-packages/sklearn/utils/validation.py:1143: DataConversionWarning: A column-vector y was passed when a 1d array was expected. Please change the shape of y to (n_samples, ), for example using ravel().\n",
      "  y = column_or_1d(y, warn=True)\n",
      "/opt/anaconda3/lib/python3.11/site-packages/sklearn/utils/validation.py:1143: DataConversionWarning: A column-vector y was passed when a 1d array was expected. Please change the shape of y to (n_samples, ), for example using ravel().\n",
      "  y = column_or_1d(y, warn=True)\n",
      "/opt/anaconda3/lib/python3.11/site-packages/sklearn/utils/validation.py:1143: DataConversionWarning: A column-vector y was passed when a 1d array was expected. Please change the shape of y to (n_samples, ), for example using ravel().\n",
      "  y = column_or_1d(y, warn=True)\n",
      "/opt/anaconda3/lib/python3.11/site-packages/sklearn/utils/validation.py:1143: DataConversionWarning: A column-vector y was passed when a 1d array was expected. Please change the shape of y to (n_samples, ), for example using ravel().\n",
      "  y = column_or_1d(y, warn=True)\n",
      "/opt/anaconda3/lib/python3.11/site-packages/sklearn/utils/validation.py:1143: DataConversionWarning: A column-vector y was passed when a 1d array was expected. Please change the shape of y to (n_samples, ), for example using ravel().\n",
      "  y = column_or_1d(y, warn=True)\n",
      "/opt/anaconda3/lib/python3.11/site-packages/sklearn/utils/validation.py:1143: DataConversionWarning: A column-vector y was passed when a 1d array was expected. Please change the shape of y to (n_samples, ), for example using ravel().\n",
      "  y = column_or_1d(y, warn=True)\n",
      "/opt/anaconda3/lib/python3.11/site-packages/sklearn/utils/validation.py:1143: DataConversionWarning: A column-vector y was passed when a 1d array was expected. Please change the shape of y to (n_samples, ), for example using ravel().\n",
      "  y = column_or_1d(y, warn=True)\n",
      "/opt/anaconda3/lib/python3.11/site-packages/sklearn/utils/validation.py:1143: DataConversionWarning: A column-vector y was passed when a 1d array was expected. Please change the shape of y to (n_samples, ), for example using ravel().\n",
      "  y = column_or_1d(y, warn=True)\n",
      "/opt/anaconda3/lib/python3.11/site-packages/sklearn/utils/validation.py:1143: DataConversionWarning: A column-vector y was passed when a 1d array was expected. Please change the shape of y to (n_samples, ), for example using ravel().\n",
      "  y = column_or_1d(y, warn=True)\n",
      "/opt/anaconda3/lib/python3.11/site-packages/sklearn/utils/validation.py:1143: DataConversionWarning: A column-vector y was passed when a 1d array was expected. Please change the shape of y to (n_samples, ), for example using ravel().\n",
      "  y = column_or_1d(y, warn=True)\n",
      "/opt/anaconda3/lib/python3.11/site-packages/sklearn/utils/validation.py:1143: DataConversionWarning: A column-vector y was passed when a 1d array was expected. Please change the shape of y to (n_samples, ), for example using ravel().\n",
      "  y = column_or_1d(y, warn=True)\n",
      "/opt/anaconda3/lib/python3.11/site-packages/sklearn/utils/validation.py:1143: DataConversionWarning: A column-vector y was passed when a 1d array was expected. Please change the shape of y to (n_samples, ), for example using ravel().\n",
      "  y = column_or_1d(y, warn=True)\n",
      "/opt/anaconda3/lib/python3.11/site-packages/sklearn/utils/validation.py:1143: DataConversionWarning: A column-vector y was passed when a 1d array was expected. Please change the shape of y to (n_samples, ), for example using ravel().\n",
      "  y = column_or_1d(y, warn=True)\n",
      "/opt/anaconda3/lib/python3.11/site-packages/sklearn/utils/validation.py:1143: DataConversionWarning: A column-vector y was passed when a 1d array was expected. Please change the shape of y to (n_samples, ), for example using ravel().\n",
      "  y = column_or_1d(y, warn=True)\n",
      "/opt/anaconda3/lib/python3.11/site-packages/sklearn/utils/validation.py:1143: DataConversionWarning: A column-vector y was passed when a 1d array was expected. Please change the shape of y to (n_samples, ), for example using ravel().\n",
      "  y = column_or_1d(y, warn=True)\n",
      "/opt/anaconda3/lib/python3.11/site-packages/sklearn/utils/validation.py:1143: DataConversionWarning: A column-vector y was passed when a 1d array was expected. Please change the shape of y to (n_samples, ), for example using ravel().\n",
      "  y = column_or_1d(y, warn=True)\n",
      "/opt/anaconda3/lib/python3.11/site-packages/sklearn/utils/validation.py:1143: DataConversionWarning: A column-vector y was passed when a 1d array was expected. Please change the shape of y to (n_samples, ), for example using ravel().\n",
      "  y = column_or_1d(y, warn=True)\n",
      "/opt/anaconda3/lib/python3.11/site-packages/sklearn/utils/validation.py:1143: DataConversionWarning: A column-vector y was passed when a 1d array was expected. Please change the shape of y to (n_samples, ), for example using ravel().\n",
      "  y = column_or_1d(y, warn=True)\n",
      "/opt/anaconda3/lib/python3.11/site-packages/sklearn/utils/validation.py:1143: DataConversionWarning: A column-vector y was passed when a 1d array was expected. Please change the shape of y to (n_samples, ), for example using ravel().\n",
      "  y = column_or_1d(y, warn=True)\n",
      "/opt/anaconda3/lib/python3.11/site-packages/sklearn/utils/validation.py:1143: DataConversionWarning: A column-vector y was passed when a 1d array was expected. Please change the shape of y to (n_samples, ), for example using ravel().\n",
      "  y = column_or_1d(y, warn=True)\n",
      "/opt/anaconda3/lib/python3.11/site-packages/sklearn/utils/validation.py:1143: DataConversionWarning: A column-vector y was passed when a 1d array was expected. Please change the shape of y to (n_samples, ), for example using ravel().\n",
      "  y = column_or_1d(y, warn=True)\n",
      "/opt/anaconda3/lib/python3.11/site-packages/sklearn/utils/validation.py:1143: DataConversionWarning: A column-vector y was passed when a 1d array was expected. Please change the shape of y to (n_samples, ), for example using ravel().\n",
      "  y = column_or_1d(y, warn=True)\n",
      "/opt/anaconda3/lib/python3.11/site-packages/sklearn/utils/validation.py:1143: DataConversionWarning: A column-vector y was passed when a 1d array was expected. Please change the shape of y to (n_samples, ), for example using ravel().\n",
      "  y = column_or_1d(y, warn=True)\n",
      "/opt/anaconda3/lib/python3.11/site-packages/sklearn/utils/validation.py:1143: DataConversionWarning: A column-vector y was passed when a 1d array was expected. Please change the shape of y to (n_samples, ), for example using ravel().\n",
      "  y = column_or_1d(y, warn=True)\n",
      "/opt/anaconda3/lib/python3.11/site-packages/sklearn/utils/validation.py:1143: DataConversionWarning: A column-vector y was passed when a 1d array was expected. Please change the shape of y to (n_samples, ), for example using ravel().\n",
      "  y = column_or_1d(y, warn=True)\n",
      "/opt/anaconda3/lib/python3.11/site-packages/sklearn/utils/validation.py:1143: DataConversionWarning: A column-vector y was passed when a 1d array was expected. Please change the shape of y to (n_samples, ), for example using ravel().\n",
      "  y = column_or_1d(y, warn=True)\n",
      "/opt/anaconda3/lib/python3.11/site-packages/sklearn/utils/validation.py:1143: DataConversionWarning: A column-vector y was passed when a 1d array was expected. Please change the shape of y to (n_samples, ), for example using ravel().\n",
      "  y = column_or_1d(y, warn=True)\n",
      "/opt/anaconda3/lib/python3.11/site-packages/sklearn/utils/validation.py:1143: DataConversionWarning: A column-vector y was passed when a 1d array was expected. Please change the shape of y to (n_samples, ), for example using ravel().\n",
      "  y = column_or_1d(y, warn=True)\n",
      "/opt/anaconda3/lib/python3.11/site-packages/sklearn/utils/validation.py:1143: DataConversionWarning: A column-vector y was passed when a 1d array was expected. Please change the shape of y to (n_samples, ), for example using ravel().\n",
      "  y = column_or_1d(y, warn=True)\n",
      "/opt/anaconda3/lib/python3.11/site-packages/sklearn/utils/validation.py:1143: DataConversionWarning: A column-vector y was passed when a 1d array was expected. Please change the shape of y to (n_samples, ), for example using ravel().\n",
      "  y = column_or_1d(y, warn=True)\n",
      "/opt/anaconda3/lib/python3.11/site-packages/sklearn/utils/validation.py:1143: DataConversionWarning: A column-vector y was passed when a 1d array was expected. Please change the shape of y to (n_samples, ), for example using ravel().\n",
      "  y = column_or_1d(y, warn=True)\n",
      "/opt/anaconda3/lib/python3.11/site-packages/sklearn/utils/validation.py:1143: DataConversionWarning: A column-vector y was passed when a 1d array was expected. Please change the shape of y to (n_samples, ), for example using ravel().\n",
      "  y = column_or_1d(y, warn=True)\n"
     ]
    },
    {
     "name": "stdout",
     "output_type": "stream",
     "text": [
      "[CV 3/5] END ..C=100, gamma=auto, kernel=linear;, score=0.645 total time=   0.0s\n",
      "[CV 4/5] END ..C=100, gamma=auto, kernel=linear;, score=0.928 total time=   0.0s\n",
      "[CV 5/5] END ..C=100, gamma=auto, kernel=linear;, score=0.890 total time=   0.0s\n",
      "[CV 1/5] END ....C=100, gamma=auto, kernel=poly;, score=0.833 total time=   0.0s\n",
      "[CV 2/5] END ....C=100, gamma=auto, kernel=poly;, score=0.800 total time=   0.0s\n",
      "[CV 3/5] END ....C=100, gamma=auto, kernel=poly;, score=0.716 total time=   0.0s\n",
      "[CV 4/5] END ....C=100, gamma=auto, kernel=poly;, score=0.929 total time=   0.0s\n",
      "[CV 5/5] END ....C=100, gamma=auto, kernel=poly;, score=0.908 total time=   0.0s\n",
      "[CV 1/5] END .....C=100, gamma=auto, kernel=rbf;, score=0.855 total time=   0.0s\n",
      "[CV 2/5] END .....C=100, gamma=auto, kernel=rbf;, score=0.893 total time=   0.0s\n",
      "[CV 3/5] END .....C=100, gamma=auto, kernel=rbf;, score=0.859 total time=   0.0s\n",
      "[CV 4/5] END .....C=100, gamma=auto, kernel=rbf;, score=0.929 total time=   0.0s\n",
      "[CV 5/5] END .....C=100, gamma=auto, kernel=rbf;, score=0.929 total time=   0.0s\n",
      "[CV 1/5] END .C=100, gamma=auto, kernel=sigmoid;, score=0.769 total time=   0.0s\n",
      "[CV 2/5] END .C=100, gamma=auto, kernel=sigmoid;, score=0.714 total time=   0.0s\n",
      "[CV 3/5] END .C=100, gamma=auto, kernel=sigmoid;, score=0.750 total time=   0.0s\n",
      "[CV 4/5] END .C=100, gamma=auto, kernel=sigmoid;, score=0.686 total time=   0.0s\n",
      "[CV 5/5] END .C=100, gamma=auto, kernel=sigmoid;, score=0.760 total time=   0.0s\n",
      "[CV 1/5] END .C=100, gamma=scale, kernel=linear;, score=0.836 total time=   0.0s\n",
      "[CV 2/5] END .C=100, gamma=scale, kernel=linear;, score=0.783 total time=   0.0s\n",
      "[CV 3/5] END .C=100, gamma=scale, kernel=linear;, score=0.645 total time=   0.0s\n",
      "[CV 4/5] END .C=100, gamma=scale, kernel=linear;, score=0.928 total time=   0.0s\n"
     ]
    },
    {
     "name": "stderr",
     "output_type": "stream",
     "text": [
      "/opt/anaconda3/lib/python3.11/site-packages/sklearn/utils/validation.py:1143: DataConversionWarning: A column-vector y was passed when a 1d array was expected. Please change the shape of y to (n_samples, ), for example using ravel().\n",
      "  y = column_or_1d(y, warn=True)\n",
      "/opt/anaconda3/lib/python3.11/site-packages/sklearn/utils/validation.py:1143: DataConversionWarning: A column-vector y was passed when a 1d array was expected. Please change the shape of y to (n_samples, ), for example using ravel().\n",
      "  y = column_or_1d(y, warn=True)\n",
      "/opt/anaconda3/lib/python3.11/site-packages/sklearn/utils/validation.py:1143: DataConversionWarning: A column-vector y was passed when a 1d array was expected. Please change the shape of y to (n_samples, ), for example using ravel().\n",
      "  y = column_or_1d(y, warn=True)\n",
      "/opt/anaconda3/lib/python3.11/site-packages/sklearn/utils/validation.py:1143: DataConversionWarning: A column-vector y was passed when a 1d array was expected. Please change the shape of y to (n_samples, ), for example using ravel().\n",
      "  y = column_or_1d(y, warn=True)\n",
      "/opt/anaconda3/lib/python3.11/site-packages/sklearn/utils/validation.py:1143: DataConversionWarning: A column-vector y was passed when a 1d array was expected. Please change the shape of y to (n_samples, ), for example using ravel().\n",
      "  y = column_or_1d(y, warn=True)\n",
      "/opt/anaconda3/lib/python3.11/site-packages/sklearn/utils/validation.py:1143: DataConversionWarning: A column-vector y was passed when a 1d array was expected. Please change the shape of y to (n_samples, ), for example using ravel().\n",
      "  y = column_or_1d(y, warn=True)\n",
      "/opt/anaconda3/lib/python3.11/site-packages/sklearn/utils/validation.py:1143: DataConversionWarning: A column-vector y was passed when a 1d array was expected. Please change the shape of y to (n_samples, ), for example using ravel().\n",
      "  y = column_or_1d(y, warn=True)\n",
      "/opt/anaconda3/lib/python3.11/site-packages/sklearn/utils/validation.py:1143: DataConversionWarning: A column-vector y was passed when a 1d array was expected. Please change the shape of y to (n_samples, ), for example using ravel().\n",
      "  y = column_or_1d(y, warn=True)\n",
      "/opt/anaconda3/lib/python3.11/site-packages/sklearn/utils/validation.py:1143: DataConversionWarning: A column-vector y was passed when a 1d array was expected. Please change the shape of y to (n_samples, ), for example using ravel().\n",
      "  y = column_or_1d(y, warn=True)\n",
      "/opt/anaconda3/lib/python3.11/site-packages/sklearn/utils/validation.py:1143: DataConversionWarning: A column-vector y was passed when a 1d array was expected. Please change the shape of y to (n_samples, ), for example using ravel().\n",
      "  y = column_or_1d(y, warn=True)\n",
      "/opt/anaconda3/lib/python3.11/site-packages/sklearn/utils/validation.py:1143: DataConversionWarning: A column-vector y was passed when a 1d array was expected. Please change the shape of y to (n_samples, ), for example using ravel().\n",
      "  y = column_or_1d(y, warn=True)\n",
      "/opt/anaconda3/lib/python3.11/site-packages/sklearn/utils/validation.py:1143: DataConversionWarning: A column-vector y was passed when a 1d array was expected. Please change the shape of y to (n_samples, ), for example using ravel().\n",
      "  y = column_or_1d(y, warn=True)\n",
      "/opt/anaconda3/lib/python3.11/site-packages/sklearn/utils/validation.py:1143: DataConversionWarning: A column-vector y was passed when a 1d array was expected. Please change the shape of y to (n_samples, ), for example using ravel().\n",
      "  y = column_or_1d(y, warn=True)\n",
      "/opt/anaconda3/lib/python3.11/site-packages/sklearn/utils/validation.py:1143: DataConversionWarning: A column-vector y was passed when a 1d array was expected. Please change the shape of y to (n_samples, ), for example using ravel().\n",
      "  y = column_or_1d(y, warn=True)\n",
      "/opt/anaconda3/lib/python3.11/site-packages/sklearn/utils/validation.py:1143: DataConversionWarning: A column-vector y was passed when a 1d array was expected. Please change the shape of y to (n_samples, ), for example using ravel().\n",
      "  y = column_or_1d(y, warn=True)\n",
      "/opt/anaconda3/lib/python3.11/site-packages/sklearn/utils/validation.py:1143: DataConversionWarning: A column-vector y was passed when a 1d array was expected. Please change the shape of y to (n_samples, ), for example using ravel().\n",
      "  y = column_or_1d(y, warn=True)\n",
      "/opt/anaconda3/lib/python3.11/site-packages/sklearn/utils/validation.py:1143: DataConversionWarning: A column-vector y was passed when a 1d array was expected. Please change the shape of y to (n_samples, ), for example using ravel().\n",
      "  y = column_or_1d(y, warn=True)\n",
      "/opt/anaconda3/lib/python3.11/site-packages/sklearn/utils/validation.py:1143: DataConversionWarning: A column-vector y was passed when a 1d array was expected. Please change the shape of y to (n_samples, ), for example using ravel().\n",
      "  y = column_or_1d(y, warn=True)\n",
      "/opt/anaconda3/lib/python3.11/site-packages/sklearn/utils/validation.py:1143: DataConversionWarning: A column-vector y was passed when a 1d array was expected. Please change the shape of y to (n_samples, ), for example using ravel().\n",
      "  y = column_or_1d(y, warn=True)\n",
      "/opt/anaconda3/lib/python3.11/site-packages/sklearn/utils/validation.py:1143: DataConversionWarning: A column-vector y was passed when a 1d array was expected. Please change the shape of y to (n_samples, ), for example using ravel().\n",
      "  y = column_or_1d(y, warn=True)\n",
      "/opt/anaconda3/lib/python3.11/site-packages/sklearn/utils/validation.py:1143: DataConversionWarning: A column-vector y was passed when a 1d array was expected. Please change the shape of y to (n_samples, ), for example using ravel().\n",
      "  y = column_or_1d(y, warn=True)\n",
      "/opt/anaconda3/lib/python3.11/site-packages/sklearn/utils/validation.py:1143: DataConversionWarning: A column-vector y was passed when a 1d array was expected. Please change the shape of y to (n_samples, ), for example using ravel().\n",
      "  y = column_or_1d(y, warn=True)\n"
     ]
    },
    {
     "name": "stdout",
     "output_type": "stream",
     "text": [
      "[CV 5/5] END .C=100, gamma=scale, kernel=linear;, score=0.890 total time=   0.0s\n",
      "[CV 1/5] END ...C=100, gamma=scale, kernel=poly;, score=0.833 total time=   0.0s\n",
      "[CV 2/5] END ...C=100, gamma=scale, kernel=poly;, score=0.800 total time=   0.0s\n",
      "[CV 3/5] END ...C=100, gamma=scale, kernel=poly;, score=0.738 total time=   0.0s\n",
      "[CV 4/5] END ...C=100, gamma=scale, kernel=poly;, score=0.929 total time=   0.0s\n",
      "[CV 5/5] END ...C=100, gamma=scale, kernel=poly;, score=0.908 total time=   0.0s\n",
      "[CV 1/5] END ....C=100, gamma=scale, kernel=rbf;, score=0.855 total time=   0.0s\n",
      "[CV 2/5] END ....C=100, gamma=scale, kernel=rbf;, score=0.893 total time=   0.0s\n",
      "[CV 3/5] END ....C=100, gamma=scale, kernel=rbf;, score=0.859 total time=   0.0s\n",
      "[CV 4/5] END ....C=100, gamma=scale, kernel=rbf;, score=0.929 total time=   0.0s\n",
      "[CV 5/5] END ....C=100, gamma=scale, kernel=rbf;, score=0.929 total time=   0.0s\n",
      "[CV 1/5] END C=100, gamma=scale, kernel=sigmoid;, score=0.769 total time=   0.0s\n",
      "[CV 2/5] END C=100, gamma=scale, kernel=sigmoid;, score=0.714 total time=   0.0s\n",
      "[CV 3/5] END C=100, gamma=scale, kernel=sigmoid;, score=0.750 total time=   0.0s\n",
      "[CV 4/5] END C=100, gamma=scale, kernel=sigmoid;, score=0.754 total time=   0.0s\n",
      "[CV 5/5] END C=100, gamma=scale, kernel=sigmoid;, score=0.760 total time=   0.0s\n"
     ]
    },
    {
     "name": "stderr",
     "output_type": "stream",
     "text": [
      "/opt/anaconda3/lib/python3.11/site-packages/sklearn/utils/validation.py:1143: DataConversionWarning: A column-vector y was passed when a 1d array was expected. Please change the shape of y to (n_samples, ), for example using ravel().\n",
      "  y = column_or_1d(y, warn=True)\n",
      "/opt/anaconda3/lib/python3.11/site-packages/sklearn/utils/validation.py:1143: DataConversionWarning: A column-vector y was passed when a 1d array was expected. Please change the shape of y to (n_samples, ), for example using ravel().\n",
      "  y = column_or_1d(y, warn=True)\n",
      "/opt/anaconda3/lib/python3.11/site-packages/sklearn/utils/validation.py:1143: DataConversionWarning: A column-vector y was passed when a 1d array was expected. Please change the shape of y to (n_samples, ), for example using ravel().\n",
      "  y = column_or_1d(y, warn=True)\n",
      "/opt/anaconda3/lib/python3.11/site-packages/sklearn/utils/validation.py:1143: DataConversionWarning: A column-vector y was passed when a 1d array was expected. Please change the shape of y to (n_samples, ), for example using ravel().\n",
      "  y = column_or_1d(y, warn=True)\n",
      "/opt/anaconda3/lib/python3.11/site-packages/sklearn/utils/validation.py:1143: DataConversionWarning: A column-vector y was passed when a 1d array was expected. Please change the shape of y to (n_samples, ), for example using ravel().\n",
      "  y = column_or_1d(y, warn=True)\n",
      "/opt/anaconda3/lib/python3.11/site-packages/sklearn/utils/validation.py:1143: DataConversionWarning: A column-vector y was passed when a 1d array was expected. Please change the shape of y to (n_samples, ), for example using ravel().\n",
      "  y = column_or_1d(y, warn=True)\n",
      "/opt/anaconda3/lib/python3.11/site-packages/sklearn/utils/validation.py:1143: DataConversionWarning: A column-vector y was passed when a 1d array was expected. Please change the shape of y to (n_samples, ), for example using ravel().\n",
      "  y = column_or_1d(y, warn=True)\n",
      "/opt/anaconda3/lib/python3.11/site-packages/sklearn/utils/validation.py:1143: DataConversionWarning: A column-vector y was passed when a 1d array was expected. Please change the shape of y to (n_samples, ), for example using ravel().\n",
      "  y = column_or_1d(y, warn=True)\n",
      "/opt/anaconda3/lib/python3.11/site-packages/sklearn/utils/validation.py:1143: DataConversionWarning: A column-vector y was passed when a 1d array was expected. Please change the shape of y to (n_samples, ), for example using ravel().\n",
      "  y = column_or_1d(y, warn=True)\n",
      "/opt/anaconda3/lib/python3.11/site-packages/sklearn/utils/validation.py:1143: DataConversionWarning: A column-vector y was passed when a 1d array was expected. Please change the shape of y to (n_samples, ), for example using ravel().\n",
      "  y = column_or_1d(y, warn=True)\n",
      "/opt/anaconda3/lib/python3.11/site-packages/sklearn/utils/validation.py:1143: DataConversionWarning: A column-vector y was passed when a 1d array was expected. Please change the shape of y to (n_samples, ), for example using ravel().\n",
      "  y = column_or_1d(y, warn=True)\n",
      "/opt/anaconda3/lib/python3.11/site-packages/sklearn/utils/validation.py:1143: DataConversionWarning: A column-vector y was passed when a 1d array was expected. Please change the shape of y to (n_samples, ), for example using ravel().\n",
      "  y = column_or_1d(y, warn=True)\n",
      "/opt/anaconda3/lib/python3.11/site-packages/sklearn/utils/validation.py:1143: DataConversionWarning: A column-vector y was passed when a 1d array was expected. Please change the shape of y to (n_samples, ), for example using ravel().\n",
      "  y = column_or_1d(y, warn=True)\n",
      "/opt/anaconda3/lib/python3.11/site-packages/sklearn/utils/validation.py:1143: DataConversionWarning: A column-vector y was passed when a 1d array was expected. Please change the shape of y to (n_samples, ), for example using ravel().\n",
      "  y = column_or_1d(y, warn=True)\n",
      "/opt/anaconda3/lib/python3.11/site-packages/sklearn/utils/validation.py:1143: DataConversionWarning: A column-vector y was passed when a 1d array was expected. Please change the shape of y to (n_samples, ), for example using ravel().\n",
      "  y = column_or_1d(y, warn=True)\n",
      "/opt/anaconda3/lib/python3.11/site-packages/sklearn/utils/validation.py:1143: DataConversionWarning: A column-vector y was passed when a 1d array was expected. Please change the shape of y to (n_samples, ), for example using ravel().\n",
      "  y = column_or_1d(y, warn=True)\n"
     ]
    },
    {
     "name": "stdout",
     "output_type": "stream",
     "text": [
      "[CV 1/5] END .C=1000, gamma=auto, kernel=linear;, score=0.836 total time=   0.1s\n",
      "[CV 2/5] END .C=1000, gamma=auto, kernel=linear;, score=0.783 total time=   0.1s\n",
      "[CV 3/5] END .C=1000, gamma=auto, kernel=linear;, score=0.645 total time=   0.1s\n"
     ]
    },
    {
     "name": "stderr",
     "output_type": "stream",
     "text": [
      "/opt/anaconda3/lib/python3.11/site-packages/sklearn/utils/validation.py:1143: DataConversionWarning: A column-vector y was passed when a 1d array was expected. Please change the shape of y to (n_samples, ), for example using ravel().\n",
      "  y = column_or_1d(y, warn=True)\n",
      "/opt/anaconda3/lib/python3.11/site-packages/sklearn/utils/validation.py:1143: DataConversionWarning: A column-vector y was passed when a 1d array was expected. Please change the shape of y to (n_samples, ), for example using ravel().\n",
      "  y = column_or_1d(y, warn=True)\n",
      "/opt/anaconda3/lib/python3.11/site-packages/sklearn/utils/validation.py:1143: DataConversionWarning: A column-vector y was passed when a 1d array was expected. Please change the shape of y to (n_samples, ), for example using ravel().\n",
      "  y = column_or_1d(y, warn=True)\n"
     ]
    },
    {
     "name": "stdout",
     "output_type": "stream",
     "text": [
      "[CV 4/5] END .C=1000, gamma=auto, kernel=linear;, score=0.928 total time=   0.1s\n",
      "[CV 5/5] END .C=1000, gamma=auto, kernel=linear;, score=0.890 total time=   0.1s\n"
     ]
    },
    {
     "name": "stderr",
     "output_type": "stream",
     "text": [
      "/opt/anaconda3/lib/python3.11/site-packages/sklearn/utils/validation.py:1143: DataConversionWarning: A column-vector y was passed when a 1d array was expected. Please change the shape of y to (n_samples, ), for example using ravel().\n",
      "  y = column_or_1d(y, warn=True)\n",
      "/opt/anaconda3/lib/python3.11/site-packages/sklearn/utils/validation.py:1143: DataConversionWarning: A column-vector y was passed when a 1d array was expected. Please change the shape of y to (n_samples, ), for example using ravel().\n",
      "  y = column_or_1d(y, warn=True)\n"
     ]
    },
    {
     "name": "stdout",
     "output_type": "stream",
     "text": [
      "[CV 1/5] END ...C=1000, gamma=auto, kernel=poly;, score=0.833 total time=   0.1s\n",
      "[CV 2/5] END ...C=1000, gamma=auto, kernel=poly;, score=0.800 total time=   0.0s\n",
      "[CV 3/5] END ...C=1000, gamma=auto, kernel=poly;, score=0.716 total time=   0.1s\n"
     ]
    },
    {
     "name": "stderr",
     "output_type": "stream",
     "text": [
      "/opt/anaconda3/lib/python3.11/site-packages/sklearn/utils/validation.py:1143: DataConversionWarning: A column-vector y was passed when a 1d array was expected. Please change the shape of y to (n_samples, ), for example using ravel().\n",
      "  y = column_or_1d(y, warn=True)\n",
      "/opt/anaconda3/lib/python3.11/site-packages/sklearn/utils/validation.py:1143: DataConversionWarning: A column-vector y was passed when a 1d array was expected. Please change the shape of y to (n_samples, ), for example using ravel().\n",
      "  y = column_or_1d(y, warn=True)\n",
      "/opt/anaconda3/lib/python3.11/site-packages/sklearn/utils/validation.py:1143: DataConversionWarning: A column-vector y was passed when a 1d array was expected. Please change the shape of y to (n_samples, ), for example using ravel().\n",
      "  y = column_or_1d(y, warn=True)\n"
     ]
    },
    {
     "name": "stdout",
     "output_type": "stream",
     "text": [
      "[CV 4/5] END ...C=1000, gamma=auto, kernel=poly;, score=0.929 total time=   0.2s\n",
      "[CV 5/5] END ...C=1000, gamma=auto, kernel=poly;, score=0.908 total time=   0.1s\n",
      "[CV 1/5] END ....C=1000, gamma=auto, kernel=rbf;, score=0.836 total time=   0.0s\n",
      "[CV 2/5] END ....C=1000, gamma=auto, kernel=rbf;, score=0.876 total time=   0.0s\n",
      "[CV 3/5] END ....C=1000, gamma=auto, kernel=rbf;, score=0.859 total time=   0.0s\n"
     ]
    },
    {
     "name": "stderr",
     "output_type": "stream",
     "text": [
      "/opt/anaconda3/lib/python3.11/site-packages/sklearn/utils/validation.py:1143: DataConversionWarning: A column-vector y was passed when a 1d array was expected. Please change the shape of y to (n_samples, ), for example using ravel().\n",
      "  y = column_or_1d(y, warn=True)\n",
      "/opt/anaconda3/lib/python3.11/site-packages/sklearn/utils/validation.py:1143: DataConversionWarning: A column-vector y was passed when a 1d array was expected. Please change the shape of y to (n_samples, ), for example using ravel().\n",
      "  y = column_or_1d(y, warn=True)\n",
      "/opt/anaconda3/lib/python3.11/site-packages/sklearn/utils/validation.py:1143: DataConversionWarning: A column-vector y was passed when a 1d array was expected. Please change the shape of y to (n_samples, ), for example using ravel().\n",
      "  y = column_or_1d(y, warn=True)\n",
      "/opt/anaconda3/lib/python3.11/site-packages/sklearn/utils/validation.py:1143: DataConversionWarning: A column-vector y was passed when a 1d array was expected. Please change the shape of y to (n_samples, ), for example using ravel().\n",
      "  y = column_or_1d(y, warn=True)\n",
      "/opt/anaconda3/lib/python3.11/site-packages/sklearn/utils/validation.py:1143: DataConversionWarning: A column-vector y was passed when a 1d array was expected. Please change the shape of y to (n_samples, ), for example using ravel().\n",
      "  y = column_or_1d(y, warn=True)\n"
     ]
    },
    {
     "name": "stdout",
     "output_type": "stream",
     "text": [
      "[CV 4/5] END ....C=1000, gamma=auto, kernel=rbf;, score=0.911 total time=   0.0s\n",
      "[CV 5/5] END ....C=1000, gamma=auto, kernel=rbf;, score=0.890 total time=   0.0s\n",
      "[CV 1/5] END C=1000, gamma=auto, kernel=sigmoid;, score=0.769 total time=   0.0s\n",
      "[CV 2/5] END C=1000, gamma=auto, kernel=sigmoid;, score=0.714 total time=   0.0s\n",
      "[CV 3/5] END C=1000, gamma=auto, kernel=sigmoid;, score=0.750 total time=   0.0s\n",
      "[CV 4/5] END C=1000, gamma=auto, kernel=sigmoid;, score=0.695 total time=   0.0s\n",
      "[CV 5/5] END C=1000, gamma=auto, kernel=sigmoid;, score=0.760 total time=   0.0s\n",
      "[CV 1/5] END C=1000, gamma=scale, kernel=linear;, score=0.836 total time=   0.1s\n"
     ]
    },
    {
     "name": "stderr",
     "output_type": "stream",
     "text": [
      "/opt/anaconda3/lib/python3.11/site-packages/sklearn/utils/validation.py:1143: DataConversionWarning: A column-vector y was passed when a 1d array was expected. Please change the shape of y to (n_samples, ), for example using ravel().\n",
      "  y = column_or_1d(y, warn=True)\n",
      "/opt/anaconda3/lib/python3.11/site-packages/sklearn/utils/validation.py:1143: DataConversionWarning: A column-vector y was passed when a 1d array was expected. Please change the shape of y to (n_samples, ), for example using ravel().\n",
      "  y = column_or_1d(y, warn=True)\n",
      "/opt/anaconda3/lib/python3.11/site-packages/sklearn/utils/validation.py:1143: DataConversionWarning: A column-vector y was passed when a 1d array was expected. Please change the shape of y to (n_samples, ), for example using ravel().\n",
      "  y = column_or_1d(y, warn=True)\n",
      "/opt/anaconda3/lib/python3.11/site-packages/sklearn/utils/validation.py:1143: DataConversionWarning: A column-vector y was passed when a 1d array was expected. Please change the shape of y to (n_samples, ), for example using ravel().\n",
      "  y = column_or_1d(y, warn=True)\n",
      "/opt/anaconda3/lib/python3.11/site-packages/sklearn/utils/validation.py:1143: DataConversionWarning: A column-vector y was passed when a 1d array was expected. Please change the shape of y to (n_samples, ), for example using ravel().\n",
      "  y = column_or_1d(y, warn=True)\n",
      "/opt/anaconda3/lib/python3.11/site-packages/sklearn/utils/validation.py:1143: DataConversionWarning: A column-vector y was passed when a 1d array was expected. Please change the shape of y to (n_samples, ), for example using ravel().\n",
      "  y = column_or_1d(y, warn=True)\n",
      "/opt/anaconda3/lib/python3.11/site-packages/sklearn/utils/validation.py:1143: DataConversionWarning: A column-vector y was passed when a 1d array was expected. Please change the shape of y to (n_samples, ), for example using ravel().\n",
      "  y = column_or_1d(y, warn=True)\n",
      "/opt/anaconda3/lib/python3.11/site-packages/sklearn/utils/validation.py:1143: DataConversionWarning: A column-vector y was passed when a 1d array was expected. Please change the shape of y to (n_samples, ), for example using ravel().\n",
      "  y = column_or_1d(y, warn=True)\n"
     ]
    },
    {
     "name": "stdout",
     "output_type": "stream",
     "text": [
      "[CV 2/5] END C=1000, gamma=scale, kernel=linear;, score=0.783 total time=   0.1s\n",
      "[CV 3/5] END C=1000, gamma=scale, kernel=linear;, score=0.645 total time=   0.1s\n",
      "[CV 4/5] END C=1000, gamma=scale, kernel=linear;, score=0.928 total time=   0.1s\n"
     ]
    },
    {
     "name": "stderr",
     "output_type": "stream",
     "text": [
      "/opt/anaconda3/lib/python3.11/site-packages/sklearn/utils/validation.py:1143: DataConversionWarning: A column-vector y was passed when a 1d array was expected. Please change the shape of y to (n_samples, ), for example using ravel().\n",
      "  y = column_or_1d(y, warn=True)\n",
      "/opt/anaconda3/lib/python3.11/site-packages/sklearn/utils/validation.py:1143: DataConversionWarning: A column-vector y was passed when a 1d array was expected. Please change the shape of y to (n_samples, ), for example using ravel().\n",
      "  y = column_or_1d(y, warn=True)\n",
      "/opt/anaconda3/lib/python3.11/site-packages/sklearn/utils/validation.py:1143: DataConversionWarning: A column-vector y was passed when a 1d array was expected. Please change the shape of y to (n_samples, ), for example using ravel().\n",
      "  y = column_or_1d(y, warn=True)\n"
     ]
    },
    {
     "name": "stdout",
     "output_type": "stream",
     "text": [
      "[CV 5/5] END C=1000, gamma=scale, kernel=linear;, score=0.890 total time=   0.1s\n",
      "[CV 1/5] END ..C=1000, gamma=scale, kernel=poly;, score=0.833 total time=   0.2s\n"
     ]
    },
    {
     "name": "stderr",
     "output_type": "stream",
     "text": [
      "/opt/anaconda3/lib/python3.11/site-packages/sklearn/utils/validation.py:1143: DataConversionWarning: A column-vector y was passed when a 1d array was expected. Please change the shape of y to (n_samples, ), for example using ravel().\n",
      "  y = column_or_1d(y, warn=True)\n",
      "/opt/anaconda3/lib/python3.11/site-packages/sklearn/utils/validation.py:1143: DataConversionWarning: A column-vector y was passed when a 1d array was expected. Please change the shape of y to (n_samples, ), for example using ravel().\n",
      "  y = column_or_1d(y, warn=True)\n"
     ]
    },
    {
     "name": "stdout",
     "output_type": "stream",
     "text": [
      "[CV 2/5] END ..C=1000, gamma=scale, kernel=poly;, score=0.800 total time=   0.1s\n",
      "[CV 3/5] END ..C=1000, gamma=scale, kernel=poly;, score=0.716 total time=   0.1s\n",
      "[CV 4/5] END ..C=1000, gamma=scale, kernel=poly;, score=0.929 total time=   0.1s\n"
     ]
    },
    {
     "name": "stderr",
     "output_type": "stream",
     "text": [
      "/opt/anaconda3/lib/python3.11/site-packages/sklearn/utils/validation.py:1143: DataConversionWarning: A column-vector y was passed when a 1d array was expected. Please change the shape of y to (n_samples, ), for example using ravel().\n",
      "  y = column_or_1d(y, warn=True)\n",
      "/opt/anaconda3/lib/python3.11/site-packages/sklearn/utils/validation.py:1143: DataConversionWarning: A column-vector y was passed when a 1d array was expected. Please change the shape of y to (n_samples, ), for example using ravel().\n",
      "  y = column_or_1d(y, warn=True)\n",
      "/opt/anaconda3/lib/python3.11/site-packages/sklearn/utils/validation.py:1143: DataConversionWarning: A column-vector y was passed when a 1d array was expected. Please change the shape of y to (n_samples, ), for example using ravel().\n",
      "  y = column_or_1d(y, warn=True)\n"
     ]
    },
    {
     "name": "stdout",
     "output_type": "stream",
     "text": [
      "[CV 5/5] END ..C=1000, gamma=scale, kernel=poly;, score=0.908 total time=   0.1s\n",
      "[CV 1/5] END ...C=1000, gamma=scale, kernel=rbf;, score=0.836 total time=   0.0s\n",
      "[CV 2/5] END ...C=1000, gamma=scale, kernel=rbf;, score=0.876 total time=   0.0s\n",
      "[CV 3/5] END ...C=1000, gamma=scale, kernel=rbf;, score=0.859 total time=   0.0s\n",
      "[CV 4/5] END ...C=1000, gamma=scale, kernel=rbf;, score=0.911 total time=   0.0s\n",
      "[CV 5/5] END ...C=1000, gamma=scale, kernel=rbf;, score=0.890 total time=   0.0s\n",
      "[CV 1/5] END C=1000, gamma=scale, kernel=sigmoid;, score=0.769 total time=   0.0s\n",
      "[CV 2/5] END C=1000, gamma=scale, kernel=sigmoid;, score=0.714 total time=   0.0s\n",
      "[CV 3/5] END C=1000, gamma=scale, kernel=sigmoid;, score=0.750 total time=   0.0s\n",
      "[CV 4/5] END C=1000, gamma=scale, kernel=sigmoid;, score=0.695 total time=   0.0s\n",
      "[CV 5/5] END C=1000, gamma=scale, kernel=sigmoid;, score=0.760 total time=   0.0s\n"
     ]
    },
    {
     "name": "stderr",
     "output_type": "stream",
     "text": [
      "/opt/anaconda3/lib/python3.11/site-packages/sklearn/utils/validation.py:1143: DataConversionWarning: A column-vector y was passed when a 1d array was expected. Please change the shape of y to (n_samples, ), for example using ravel().\n",
      "  y = column_or_1d(y, warn=True)\n",
      "/opt/anaconda3/lib/python3.11/site-packages/sklearn/utils/validation.py:1143: DataConversionWarning: A column-vector y was passed when a 1d array was expected. Please change the shape of y to (n_samples, ), for example using ravel().\n",
      "  y = column_or_1d(y, warn=True)\n",
      "/opt/anaconda3/lib/python3.11/site-packages/sklearn/utils/validation.py:1143: DataConversionWarning: A column-vector y was passed when a 1d array was expected. Please change the shape of y to (n_samples, ), for example using ravel().\n",
      "  y = column_or_1d(y, warn=True)\n",
      "/opt/anaconda3/lib/python3.11/site-packages/sklearn/utils/validation.py:1143: DataConversionWarning: A column-vector y was passed when a 1d array was expected. Please change the shape of y to (n_samples, ), for example using ravel().\n",
      "  y = column_or_1d(y, warn=True)\n",
      "/opt/anaconda3/lib/python3.11/site-packages/sklearn/utils/validation.py:1143: DataConversionWarning: A column-vector y was passed when a 1d array was expected. Please change the shape of y to (n_samples, ), for example using ravel().\n",
      "  y = column_or_1d(y, warn=True)\n",
      "/opt/anaconda3/lib/python3.11/site-packages/sklearn/utils/validation.py:1143: DataConversionWarning: A column-vector y was passed when a 1d array was expected. Please change the shape of y to (n_samples, ), for example using ravel().\n",
      "  y = column_or_1d(y, warn=True)\n",
      "/opt/anaconda3/lib/python3.11/site-packages/sklearn/utils/validation.py:1143: DataConversionWarning: A column-vector y was passed when a 1d array was expected. Please change the shape of y to (n_samples, ), for example using ravel().\n",
      "  y = column_or_1d(y, warn=True)\n",
      "/opt/anaconda3/lib/python3.11/site-packages/sklearn/utils/validation.py:1143: DataConversionWarning: A column-vector y was passed when a 1d array was expected. Please change the shape of y to (n_samples, ), for example using ravel().\n",
      "  y = column_or_1d(y, warn=True)\n",
      "/opt/anaconda3/lib/python3.11/site-packages/sklearn/utils/validation.py:1143: DataConversionWarning: A column-vector y was passed when a 1d array was expected. Please change the shape of y to (n_samples, ), for example using ravel().\n",
      "  y = column_or_1d(y, warn=True)\n",
      "/opt/anaconda3/lib/python3.11/site-packages/sklearn/utils/validation.py:1143: DataConversionWarning: A column-vector y was passed when a 1d array was expected. Please change the shape of y to (n_samples, ), for example using ravel().\n",
      "  y = column_or_1d(y, warn=True)\n",
      "/opt/anaconda3/lib/python3.11/site-packages/sklearn/utils/validation.py:1143: DataConversionWarning: A column-vector y was passed when a 1d array was expected. Please change the shape of y to (n_samples, ), for example using ravel().\n",
      "  y = column_or_1d(y, warn=True)\n"
     ]
    },
    {
     "name": "stdout",
     "output_type": "stream",
     "text": [
      "[CV 1/5] END .C=2000, gamma=auto, kernel=linear;, score=0.836 total time=   0.2s\n",
      "[CV 2/5] END .C=2000, gamma=auto, kernel=linear;, score=0.783 total time=   0.2s\n"
     ]
    },
    {
     "name": "stderr",
     "output_type": "stream",
     "text": [
      "/opt/anaconda3/lib/python3.11/site-packages/sklearn/utils/validation.py:1143: DataConversionWarning: A column-vector y was passed when a 1d array was expected. Please change the shape of y to (n_samples, ), for example using ravel().\n",
      "  y = column_or_1d(y, warn=True)\n",
      "/opt/anaconda3/lib/python3.11/site-packages/sklearn/utils/validation.py:1143: DataConversionWarning: A column-vector y was passed when a 1d array was expected. Please change the shape of y to (n_samples, ), for example using ravel().\n",
      "  y = column_or_1d(y, warn=True)\n"
     ]
    },
    {
     "name": "stdout",
     "output_type": "stream",
     "text": [
      "[CV 3/5] END .C=2000, gamma=auto, kernel=linear;, score=0.645 total time=   0.2s\n",
      "[CV 4/5] END .C=2000, gamma=auto, kernel=linear;, score=0.928 total time=   0.2s\n"
     ]
    },
    {
     "name": "stderr",
     "output_type": "stream",
     "text": [
      "/opt/anaconda3/lib/python3.11/site-packages/sklearn/utils/validation.py:1143: DataConversionWarning: A column-vector y was passed when a 1d array was expected. Please change the shape of y to (n_samples, ), for example using ravel().\n",
      "  y = column_or_1d(y, warn=True)\n",
      "/opt/anaconda3/lib/python3.11/site-packages/sklearn/utils/validation.py:1143: DataConversionWarning: A column-vector y was passed when a 1d array was expected. Please change the shape of y to (n_samples, ), for example using ravel().\n",
      "  y = column_or_1d(y, warn=True)\n"
     ]
    },
    {
     "name": "stdout",
     "output_type": "stream",
     "text": [
      "[CV 5/5] END .C=2000, gamma=auto, kernel=linear;, score=0.890 total time=   0.2s\n"
     ]
    },
    {
     "name": "stderr",
     "output_type": "stream",
     "text": [
      "/opt/anaconda3/lib/python3.11/site-packages/sklearn/utils/validation.py:1143: DataConversionWarning: A column-vector y was passed when a 1d array was expected. Please change the shape of y to (n_samples, ), for example using ravel().\n",
      "  y = column_or_1d(y, warn=True)\n"
     ]
    },
    {
     "name": "stdout",
     "output_type": "stream",
     "text": [
      "[CV 1/5] END ...C=2000, gamma=auto, kernel=poly;, score=0.833 total time=   0.2s\n",
      "[CV 2/5] END ...C=2000, gamma=auto, kernel=poly;, score=0.800 total time=   0.1s\n"
     ]
    },
    {
     "name": "stderr",
     "output_type": "stream",
     "text": [
      "/opt/anaconda3/lib/python3.11/site-packages/sklearn/utils/validation.py:1143: DataConversionWarning: A column-vector y was passed when a 1d array was expected. Please change the shape of y to (n_samples, ), for example using ravel().\n",
      "  y = column_or_1d(y, warn=True)\n",
      "/opt/anaconda3/lib/python3.11/site-packages/sklearn/utils/validation.py:1143: DataConversionWarning: A column-vector y was passed when a 1d array was expected. Please change the shape of y to (n_samples, ), for example using ravel().\n",
      "  y = column_or_1d(y, warn=True)\n"
     ]
    },
    {
     "name": "stdout",
     "output_type": "stream",
     "text": [
      "[CV 3/5] END ...C=2000, gamma=auto, kernel=poly;, score=0.716 total time=   0.1s\n",
      "[CV 4/5] END ...C=2000, gamma=auto, kernel=poly;, score=0.929 total time=   0.2s\n"
     ]
    },
    {
     "name": "stderr",
     "output_type": "stream",
     "text": [
      "/opt/anaconda3/lib/python3.11/site-packages/sklearn/utils/validation.py:1143: DataConversionWarning: A column-vector y was passed when a 1d array was expected. Please change the shape of y to (n_samples, ), for example using ravel().\n",
      "  y = column_or_1d(y, warn=True)\n",
      "/opt/anaconda3/lib/python3.11/site-packages/sklearn/utils/validation.py:1143: DataConversionWarning: A column-vector y was passed when a 1d array was expected. Please change the shape of y to (n_samples, ), for example using ravel().\n",
      "  y = column_or_1d(y, warn=True)\n"
     ]
    },
    {
     "name": "stdout",
     "output_type": "stream",
     "text": [
      "[CV 5/5] END ...C=2000, gamma=auto, kernel=poly;, score=0.908 total time=   0.3s\n",
      "[CV 1/5] END ....C=2000, gamma=auto, kernel=rbf;, score=0.819 total time=   0.0s\n",
      "[CV 2/5] END ....C=2000, gamma=auto, kernel=rbf;, score=0.857 total time=   0.0s\n",
      "[CV 3/5] END ....C=2000, gamma=auto, kernel=rbf;, score=0.859 total time=   0.0s\n",
      "[CV 4/5] END ....C=2000, gamma=auto, kernel=rbf;, score=0.911 total time=   0.0s\n",
      "[CV 5/5] END ....C=2000, gamma=auto, kernel=rbf;, score=0.928 total time=   0.0s\n",
      "[CV 1/5] END C=2000, gamma=auto, kernel=sigmoid;, score=0.769 total time=   0.0s\n",
      "[CV 2/5] END C=2000, gamma=auto, kernel=sigmoid;, score=0.714 total time=   0.0s\n",
      "[CV 3/5] END C=2000, gamma=auto, kernel=sigmoid;, score=0.750 total time=   0.0s\n",
      "[CV 4/5] END C=2000, gamma=auto, kernel=sigmoid;, score=0.695 total time=   0.0s\n",
      "[CV 5/5] END C=2000, gamma=auto, kernel=sigmoid;, score=0.760 total time=   0.0s\n"
     ]
    },
    {
     "name": "stderr",
     "output_type": "stream",
     "text": [
      "/opt/anaconda3/lib/python3.11/site-packages/sklearn/utils/validation.py:1143: DataConversionWarning: A column-vector y was passed when a 1d array was expected. Please change the shape of y to (n_samples, ), for example using ravel().\n",
      "  y = column_or_1d(y, warn=True)\n",
      "/opt/anaconda3/lib/python3.11/site-packages/sklearn/utils/validation.py:1143: DataConversionWarning: A column-vector y was passed when a 1d array was expected. Please change the shape of y to (n_samples, ), for example using ravel().\n",
      "  y = column_or_1d(y, warn=True)\n",
      "/opt/anaconda3/lib/python3.11/site-packages/sklearn/utils/validation.py:1143: DataConversionWarning: A column-vector y was passed when a 1d array was expected. Please change the shape of y to (n_samples, ), for example using ravel().\n",
      "  y = column_or_1d(y, warn=True)\n",
      "/opt/anaconda3/lib/python3.11/site-packages/sklearn/utils/validation.py:1143: DataConversionWarning: A column-vector y was passed when a 1d array was expected. Please change the shape of y to (n_samples, ), for example using ravel().\n",
      "  y = column_or_1d(y, warn=True)\n",
      "/opt/anaconda3/lib/python3.11/site-packages/sklearn/utils/validation.py:1143: DataConversionWarning: A column-vector y was passed when a 1d array was expected. Please change the shape of y to (n_samples, ), for example using ravel().\n",
      "  y = column_or_1d(y, warn=True)\n",
      "/opt/anaconda3/lib/python3.11/site-packages/sklearn/utils/validation.py:1143: DataConversionWarning: A column-vector y was passed when a 1d array was expected. Please change the shape of y to (n_samples, ), for example using ravel().\n",
      "  y = column_or_1d(y, warn=True)\n",
      "/opt/anaconda3/lib/python3.11/site-packages/sklearn/utils/validation.py:1143: DataConversionWarning: A column-vector y was passed when a 1d array was expected. Please change the shape of y to (n_samples, ), for example using ravel().\n",
      "  y = column_or_1d(y, warn=True)\n",
      "/opt/anaconda3/lib/python3.11/site-packages/sklearn/utils/validation.py:1143: DataConversionWarning: A column-vector y was passed when a 1d array was expected. Please change the shape of y to (n_samples, ), for example using ravel().\n",
      "  y = column_or_1d(y, warn=True)\n",
      "/opt/anaconda3/lib/python3.11/site-packages/sklearn/utils/validation.py:1143: DataConversionWarning: A column-vector y was passed when a 1d array was expected. Please change the shape of y to (n_samples, ), for example using ravel().\n",
      "  y = column_or_1d(y, warn=True)\n",
      "/opt/anaconda3/lib/python3.11/site-packages/sklearn/utils/validation.py:1143: DataConversionWarning: A column-vector y was passed when a 1d array was expected. Please change the shape of y to (n_samples, ), for example using ravel().\n",
      "  y = column_or_1d(y, warn=True)\n",
      "/opt/anaconda3/lib/python3.11/site-packages/sklearn/utils/validation.py:1143: DataConversionWarning: A column-vector y was passed when a 1d array was expected. Please change the shape of y to (n_samples, ), for example using ravel().\n",
      "  y = column_or_1d(y, warn=True)\n"
     ]
    },
    {
     "name": "stdout",
     "output_type": "stream",
     "text": [
      "[CV 1/5] END C=2000, gamma=scale, kernel=linear;, score=0.836 total time=   0.1s\n",
      "[CV 2/5] END C=2000, gamma=scale, kernel=linear;, score=0.783 total time=   0.2s\n"
     ]
    },
    {
     "name": "stderr",
     "output_type": "stream",
     "text": [
      "/opt/anaconda3/lib/python3.11/site-packages/sklearn/utils/validation.py:1143: DataConversionWarning: A column-vector y was passed when a 1d array was expected. Please change the shape of y to (n_samples, ), for example using ravel().\n",
      "  y = column_or_1d(y, warn=True)\n",
      "/opt/anaconda3/lib/python3.11/site-packages/sklearn/utils/validation.py:1143: DataConversionWarning: A column-vector y was passed when a 1d array was expected. Please change the shape of y to (n_samples, ), for example using ravel().\n",
      "  y = column_or_1d(y, warn=True)\n"
     ]
    },
    {
     "name": "stdout",
     "output_type": "stream",
     "text": [
      "[CV 3/5] END C=2000, gamma=scale, kernel=linear;, score=0.645 total time=   0.2s\n",
      "[CV 4/5] END C=2000, gamma=scale, kernel=linear;, score=0.928 total time=   0.1s\n"
     ]
    },
    {
     "name": "stderr",
     "output_type": "stream",
     "text": [
      "/opt/anaconda3/lib/python3.11/site-packages/sklearn/utils/validation.py:1143: DataConversionWarning: A column-vector y was passed when a 1d array was expected. Please change the shape of y to (n_samples, ), for example using ravel().\n",
      "  y = column_or_1d(y, warn=True)\n",
      "/opt/anaconda3/lib/python3.11/site-packages/sklearn/utils/validation.py:1143: DataConversionWarning: A column-vector y was passed when a 1d array was expected. Please change the shape of y to (n_samples, ), for example using ravel().\n",
      "  y = column_or_1d(y, warn=True)\n"
     ]
    },
    {
     "name": "stdout",
     "output_type": "stream",
     "text": [
      "[CV 5/5] END C=2000, gamma=scale, kernel=linear;, score=0.890 total time=   0.2s\n"
     ]
    },
    {
     "name": "stderr",
     "output_type": "stream",
     "text": [
      "/opt/anaconda3/lib/python3.11/site-packages/sklearn/utils/validation.py:1143: DataConversionWarning: A column-vector y was passed when a 1d array was expected. Please change the shape of y to (n_samples, ), for example using ravel().\n",
      "  y = column_or_1d(y, warn=True)\n"
     ]
    },
    {
     "name": "stdout",
     "output_type": "stream",
     "text": [
      "[CV 1/5] END ..C=2000, gamma=scale, kernel=poly;, score=0.833 total time=   0.2s\n",
      "[CV 2/5] END ..C=2000, gamma=scale, kernel=poly;, score=0.800 total time=   0.1s\n"
     ]
    },
    {
     "name": "stderr",
     "output_type": "stream",
     "text": [
      "/opt/anaconda3/lib/python3.11/site-packages/sklearn/utils/validation.py:1143: DataConversionWarning: A column-vector y was passed when a 1d array was expected. Please change the shape of y to (n_samples, ), for example using ravel().\n",
      "  y = column_or_1d(y, warn=True)\n",
      "/opt/anaconda3/lib/python3.11/site-packages/sklearn/utils/validation.py:1143: DataConversionWarning: A column-vector y was passed when a 1d array was expected. Please change the shape of y to (n_samples, ), for example using ravel().\n",
      "  y = column_or_1d(y, warn=True)\n"
     ]
    },
    {
     "name": "stdout",
     "output_type": "stream",
     "text": [
      "[CV 3/5] END ..C=2000, gamma=scale, kernel=poly;, score=0.716 total time=   0.1s\n"
     ]
    },
    {
     "name": "stderr",
     "output_type": "stream",
     "text": [
      "/opt/anaconda3/lib/python3.11/site-packages/sklearn/utils/validation.py:1143: DataConversionWarning: A column-vector y was passed when a 1d array was expected. Please change the shape of y to (n_samples, ), for example using ravel().\n",
      "  y = column_or_1d(y, warn=True)\n"
     ]
    },
    {
     "name": "stdout",
     "output_type": "stream",
     "text": [
      "[CV 4/5] END ..C=2000, gamma=scale, kernel=poly;, score=0.929 total time=   0.3s\n"
     ]
    },
    {
     "name": "stderr",
     "output_type": "stream",
     "text": [
      "/opt/anaconda3/lib/python3.11/site-packages/sklearn/utils/validation.py:1143: DataConversionWarning: A column-vector y was passed when a 1d array was expected. Please change the shape of y to (n_samples, ), for example using ravel().\n",
      "  y = column_or_1d(y, warn=True)\n"
     ]
    },
    {
     "name": "stdout",
     "output_type": "stream",
     "text": [
      "[CV 5/5] END ..C=2000, gamma=scale, kernel=poly;, score=0.908 total time=   0.2s\n",
      "[CV 1/5] END ...C=2000, gamma=scale, kernel=rbf;, score=0.819 total time=   0.0s\n",
      "[CV 2/5] END ...C=2000, gamma=scale, kernel=rbf;, score=0.874 total time=   0.0s\n",
      "[CV 3/5] END ...C=2000, gamma=scale, kernel=rbf;, score=0.859 total time=   0.0s\n",
      "[CV 4/5] END ...C=2000, gamma=scale, kernel=rbf;, score=0.911 total time=   0.0s\n",
      "[CV 5/5] END ...C=2000, gamma=scale, kernel=rbf;, score=0.928 total time=   0.0s\n",
      "[CV 1/5] END C=2000, gamma=scale, kernel=sigmoid;, score=0.769 total time=   0.0s\n",
      "[CV 2/5] END C=2000, gamma=scale, kernel=sigmoid;, score=0.714 total time=   0.0s\n",
      "[CV 3/5] END C=2000, gamma=scale, kernel=sigmoid;, score=0.750 total time=   0.0s\n",
      "[CV 4/5] END C=2000, gamma=scale, kernel=sigmoid;, score=0.695 total time=   0.0s\n",
      "[CV 5/5] END C=2000, gamma=scale, kernel=sigmoid;, score=0.760 total time=   0.0s\n"
     ]
    },
    {
     "name": "stderr",
     "output_type": "stream",
     "text": [
      "/opt/anaconda3/lib/python3.11/site-packages/sklearn/utils/validation.py:1143: DataConversionWarning: A column-vector y was passed when a 1d array was expected. Please change the shape of y to (n_samples, ), for example using ravel().\n",
      "  y = column_or_1d(y, warn=True)\n",
      "/opt/anaconda3/lib/python3.11/site-packages/sklearn/utils/validation.py:1143: DataConversionWarning: A column-vector y was passed when a 1d array was expected. Please change the shape of y to (n_samples, ), for example using ravel().\n",
      "  y = column_or_1d(y, warn=True)\n",
      "/opt/anaconda3/lib/python3.11/site-packages/sklearn/utils/validation.py:1143: DataConversionWarning: A column-vector y was passed when a 1d array was expected. Please change the shape of y to (n_samples, ), for example using ravel().\n",
      "  y = column_or_1d(y, warn=True)\n",
      "/opt/anaconda3/lib/python3.11/site-packages/sklearn/utils/validation.py:1143: DataConversionWarning: A column-vector y was passed when a 1d array was expected. Please change the shape of y to (n_samples, ), for example using ravel().\n",
      "  y = column_or_1d(y, warn=True)\n",
      "/opt/anaconda3/lib/python3.11/site-packages/sklearn/utils/validation.py:1143: DataConversionWarning: A column-vector y was passed when a 1d array was expected. Please change the shape of y to (n_samples, ), for example using ravel().\n",
      "  y = column_or_1d(y, warn=True)\n",
      "/opt/anaconda3/lib/python3.11/site-packages/sklearn/utils/validation.py:1143: DataConversionWarning: A column-vector y was passed when a 1d array was expected. Please change the shape of y to (n_samples, ), for example using ravel().\n",
      "  y = column_or_1d(y, warn=True)\n",
      "/opt/anaconda3/lib/python3.11/site-packages/sklearn/utils/validation.py:1143: DataConversionWarning: A column-vector y was passed when a 1d array was expected. Please change the shape of y to (n_samples, ), for example using ravel().\n",
      "  y = column_or_1d(y, warn=True)\n",
      "/opt/anaconda3/lib/python3.11/site-packages/sklearn/utils/validation.py:1143: DataConversionWarning: A column-vector y was passed when a 1d array was expected. Please change the shape of y to (n_samples, ), for example using ravel().\n",
      "  y = column_or_1d(y, warn=True)\n",
      "/opt/anaconda3/lib/python3.11/site-packages/sklearn/utils/validation.py:1143: DataConversionWarning: A column-vector y was passed when a 1d array was expected. Please change the shape of y to (n_samples, ), for example using ravel().\n",
      "  y = column_or_1d(y, warn=True)\n",
      "/opt/anaconda3/lib/python3.11/site-packages/sklearn/utils/validation.py:1143: DataConversionWarning: A column-vector y was passed when a 1d array was expected. Please change the shape of y to (n_samples, ), for example using ravel().\n",
      "  y = column_or_1d(y, warn=True)\n",
      "/opt/anaconda3/lib/python3.11/site-packages/sklearn/utils/validation.py:1143: DataConversionWarning: A column-vector y was passed when a 1d array was expected. Please change the shape of y to (n_samples, ), for example using ravel().\n",
      "  y = column_or_1d(y, warn=True)\n"
     ]
    },
    {
     "name": "stdout",
     "output_type": "stream",
     "text": [
      "[CV 1/5] END .C=3000, gamma=auto, kernel=linear;, score=0.836 total time=   0.3s\n"
     ]
    },
    {
     "name": "stderr",
     "output_type": "stream",
     "text": [
      "/opt/anaconda3/lib/python3.11/site-packages/sklearn/utils/validation.py:1143: DataConversionWarning: A column-vector y was passed when a 1d array was expected. Please change the shape of y to (n_samples, ), for example using ravel().\n",
      "  y = column_or_1d(y, warn=True)\n"
     ]
    },
    {
     "name": "stdout",
     "output_type": "stream",
     "text": [
      "[CV 2/5] END .C=3000, gamma=auto, kernel=linear;, score=0.783 total time=   0.2s\n",
      "[CV 3/5] END .C=3000, gamma=auto, kernel=linear;, score=0.645 total time=   0.2s\n"
     ]
    },
    {
     "name": "stderr",
     "output_type": "stream",
     "text": [
      "/opt/anaconda3/lib/python3.11/site-packages/sklearn/utils/validation.py:1143: DataConversionWarning: A column-vector y was passed when a 1d array was expected. Please change the shape of y to (n_samples, ), for example using ravel().\n",
      "  y = column_or_1d(y, warn=True)\n",
      "/opt/anaconda3/lib/python3.11/site-packages/sklearn/utils/validation.py:1143: DataConversionWarning: A column-vector y was passed when a 1d array was expected. Please change the shape of y to (n_samples, ), for example using ravel().\n",
      "  y = column_or_1d(y, warn=True)\n"
     ]
    },
    {
     "name": "stdout",
     "output_type": "stream",
     "text": [
      "[CV 4/5] END .C=3000, gamma=auto, kernel=linear;, score=0.928 total time=   0.2s\n"
     ]
    },
    {
     "name": "stderr",
     "output_type": "stream",
     "text": [
      "/opt/anaconda3/lib/python3.11/site-packages/sklearn/utils/validation.py:1143: DataConversionWarning: A column-vector y was passed when a 1d array was expected. Please change the shape of y to (n_samples, ), for example using ravel().\n",
      "  y = column_or_1d(y, warn=True)\n"
     ]
    },
    {
     "name": "stdout",
     "output_type": "stream",
     "text": [
      "[CV 5/5] END .C=3000, gamma=auto, kernel=linear;, score=0.890 total time=   0.6s\n"
     ]
    },
    {
     "name": "stderr",
     "output_type": "stream",
     "text": [
      "/opt/anaconda3/lib/python3.11/site-packages/sklearn/utils/validation.py:1143: DataConversionWarning: A column-vector y was passed when a 1d array was expected. Please change the shape of y to (n_samples, ), for example using ravel().\n",
      "  y = column_or_1d(y, warn=True)\n"
     ]
    },
    {
     "name": "stdout",
     "output_type": "stream",
     "text": [
      "[CV 1/5] END ...C=3000, gamma=auto, kernel=poly;, score=0.833 total time=   0.3s\n",
      "[CV 2/5] END ...C=3000, gamma=auto, kernel=poly;, score=0.800 total time=   0.1s\n"
     ]
    },
    {
     "name": "stderr",
     "output_type": "stream",
     "text": [
      "/opt/anaconda3/lib/python3.11/site-packages/sklearn/utils/validation.py:1143: DataConversionWarning: A column-vector y was passed when a 1d array was expected. Please change the shape of y to (n_samples, ), for example using ravel().\n",
      "  y = column_or_1d(y, warn=True)\n",
      "/opt/anaconda3/lib/python3.11/site-packages/sklearn/utils/validation.py:1143: DataConversionWarning: A column-vector y was passed when a 1d array was expected. Please change the shape of y to (n_samples, ), for example using ravel().\n",
      "  y = column_or_1d(y, warn=True)\n"
     ]
    },
    {
     "name": "stdout",
     "output_type": "stream",
     "text": [
      "[CV 3/5] END ...C=3000, gamma=auto, kernel=poly;, score=0.716 total time=   0.2s\n"
     ]
    },
    {
     "name": "stderr",
     "output_type": "stream",
     "text": [
      "/opt/anaconda3/lib/python3.11/site-packages/sklearn/utils/validation.py:1143: DataConversionWarning: A column-vector y was passed when a 1d array was expected. Please change the shape of y to (n_samples, ), for example using ravel().\n",
      "  y = column_or_1d(y, warn=True)\n"
     ]
    },
    {
     "name": "stdout",
     "output_type": "stream",
     "text": [
      "[CV 4/5] END ...C=3000, gamma=auto, kernel=poly;, score=0.929 total time=   0.5s\n"
     ]
    },
    {
     "name": "stderr",
     "output_type": "stream",
     "text": [
      "/opt/anaconda3/lib/python3.11/site-packages/sklearn/utils/validation.py:1143: DataConversionWarning: A column-vector y was passed when a 1d array was expected. Please change the shape of y to (n_samples, ), for example using ravel().\n",
      "  y = column_or_1d(y, warn=True)\n"
     ]
    },
    {
     "name": "stdout",
     "output_type": "stream",
     "text": [
      "[CV 5/5] END ...C=3000, gamma=auto, kernel=poly;, score=0.908 total time=   0.3s\n",
      "[CV 1/5] END ....C=3000, gamma=auto, kernel=rbf;, score=0.819 total time=   0.0s\n",
      "[CV 2/5] END ....C=3000, gamma=auto, kernel=rbf;, score=0.855 total time=   0.0s\n",
      "[CV 3/5] END ....C=3000, gamma=auto, kernel=rbf;, score=0.840 total time=   0.0s\n",
      "[CV 4/5] END ....C=3000, gamma=auto, kernel=rbf;, score=0.893 total time=   0.0s\n",
      "[CV 5/5] END ....C=3000, gamma=auto, kernel=rbf;, score=0.928 total time=   0.0s\n",
      "[CV 1/5] END C=3000, gamma=auto, kernel=sigmoid;, score=0.769 total time=   0.0s\n",
      "[CV 2/5] END C=3000, gamma=auto, kernel=sigmoid;, score=0.714 total time=   0.0s\n",
      "[CV 3/5] END C=3000, gamma=auto, kernel=sigmoid;, score=0.750 total time=   0.0s\n",
      "[CV 4/5] END C=3000, gamma=auto, kernel=sigmoid;, score=0.695 total time=   0.0s\n",
      "[CV 5/5] END C=3000, gamma=auto, kernel=sigmoid;, score=0.760 total time=   0.0s\n"
     ]
    },
    {
     "name": "stderr",
     "output_type": "stream",
     "text": [
      "/opt/anaconda3/lib/python3.11/site-packages/sklearn/utils/validation.py:1143: DataConversionWarning: A column-vector y was passed when a 1d array was expected. Please change the shape of y to (n_samples, ), for example using ravel().\n",
      "  y = column_or_1d(y, warn=True)\n",
      "/opt/anaconda3/lib/python3.11/site-packages/sklearn/utils/validation.py:1143: DataConversionWarning: A column-vector y was passed when a 1d array was expected. Please change the shape of y to (n_samples, ), for example using ravel().\n",
      "  y = column_or_1d(y, warn=True)\n",
      "/opt/anaconda3/lib/python3.11/site-packages/sklearn/utils/validation.py:1143: DataConversionWarning: A column-vector y was passed when a 1d array was expected. Please change the shape of y to (n_samples, ), for example using ravel().\n",
      "  y = column_or_1d(y, warn=True)\n",
      "/opt/anaconda3/lib/python3.11/site-packages/sklearn/utils/validation.py:1143: DataConversionWarning: A column-vector y was passed when a 1d array was expected. Please change the shape of y to (n_samples, ), for example using ravel().\n",
      "  y = column_or_1d(y, warn=True)\n",
      "/opt/anaconda3/lib/python3.11/site-packages/sklearn/utils/validation.py:1143: DataConversionWarning: A column-vector y was passed when a 1d array was expected. Please change the shape of y to (n_samples, ), for example using ravel().\n",
      "  y = column_or_1d(y, warn=True)\n",
      "/opt/anaconda3/lib/python3.11/site-packages/sklearn/utils/validation.py:1143: DataConversionWarning: A column-vector y was passed when a 1d array was expected. Please change the shape of y to (n_samples, ), for example using ravel().\n",
      "  y = column_or_1d(y, warn=True)\n",
      "/opt/anaconda3/lib/python3.11/site-packages/sklearn/utils/validation.py:1143: DataConversionWarning: A column-vector y was passed when a 1d array was expected. Please change the shape of y to (n_samples, ), for example using ravel().\n",
      "  y = column_or_1d(y, warn=True)\n",
      "/opt/anaconda3/lib/python3.11/site-packages/sklearn/utils/validation.py:1143: DataConversionWarning: A column-vector y was passed when a 1d array was expected. Please change the shape of y to (n_samples, ), for example using ravel().\n",
      "  y = column_or_1d(y, warn=True)\n",
      "/opt/anaconda3/lib/python3.11/site-packages/sklearn/utils/validation.py:1143: DataConversionWarning: A column-vector y was passed when a 1d array was expected. Please change the shape of y to (n_samples, ), for example using ravel().\n",
      "  y = column_or_1d(y, warn=True)\n",
      "/opt/anaconda3/lib/python3.11/site-packages/sklearn/utils/validation.py:1143: DataConversionWarning: A column-vector y was passed when a 1d array was expected. Please change the shape of y to (n_samples, ), for example using ravel().\n",
      "  y = column_or_1d(y, warn=True)\n",
      "/opt/anaconda3/lib/python3.11/site-packages/sklearn/utils/validation.py:1143: DataConversionWarning: A column-vector y was passed when a 1d array was expected. Please change the shape of y to (n_samples, ), for example using ravel().\n",
      "  y = column_or_1d(y, warn=True)\n"
     ]
    },
    {
     "name": "stdout",
     "output_type": "stream",
     "text": [
      "[CV 1/5] END C=3000, gamma=scale, kernel=linear;, score=0.836 total time=   0.2s\n",
      "[CV 2/5] END C=3000, gamma=scale, kernel=linear;, score=0.783 total time=   0.2s\n"
     ]
    },
    {
     "name": "stderr",
     "output_type": "stream",
     "text": [
      "/opt/anaconda3/lib/python3.11/site-packages/sklearn/utils/validation.py:1143: DataConversionWarning: A column-vector y was passed when a 1d array was expected. Please change the shape of y to (n_samples, ), for example using ravel().\n",
      "  y = column_or_1d(y, warn=True)\n",
      "/opt/anaconda3/lib/python3.11/site-packages/sklearn/utils/validation.py:1143: DataConversionWarning: A column-vector y was passed when a 1d array was expected. Please change the shape of y to (n_samples, ), for example using ravel().\n",
      "  y = column_or_1d(y, warn=True)\n"
     ]
    },
    {
     "name": "stdout",
     "output_type": "stream",
     "text": [
      "[CV 3/5] END C=3000, gamma=scale, kernel=linear;, score=0.645 total time=   0.2s\n"
     ]
    },
    {
     "name": "stderr",
     "output_type": "stream",
     "text": [
      "/opt/anaconda3/lib/python3.11/site-packages/sklearn/utils/validation.py:1143: DataConversionWarning: A column-vector y was passed when a 1d array was expected. Please change the shape of y to (n_samples, ), for example using ravel().\n",
      "  y = column_or_1d(y, warn=True)\n"
     ]
    },
    {
     "name": "stdout",
     "output_type": "stream",
     "text": [
      "[CV 4/5] END C=3000, gamma=scale, kernel=linear;, score=0.928 total time=   0.3s\n"
     ]
    },
    {
     "name": "stderr",
     "output_type": "stream",
     "text": [
      "/opt/anaconda3/lib/python3.11/site-packages/sklearn/utils/validation.py:1143: DataConversionWarning: A column-vector y was passed when a 1d array was expected. Please change the shape of y to (n_samples, ), for example using ravel().\n",
      "  y = column_or_1d(y, warn=True)\n"
     ]
    },
    {
     "name": "stdout",
     "output_type": "stream",
     "text": [
      "[CV 5/5] END C=3000, gamma=scale, kernel=linear;, score=0.890 total time=   0.5s\n"
     ]
    },
    {
     "name": "stderr",
     "output_type": "stream",
     "text": [
      "/opt/anaconda3/lib/python3.11/site-packages/sklearn/utils/validation.py:1143: DataConversionWarning: A column-vector y was passed when a 1d array was expected. Please change the shape of y to (n_samples, ), for example using ravel().\n",
      "  y = column_or_1d(y, warn=True)\n"
     ]
    },
    {
     "name": "stdout",
     "output_type": "stream",
     "text": [
      "[CV 1/5] END ..C=3000, gamma=scale, kernel=poly;, score=0.833 total time=   0.4s\n",
      "[CV 2/5] END ..C=3000, gamma=scale, kernel=poly;, score=0.800 total time=   0.1s\n"
     ]
    },
    {
     "name": "stderr",
     "output_type": "stream",
     "text": [
      "/opt/anaconda3/lib/python3.11/site-packages/sklearn/utils/validation.py:1143: DataConversionWarning: A column-vector y was passed when a 1d array was expected. Please change the shape of y to (n_samples, ), for example using ravel().\n",
      "  y = column_or_1d(y, warn=True)\n",
      "/opt/anaconda3/lib/python3.11/site-packages/sklearn/utils/validation.py:1143: DataConversionWarning: A column-vector y was passed when a 1d array was expected. Please change the shape of y to (n_samples, ), for example using ravel().\n",
      "  y = column_or_1d(y, warn=True)\n"
     ]
    },
    {
     "name": "stdout",
     "output_type": "stream",
     "text": [
      "[CV 3/5] END ..C=3000, gamma=scale, kernel=poly;, score=0.716 total time=   0.2s\n"
     ]
    },
    {
     "name": "stderr",
     "output_type": "stream",
     "text": [
      "/opt/anaconda3/lib/python3.11/site-packages/sklearn/utils/validation.py:1143: DataConversionWarning: A column-vector y was passed when a 1d array was expected. Please change the shape of y to (n_samples, ), for example using ravel().\n",
      "  y = column_or_1d(y, warn=True)\n"
     ]
    },
    {
     "name": "stdout",
     "output_type": "stream",
     "text": [
      "[CV 4/5] END ..C=3000, gamma=scale, kernel=poly;, score=0.929 total time=   0.5s\n"
     ]
    },
    {
     "name": "stderr",
     "output_type": "stream",
     "text": [
      "/opt/anaconda3/lib/python3.11/site-packages/sklearn/utils/validation.py:1143: DataConversionWarning: A column-vector y was passed when a 1d array was expected. Please change the shape of y to (n_samples, ), for example using ravel().\n",
      "  y = column_or_1d(y, warn=True)\n"
     ]
    },
    {
     "name": "stdout",
     "output_type": "stream",
     "text": [
      "[CV 5/5] END ..C=3000, gamma=scale, kernel=poly;, score=0.908 total time=   0.4s\n",
      "[CV 1/5] END ...C=3000, gamma=scale, kernel=rbf;, score=0.819 total time=   0.0s\n",
      "[CV 2/5] END ...C=3000, gamma=scale, kernel=rbf;, score=0.855 total time=   0.0s\n",
      "[CV 3/5] END ...C=3000, gamma=scale, kernel=rbf;, score=0.840 total time=   0.0s\n",
      "[CV 4/5] END ...C=3000, gamma=scale, kernel=rbf;, score=0.893 total time=   0.0s\n",
      "[CV 5/5] END ...C=3000, gamma=scale, kernel=rbf;, score=0.928 total time=   0.0s\n",
      "[CV 1/5] END C=3000, gamma=scale, kernel=sigmoid;, score=0.769 total time=   0.0s\n",
      "[CV 2/5] END C=3000, gamma=scale, kernel=sigmoid;, score=0.714 total time=   0.0s\n",
      "[CV 3/5] END C=3000, gamma=scale, kernel=sigmoid;, score=0.750 total time=   0.0s\n",
      "[CV 4/5] END C=3000, gamma=scale, kernel=sigmoid;, score=0.695 total time=   0.0s\n",
      "[CV 5/5] END C=3000, gamma=scale, kernel=sigmoid;, score=0.760 total time=   0.0s\n"
     ]
    },
    {
     "name": "stderr",
     "output_type": "stream",
     "text": [
      "/opt/anaconda3/lib/python3.11/site-packages/sklearn/utils/validation.py:1143: DataConversionWarning: A column-vector y was passed when a 1d array was expected. Please change the shape of y to (n_samples, ), for example using ravel().\n",
      "  y = column_or_1d(y, warn=True)\n",
      "/opt/anaconda3/lib/python3.11/site-packages/sklearn/utils/validation.py:1143: DataConversionWarning: A column-vector y was passed when a 1d array was expected. Please change the shape of y to (n_samples, ), for example using ravel().\n",
      "  y = column_or_1d(y, warn=True)\n",
      "/opt/anaconda3/lib/python3.11/site-packages/sklearn/utils/validation.py:1143: DataConversionWarning: A column-vector y was passed when a 1d array was expected. Please change the shape of y to (n_samples, ), for example using ravel().\n",
      "  y = column_or_1d(y, warn=True)\n",
      "/opt/anaconda3/lib/python3.11/site-packages/sklearn/utils/validation.py:1143: DataConversionWarning: A column-vector y was passed when a 1d array was expected. Please change the shape of y to (n_samples, ), for example using ravel().\n",
      "  y = column_or_1d(y, warn=True)\n",
      "/opt/anaconda3/lib/python3.11/site-packages/sklearn/utils/validation.py:1143: DataConversionWarning: A column-vector y was passed when a 1d array was expected. Please change the shape of y to (n_samples, ), for example using ravel().\n",
      "  y = column_or_1d(y, warn=True)\n",
      "/opt/anaconda3/lib/python3.11/site-packages/sklearn/utils/validation.py:1143: DataConversionWarning: A column-vector y was passed when a 1d array was expected. Please change the shape of y to (n_samples, ), for example using ravel().\n",
      "  y = column_or_1d(y, warn=True)\n",
      "/opt/anaconda3/lib/python3.11/site-packages/sklearn/utils/validation.py:1143: DataConversionWarning: A column-vector y was passed when a 1d array was expected. Please change the shape of y to (n_samples, ), for example using ravel().\n",
      "  y = column_or_1d(y, warn=True)\n",
      "/opt/anaconda3/lib/python3.11/site-packages/sklearn/utils/validation.py:1143: DataConversionWarning: A column-vector y was passed when a 1d array was expected. Please change the shape of y to (n_samples, ), for example using ravel().\n",
      "  y = column_or_1d(y, warn=True)\n",
      "/opt/anaconda3/lib/python3.11/site-packages/sklearn/utils/validation.py:1143: DataConversionWarning: A column-vector y was passed when a 1d array was expected. Please change the shape of y to (n_samples, ), for example using ravel().\n",
      "  y = column_or_1d(y, warn=True)\n",
      "/opt/anaconda3/lib/python3.11/site-packages/sklearn/utils/validation.py:1143: DataConversionWarning: A column-vector y was passed when a 1d array was expected. Please change the shape of y to (n_samples, ), for example using ravel().\n",
      "  y = column_or_1d(y, warn=True)\n",
      "/opt/anaconda3/lib/python3.11/site-packages/sklearn/utils/validation.py:1143: DataConversionWarning: A column-vector y was passed when a 1d array was expected. Please change the shape of y to (n_samples, ), for example using ravel().\n",
      "  y = column_or_1d(y, warn=True)\n"
     ]
    },
    {
     "data": {
      "text/html": [
       "<style>#sk-container-id-1 {color: black;background-color: white;}#sk-container-id-1 pre{padding: 0;}#sk-container-id-1 div.sk-toggleable {background-color: white;}#sk-container-id-1 label.sk-toggleable__label {cursor: pointer;display: block;width: 100%;margin-bottom: 0;padding: 0.3em;box-sizing: border-box;text-align: center;}#sk-container-id-1 label.sk-toggleable__label-arrow:before {content: \"▸\";float: left;margin-right: 0.25em;color: #696969;}#sk-container-id-1 label.sk-toggleable__label-arrow:hover:before {color: black;}#sk-container-id-1 div.sk-estimator:hover label.sk-toggleable__label-arrow:before {color: black;}#sk-container-id-1 div.sk-toggleable__content {max-height: 0;max-width: 0;overflow: hidden;text-align: left;background-color: #f0f8ff;}#sk-container-id-1 div.sk-toggleable__content pre {margin: 0.2em;color: black;border-radius: 0.25em;background-color: #f0f8ff;}#sk-container-id-1 input.sk-toggleable__control:checked~div.sk-toggleable__content {max-height: 200px;max-width: 100%;overflow: auto;}#sk-container-id-1 input.sk-toggleable__control:checked~label.sk-toggleable__label-arrow:before {content: \"▾\";}#sk-container-id-1 div.sk-estimator input.sk-toggleable__control:checked~label.sk-toggleable__label {background-color: #d4ebff;}#sk-container-id-1 div.sk-label input.sk-toggleable__control:checked~label.sk-toggleable__label {background-color: #d4ebff;}#sk-container-id-1 input.sk-hidden--visually {border: 0;clip: rect(1px 1px 1px 1px);clip: rect(1px, 1px, 1px, 1px);height: 1px;margin: -1px;overflow: hidden;padding: 0;position: absolute;width: 1px;}#sk-container-id-1 div.sk-estimator {font-family: monospace;background-color: #f0f8ff;border: 1px dotted black;border-radius: 0.25em;box-sizing: border-box;margin-bottom: 0.5em;}#sk-container-id-1 div.sk-estimator:hover {background-color: #d4ebff;}#sk-container-id-1 div.sk-parallel-item::after {content: \"\";width: 100%;border-bottom: 1px solid gray;flex-grow: 1;}#sk-container-id-1 div.sk-label:hover label.sk-toggleable__label {background-color: #d4ebff;}#sk-container-id-1 div.sk-serial::before {content: \"\";position: absolute;border-left: 1px solid gray;box-sizing: border-box;top: 0;bottom: 0;left: 50%;z-index: 0;}#sk-container-id-1 div.sk-serial {display: flex;flex-direction: column;align-items: center;background-color: white;padding-right: 0.2em;padding-left: 0.2em;position: relative;}#sk-container-id-1 div.sk-item {position: relative;z-index: 1;}#sk-container-id-1 div.sk-parallel {display: flex;align-items: stretch;justify-content: center;background-color: white;position: relative;}#sk-container-id-1 div.sk-item::before, #sk-container-id-1 div.sk-parallel-item::before {content: \"\";position: absolute;border-left: 1px solid gray;box-sizing: border-box;top: 0;bottom: 0;left: 50%;z-index: -1;}#sk-container-id-1 div.sk-parallel-item {display: flex;flex-direction: column;z-index: 1;position: relative;background-color: white;}#sk-container-id-1 div.sk-parallel-item:first-child::after {align-self: flex-end;width: 50%;}#sk-container-id-1 div.sk-parallel-item:last-child::after {align-self: flex-start;width: 50%;}#sk-container-id-1 div.sk-parallel-item:only-child::after {width: 0;}#sk-container-id-1 div.sk-dashed-wrapped {border: 1px dashed gray;margin: 0 0.4em 0.5em 0.4em;box-sizing: border-box;padding-bottom: 0.4em;background-color: white;}#sk-container-id-1 div.sk-label label {font-family: monospace;font-weight: bold;display: inline-block;line-height: 1.2em;}#sk-container-id-1 div.sk-label-container {text-align: center;}#sk-container-id-1 div.sk-container {/* jupyter's `normalize.less` sets `[hidden] { display: none; }` but bootstrap.min.css set `[hidden] { display: none !important; }` so we also need the `!important` here to be able to override the default hidden behavior on the sphinx rendered scikit-learn.org. See: https://github.com/scikit-learn/scikit-learn/issues/21755 */display: inline-block !important;position: relative;}#sk-container-id-1 div.sk-text-repr-fallback {display: none;}</style><div id=\"sk-container-id-1\" class=\"sk-top-container\"><div class=\"sk-text-repr-fallback\"><pre>GridSearchCV(cv=5, estimator=SVC(probability=True),\n",
       "             param_grid={&#x27;C&#x27;: [10, 100, 1000, 2000, 3000],\n",
       "                         &#x27;gamma&#x27;: [&#x27;auto&#x27;, &#x27;scale&#x27;],\n",
       "                         &#x27;kernel&#x27;: [&#x27;linear&#x27;, &#x27;poly&#x27;, &#x27;rbf&#x27;, &#x27;sigmoid&#x27;]},\n",
       "             scoring=&#x27;f1_weighted&#x27;, verbose=3)</pre><b>In a Jupyter environment, please rerun this cell to show the HTML representation or trust the notebook. <br />On GitHub, the HTML representation is unable to render, please try loading this page with nbviewer.org.</b></div><div class=\"sk-container\" hidden><div class=\"sk-item sk-dashed-wrapped\"><div class=\"sk-label-container\"><div class=\"sk-label sk-toggleable\"><input class=\"sk-toggleable__control sk-hidden--visually\" id=\"sk-estimator-id-1\" type=\"checkbox\" ><label for=\"sk-estimator-id-1\" class=\"sk-toggleable__label sk-toggleable__label-arrow\">GridSearchCV</label><div class=\"sk-toggleable__content\"><pre>GridSearchCV(cv=5, estimator=SVC(probability=True),\n",
       "             param_grid={&#x27;C&#x27;: [10, 100, 1000, 2000, 3000],\n",
       "                         &#x27;gamma&#x27;: [&#x27;auto&#x27;, &#x27;scale&#x27;],\n",
       "                         &#x27;kernel&#x27;: [&#x27;linear&#x27;, &#x27;poly&#x27;, &#x27;rbf&#x27;, &#x27;sigmoid&#x27;]},\n",
       "             scoring=&#x27;f1_weighted&#x27;, verbose=3)</pre></div></div></div><div class=\"sk-parallel\"><div class=\"sk-parallel-item\"><div class=\"sk-item\"><div class=\"sk-label-container\"><div class=\"sk-label sk-toggleable\"><input class=\"sk-toggleable__control sk-hidden--visually\" id=\"sk-estimator-id-2\" type=\"checkbox\" ><label for=\"sk-estimator-id-2\" class=\"sk-toggleable__label sk-toggleable__label-arrow\">estimator: SVC</label><div class=\"sk-toggleable__content\"><pre>SVC(probability=True)</pre></div></div></div><div class=\"sk-serial\"><div class=\"sk-item\"><div class=\"sk-estimator sk-toggleable\"><input class=\"sk-toggleable__control sk-hidden--visually\" id=\"sk-estimator-id-3\" type=\"checkbox\" ><label for=\"sk-estimator-id-3\" class=\"sk-toggleable__label sk-toggleable__label-arrow\">SVC</label><div class=\"sk-toggleable__content\"><pre>SVC(probability=True)</pre></div></div></div></div></div></div></div></div></div></div>"
      ],
      "text/plain": [
       "GridSearchCV(cv=5, estimator=SVC(probability=True),\n",
       "             param_grid={'C': [10, 100, 1000, 2000, 3000],\n",
       "                         'gamma': ['auto', 'scale'],\n",
       "                         'kernel': ['linear', 'poly', 'rbf', 'sigmoid']},\n",
       "             scoring='f1_weighted', verbose=3)"
      ]
     },
     "execution_count": 11,
     "metadata": {},
     "output_type": "execute_result"
    }
   ],
   "source": [
    "#Model creation using SVC and Grid'_search_CV\n",
    "# note: to find ROC_AUC_score value, SVC(probability should be True)\n",
    "\n",
    "from sklearn.svm import SVC \n",
    "from sklearn.model_selection import GridSearchCV\n",
    "param_grid= {'kernel':[\"linear\", \"poly\", \"rbf\", \"sigmoid\"],\n",
    "             'C':[10,100,1000,2000,3000],\n",
    "             'gamma':['auto','scale']\n",
    "             }\n",
    "grid=GridSearchCV(SVC(probability=True),param_grid,cv=5,refit=True, verbose=3, scoring='f1_weighted')\n",
    "grid.fit(x_train,y_train)\n"
   ]
  },
  {
   "cell_type": "code",
   "execution_count": 12,
   "id": "b1f22a86-cc18-46a1-89ab-5b88fa10d832",
   "metadata": {},
   "outputs": [
    {
     "name": "stdout",
     "output_type": "stream",
     "text": [
      "{'C': 10, 'gamma': 'auto', 'kernel': 'rbf'}\n"
     ]
    }
   ],
   "source": [
    "#FIND THE BEST PARAMETER FOR THIS MODEL\n",
    "\n",
    "best_parameter=grid.best_params_\n",
    "print(best_parameter)\n"
   ]
  },
  {
   "cell_type": "code",
   "execution_count": 13,
   "id": "36ecf2fa-7459-4ce6-888f-94005fb9bbfa",
   "metadata": {},
   "outputs": [
    {
     "name": "stdout",
     "output_type": "stream",
     "text": [
      "    mean_fit_time  std_fit_time  mean_score_time  std_score_time param_C  \\\n",
      "0        0.003623      0.000829         0.001260        0.000075      10   \n",
      "1        0.003294      0.000441         0.001190        0.000004      10   \n",
      "2        0.002212      0.000169         0.001206        0.000005      10   \n",
      "3        0.001931      0.000107         0.001177        0.000040      10   \n",
      "4        0.003076      0.000223         0.001203        0.000043      10   \n",
      "5        0.003279      0.000373         0.001167        0.000016      10   \n",
      "6        0.002188      0.000159         0.001219        0.000012      10   \n",
      "7        0.001917      0.000147         0.001178        0.000017      10   \n",
      "8        0.013696      0.002643         0.001287        0.000181     100   \n",
      "9        0.012240      0.001926         0.001196        0.000018     100   \n",
      "10       0.003685      0.000287         0.001222        0.000009     100   \n",
      "11       0.001857      0.000082         0.001160        0.000008     100   \n",
      "12       0.013085      0.000753         0.001210        0.000014     100   \n",
      "13       0.014051      0.002304         0.001188        0.000016     100   \n",
      "14       0.003690      0.000505         0.001216        0.000009     100   \n",
      "15       0.001889      0.000083         0.001155        0.000009     100   \n",
      "16       0.097176      0.023905         0.001223        0.000053    1000   \n",
      "17       0.106808      0.044859         0.001204        0.000017    1000   \n",
      "18       0.012830      0.002772         0.001310        0.000128    1000   \n",
      "19       0.001929      0.000151         0.001167        0.000019    1000   \n",
      "20       0.098317      0.007790         0.001221        0.000032    1000   \n",
      "21       0.114630      0.041157         0.001225        0.000027    1000   \n",
      "22       0.012291      0.002286         0.001223        0.000007    1000   \n",
      "23       0.001922      0.000162         0.001170        0.000010    1000   \n",
      "24       0.164757      0.010276         0.001295        0.000042    2000   \n",
      "25       0.204402      0.080078         0.001257        0.000055    2000   \n",
      "26       0.018231      0.002939         0.001230        0.000018    2000   \n",
      "27       0.001904      0.000109         0.001177        0.000030    2000   \n",
      "28       0.158938      0.022565         0.001257        0.000037    2000   \n",
      "29       0.199863      0.082271         0.001287        0.000063    2000   \n",
      "30       0.019672      0.001946         0.001242        0.000024    2000   \n",
      "31       0.001933      0.000106         0.001182        0.000018    2000   \n",
      "32       0.284403      0.143770         0.001285        0.000037    3000   \n",
      "33       0.271576      0.115347         0.001212        0.000019    3000   \n",
      "34       0.025153      0.003454         0.001275        0.000075    3000   \n",
      "35       0.001944      0.000161         0.001178        0.000008    3000   \n",
      "36       0.291732      0.128659         0.001234        0.000012    3000   \n",
      "37       0.337614      0.134734         0.001232        0.000024    3000   \n",
      "38       0.025600      0.004462         0.001238        0.000009    3000   \n",
      "39       0.001982      0.000168         0.001163        0.000014    3000   \n",
      "\n",
      "   param_gamma param_kernel  \\\n",
      "0         auto       linear   \n",
      "1         auto         poly   \n",
      "2         auto          rbf   \n",
      "3         auto      sigmoid   \n",
      "4        scale       linear   \n",
      "5        scale         poly   \n",
      "6        scale          rbf   \n",
      "7        scale      sigmoid   \n",
      "8         auto       linear   \n",
      "9         auto         poly   \n",
      "10        auto          rbf   \n",
      "11        auto      sigmoid   \n",
      "12       scale       linear   \n",
      "13       scale         poly   \n",
      "14       scale          rbf   \n",
      "15       scale      sigmoid   \n",
      "16        auto       linear   \n",
      "17        auto         poly   \n",
      "18        auto          rbf   \n",
      "19        auto      sigmoid   \n",
      "20       scale       linear   \n",
      "21       scale         poly   \n",
      "22       scale          rbf   \n",
      "23       scale      sigmoid   \n",
      "24        auto       linear   \n",
      "25        auto         poly   \n",
      "26        auto          rbf   \n",
      "27        auto      sigmoid   \n",
      "28       scale       linear   \n",
      "29       scale         poly   \n",
      "30       scale          rbf   \n",
      "31       scale      sigmoid   \n",
      "32        auto       linear   \n",
      "33        auto         poly   \n",
      "34        auto          rbf   \n",
      "35        auto      sigmoid   \n",
      "36       scale       linear   \n",
      "37       scale         poly   \n",
      "38       scale          rbf   \n",
      "39       scale      sigmoid   \n",
      "\n",
      "                                               params  split0_test_score  \\\n",
      "0      {'C': 10, 'gamma': 'auto', 'kernel': 'linear'}           0.835985   \n",
      "1        {'C': 10, 'gamma': 'auto', 'kernel': 'poly'}           0.833024   \n",
      "2         {'C': 10, 'gamma': 'auto', 'kernel': 'rbf'}           0.892857   \n",
      "3     {'C': 10, 'gamma': 'auto', 'kernel': 'sigmoid'}           0.769053   \n",
      "4     {'C': 10, 'gamma': 'scale', 'kernel': 'linear'}           0.835985   \n",
      "5       {'C': 10, 'gamma': 'scale', 'kernel': 'poly'}           0.833024   \n",
      "6        {'C': 10, 'gamma': 'scale', 'kernel': 'rbf'}           0.892857   \n",
      "7    {'C': 10, 'gamma': 'scale', 'kernel': 'sigmoid'}           0.769053   \n",
      "8     {'C': 100, 'gamma': 'auto', 'kernel': 'linear'}           0.835985   \n",
      "9       {'C': 100, 'gamma': 'auto', 'kernel': 'poly'}           0.833024   \n",
      "10       {'C': 100, 'gamma': 'auto', 'kernel': 'rbf'}           0.855314   \n",
      "11   {'C': 100, 'gamma': 'auto', 'kernel': 'sigmoid'}           0.769053   \n",
      "12   {'C': 100, 'gamma': 'scale', 'kernel': 'linear'}           0.835985   \n",
      "13     {'C': 100, 'gamma': 'scale', 'kernel': 'poly'}           0.833024   \n",
      "14      {'C': 100, 'gamma': 'scale', 'kernel': 'rbf'}           0.855314   \n",
      "15  {'C': 100, 'gamma': 'scale', 'kernel': 'sigmoid'}           0.769053   \n",
      "16   {'C': 1000, 'gamma': 'auto', 'kernel': 'linear'}           0.835985   \n",
      "17     {'C': 1000, 'gamma': 'auto', 'kernel': 'poly'}           0.833024   \n",
      "18      {'C': 1000, 'gamma': 'auto', 'kernel': 'rbf'}           0.835985   \n",
      "19  {'C': 1000, 'gamma': 'auto', 'kernel': 'sigmoid'}           0.769053   \n",
      "20  {'C': 1000, 'gamma': 'scale', 'kernel': 'linear'}           0.835985   \n",
      "21    {'C': 1000, 'gamma': 'scale', 'kernel': 'poly'}           0.833024   \n",
      "22     {'C': 1000, 'gamma': 'scale', 'kernel': 'rbf'}           0.835985   \n",
      "23  {'C': 1000, 'gamma': 'scale', 'kernel': 'sigmo...           0.769053   \n",
      "24   {'C': 2000, 'gamma': 'auto', 'kernel': 'linear'}           0.835985   \n",
      "25     {'C': 2000, 'gamma': 'auto', 'kernel': 'poly'}           0.833024   \n",
      "26      {'C': 2000, 'gamma': 'auto', 'kernel': 'rbf'}           0.819142   \n",
      "27  {'C': 2000, 'gamma': 'auto', 'kernel': 'sigmoid'}           0.769053   \n",
      "28  {'C': 2000, 'gamma': 'scale', 'kernel': 'linear'}           0.835985   \n",
      "29    {'C': 2000, 'gamma': 'scale', 'kernel': 'poly'}           0.833024   \n",
      "30     {'C': 2000, 'gamma': 'scale', 'kernel': 'rbf'}           0.819142   \n",
      "31  {'C': 2000, 'gamma': 'scale', 'kernel': 'sigmo...           0.769053   \n",
      "32   {'C': 3000, 'gamma': 'auto', 'kernel': 'linear'}           0.835985   \n",
      "33     {'C': 3000, 'gamma': 'auto', 'kernel': 'poly'}           0.833024   \n",
      "34      {'C': 3000, 'gamma': 'auto', 'kernel': 'rbf'}           0.819142   \n",
      "35  {'C': 3000, 'gamma': 'auto', 'kernel': 'sigmoid'}           0.769053   \n",
      "36  {'C': 3000, 'gamma': 'scale', 'kernel': 'linear'}           0.835985   \n",
      "37    {'C': 3000, 'gamma': 'scale', 'kernel': 'poly'}           0.833024   \n",
      "38     {'C': 3000, 'gamma': 'scale', 'kernel': 'rbf'}           0.819142   \n",
      "39  {'C': 3000, 'gamma': 'scale', 'kernel': 'sigmo...           0.769053   \n",
      "\n",
      "    split1_test_score  split2_test_score  split3_test_score  \\\n",
      "0            0.782971           0.644599           0.927778   \n",
      "1            0.799537           0.737557           0.928571   \n",
      "2            0.875644           0.841398           0.947015   \n",
      "3            0.733523           0.730543           0.753871   \n",
      "4            0.782971           0.644599           0.927778   \n",
      "5            0.799537           0.737557           0.928571   \n",
      "6            0.875644           0.841398           0.947015   \n",
      "7            0.733523           0.610390           0.753871   \n",
      "8            0.782971           0.644599           0.927778   \n",
      "9            0.799537           0.715601           0.928571   \n",
      "10           0.892857           0.859435           0.929144   \n",
      "11           0.714286           0.750000           0.686036   \n",
      "12           0.782971           0.644599           0.927778   \n",
      "13           0.799537           0.737557           0.928571   \n",
      "14           0.892857           0.859435           0.929144   \n",
      "15           0.714286           0.750000           0.753871   \n",
      "16           0.782971           0.644599           0.927778   \n",
      "17           0.799537           0.715601           0.928571   \n",
      "18           0.875644           0.858503           0.911105   \n",
      "19           0.714286           0.750000           0.694864   \n",
      "20           0.782971           0.644599           0.927778   \n",
      "21           0.799537           0.715601           0.928571   \n",
      "22           0.875644           0.858503           0.911105   \n",
      "23           0.714286           0.750000           0.694864   \n",
      "24           0.782971           0.644599           0.927778   \n",
      "25           0.799537           0.715601           0.928571   \n",
      "26           0.857143           0.858503           0.911105   \n",
      "27           0.714286           0.750000           0.694864   \n",
      "28           0.782971           0.644599           0.927778   \n",
      "29           0.799537           0.715601           0.928571   \n",
      "30           0.874254           0.858503           0.911105   \n",
      "31           0.714286           0.750000           0.694864   \n",
      "32           0.782971           0.644599           0.927778   \n",
      "33           0.799537           0.715601           0.928571   \n",
      "34           0.855314           0.840114           0.892857   \n",
      "35           0.714286           0.750000           0.694864   \n",
      "36           0.782971           0.644599           0.927778   \n",
      "37           0.799537           0.715601           0.928571   \n",
      "38           0.855314           0.840114           0.892857   \n",
      "39           0.714286           0.750000           0.694864   \n",
      "\n",
      "    split4_test_score  mean_test_score  std_test_score  rank_test_score  \n",
      "0            0.890114         0.816289        0.098849               21  \n",
      "1            0.888158         0.837369        0.066798               12  \n",
      "2            0.946153         0.900613        0.041029                1  \n",
      "3            0.759910         0.749380        0.014996               32  \n",
      "4            0.890114         0.816289        0.098849               21  \n",
      "5            0.888158         0.837369        0.066798               12  \n",
      "6            0.946153         0.900613        0.041029                1  \n",
      "7            0.759910         0.725349        0.058652               40  \n",
      "8            0.890114         0.816289        0.098849               21  \n",
      "9            0.907658         0.836878        0.076857               14  \n",
      "10           0.928571         0.893064        0.031996                3  \n",
      "11           0.759910         0.735857        0.031074               39  \n",
      "12           0.890114         0.816289        0.098849               21  \n",
      "13           0.907658         0.841269        0.070136               11  \n",
      "14           0.928571         0.893064        0.031996                3  \n",
      "15           0.759910         0.749424        0.018709               31  \n",
      "16           0.890114         0.816289        0.098849               21  \n",
      "17           0.907658         0.836878        0.076857               14  \n",
      "18           0.890114         0.874270        0.025784                7  \n",
      "19           0.759910         0.737623        0.028322               33  \n",
      "20           0.890114         0.816289        0.098849               21  \n",
      "21           0.907658         0.836878        0.076857               14  \n",
      "22           0.890114         0.874270        0.025784                7  \n",
      "23           0.759910         0.737623        0.028322               33  \n",
      "24           0.890114         0.816289        0.098849               21  \n",
      "25           0.907658         0.836878        0.076857               14  \n",
      "26           0.927778         0.874734        0.039496                6  \n",
      "27           0.759910         0.737623        0.028322               33  \n",
      "28           0.890114         0.816289        0.098849               21  \n",
      "29           0.907658         0.836878        0.076857               14  \n",
      "30           0.927778         0.878157        0.038554                5  \n",
      "31           0.759910         0.737623        0.028322               33  \n",
      "32           0.890114         0.816289        0.098849               21  \n",
      "33           0.907658         0.836878        0.076857               14  \n",
      "34           0.927778         0.867041        0.038762                9  \n",
      "35           0.759910         0.737623        0.028322               33  \n",
      "36           0.890114         0.816289        0.098849               21  \n",
      "37           0.907658         0.836878        0.076857               14  \n",
      "38           0.927778         0.867041        0.038762                9  \n",
      "39           0.759910         0.737623        0.028322               33  \n"
     ]
    }
   ],
   "source": [
    "cv_results=grid.cv_results_\n",
    "table=pd.DataFrame.from_dict(cv_results)\n",
    "print (table)"
   ]
  },
  {
   "cell_type": "code",
   "execution_count": 14,
   "id": "ccc2daf4-c9be-45b7-abb2-8fad55df146d",
   "metadata": {},
   "outputs": [],
   "source": [
    "ypred=grid.predict(x_test)"
   ]
  },
  {
   "cell_type": "code",
   "execution_count": 15,
   "id": "b63362a9-eac8-49d5-82fa-2ac6622b9387",
   "metadata": {},
   "outputs": [
    {
     "name": "stdout",
     "output_type": "stream",
     "text": [
      "[[73  6]\n",
      " [ 4 37]]\n"
     ]
    }
   ],
   "source": [
    "#finding confusion matrix\n",
    "\n",
    "from sklearn.metrics import confusion_matrix\n",
    "cm=confusion_matrix(y_test,ypred)\n",
    "print(cm)"
   ]
  },
  {
   "cell_type": "code",
   "execution_count": 16,
   "id": "cf39eec7-869a-43bf-8f9f-96aa25274ca3",
   "metadata": {},
   "outputs": [
    {
     "name": "stdout",
     "output_type": "stream",
     "text": [
      "              precision    recall  f1-score   support\n",
      "\n",
      "           0       0.95      0.92      0.94        79\n",
      "           1       0.86      0.90      0.88        41\n",
      "\n",
      "    accuracy                           0.92       120\n",
      "   macro avg       0.90      0.91      0.91       120\n",
      "weighted avg       0.92      0.92      0.92       120\n",
      "\n"
     ]
    }
   ],
   "source": [
    "#getting the classification report\n",
    "from sklearn.metrics import classification_report\n",
    "clf_report=classification_report(y_test,ypred)\n",
    "print(clf_report) "
   ]
  },
  {
   "cell_type": "code",
   "execution_count": 17,
   "id": "728f68ae-c553-4acf-9948-27d256f5041e",
   "metadata": {},
   "outputs": [
    {
     "data": {
      "text/plain": [
       "0.9654214263661625"
      ]
     },
     "execution_count": 17,
     "metadata": {},
     "output_type": "execute_result"
    }
   ],
   "source": [
    "# Finding the roc_auc_score value\n",
    "from sklearn.metrics import roc_auc_score\n",
    "roc_auc_score(y_test, grid.predict_proba(x_test)[:,1])"
   ]
  },
  {
   "cell_type": "code",
   "execution_count": 18,
   "id": "04f90c07-4689-4a03-8e3d-c88ab86ca704",
   "metadata": {},
   "outputs": [
    {
     "name": "stderr",
     "output_type": "stream",
     "text": [
      "/opt/anaconda3/lib/python3.11/site-packages/sklearn/base.py:439: UserWarning: X does not have valid feature names, but StandardScaler was fitted with feature names\n",
      "  warnings.warn(\n"
     ]
    },
    {
     "data": {
      "text/plain": [
       "array([1])"
      ]
     },
     "execution_count": 18,
     "metadata": {},
     "output_type": "execute_result"
    }
   ],
   "source": [
    "input=SS.transform([[50,20000,0]])\n",
    "grid.predict(input)"
   ]
  },
  {
   "cell_type": "code",
   "execution_count": null,
   "id": "d225953d-6e0f-4827-8483-b26b033515b3",
   "metadata": {},
   "outputs": [],
   "source": []
  }
 ],
 "metadata": {
  "kernelspec": {
   "display_name": "Python 3 (ipykernel)",
   "language": "python",
   "name": "python3"
  },
  "language_info": {
   "codemirror_mode": {
    "name": "ipython",
    "version": 3
   },
   "file_extension": ".py",
   "mimetype": "text/x-python",
   "name": "python",
   "nbconvert_exporter": "python",
   "pygments_lexer": "ipython3",
   "version": "3.11.7"
  }
 },
 "nbformat": 4,
 "nbformat_minor": 5
}
