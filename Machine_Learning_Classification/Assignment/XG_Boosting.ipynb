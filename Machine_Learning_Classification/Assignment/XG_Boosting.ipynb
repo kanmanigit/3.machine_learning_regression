{
 "cells": [
  {
   "cell_type": "code",
   "execution_count": 1,
   "id": "572cff17-add4-4bca-a59a-04b4c239aa84",
   "metadata": {},
   "outputs": [],
   "source": [
    "import pandas as pd\n",
    "import numpy as np\n",
    "import matplotlib as plot"
   ]
  },
  {
   "cell_type": "code",
   "execution_count": 2,
   "id": "43a0c760-4ef6-4f37-89c1-e8091a6c7ec1",
   "metadata": {},
   "outputs": [],
   "source": [
    "dataset=pd.read_csv(\"CKD.csv\")\n",
    "#dataset"
   ]
  },
  {
   "cell_type": "code",
   "execution_count": 3,
   "id": "1c6aaafb-2d1c-466f-a97a-8e33655be347",
   "metadata": {},
   "outputs": [],
   "source": [
    "dataset=pd.get_dummies(dataset, drop_first=True, dtype=int)\n",
    "#dataset"
   ]
  },
  {
   "cell_type": "code",
   "execution_count": 4,
   "id": "bb4c0363-4e72-419d-a267-ab1711a504db",
   "metadata": {},
   "outputs": [
    {
     "data": {
      "text/plain": [
       "Index(['age', 'bp', 'al', 'su', 'bgr', 'bu', 'sc', 'sod', 'pot', 'hrmo', 'pcv',\n",
       "       'wc', 'rc', 'sg_b', 'sg_c', 'sg_d', 'sg_e', 'rbc_normal', 'pc_normal',\n",
       "       'pcc_present', 'ba_present', 'htn_yes', 'dm_yes', 'cad_yes',\n",
       "       'appet_yes', 'pe_yes', 'ane_yes', 'classification_yes'],\n",
       "      dtype='object')"
      ]
     },
     "execution_count": 4,
     "metadata": {},
     "output_type": "execute_result"
    }
   ],
   "source": [
    "dataset.columns"
   ]
  },
  {
   "cell_type": "code",
   "execution_count": 5,
   "id": "cbb32fcb-8353-4eb3-b0a3-329d82de1703",
   "metadata": {},
   "outputs": [],
   "source": [
    "#Split the data\n",
    "independent=dataset[['age', 'bp', 'al', 'su', 'bgr', 'bu', 'sc', 'sod', 'pot', 'hrmo', 'pcv',\n",
    "       'wc', 'rc', 'sg_b', 'sg_c', 'sg_d', 'sg_e', 'rbc_normal', 'pc_normal',\n",
    "       'pcc_present', 'ba_present', 'htn_yes', 'dm_yes', 'cad_yes',\n",
    "       'appet_yes', 'pe_yes', 'ane_yes']]\n",
    "dependent=dataset[['classification_yes']]"
   ]
  },
  {
   "cell_type": "code",
   "execution_count": 6,
   "id": "8933b15d-ed2c-4bee-a271-daaac1788a5c",
   "metadata": {},
   "outputs": [
    {
     "data": {
      "text/plain": [
       "classification_yes\n",
       "1    249\n",
       "0    150\n",
       "Name: count, dtype: int64"
      ]
     },
     "execution_count": 6,
     "metadata": {},
     "output_type": "execute_result"
    }
   ],
   "source": [
    "dataset['classification_yes'].value_counts()"
   ]
  },
  {
   "cell_type": "code",
   "execution_count": 7,
   "id": "36a5dba9-c407-4df2-9ece-7dae780a67df",
   "metadata": {},
   "outputs": [],
   "source": [
    "#Split the datas for training and test data set\n",
    "#from sklearn.model_selection import train_test_split\n",
    "#x_train,x_test,y_train,y_test=train_test_split(independent,dependent,test_size=0.30, random_state=0)\n",
    "#x_train,x_test"
   ]
  },
  {
   "cell_type": "code",
   "execution_count": 8,
   "id": "4882285d-ef80-409c-a821-cd49c52f2e88",
   "metadata": {},
   "outputs": [],
   "source": [
    "#scale the data to a range using Standard scaler\n",
    "from sklearn.preprocessing import StandardScaler\n",
    "SS=StandardScaler()\n",
    "independent=SS.fit_transform(independent)\n",
    "\n"
   ]
  },
  {
   "cell_type": "code",
   "execution_count": 9,
   "id": "075c757c-4fab-43e3-9537-d456a9c2198c",
   "metadata": {},
   "outputs": [],
   "source": [
    "#Model creation \n",
    "import xgboost\n",
    "from sklearn.model_selection import GridSearchCV\n",
    "param_grid={'n_estimators' :[50], 'learning_rate':[1.0],'max_depth':[1], 'random_state':[0] }\n",
    "\n",
    "model= GridSearchCV(xgboost.XGBClassifier(),param_grid, refit=True, cv=5, scoring='f1_weighted')\n",
    "#help(model)\n",
    "model.fit(independent,dependent)\n",
    "ypred=model.predict(independent)"
   ]
  },
  {
   "cell_type": "code",
   "execution_count": 10,
   "id": "f2fa3b7d-1832-4642-be01-fc6257bb0bb3",
   "metadata": {},
   "outputs": [
    {
     "name": "stdout",
     "output_type": "stream",
     "text": [
      "[[150   0]\n",
      " [  0 249]]\n"
     ]
    }
   ],
   "source": [
    "# Confusion matrix\n",
    "from sklearn.metrics import confusion_matrix\n",
    "cm=confusion_matrix(dependent,ypred)\n",
    "print (cm)\n"
   ]
  },
  {
   "cell_type": "code",
   "execution_count": 11,
   "id": "7146000f-4a8b-4764-b703-0799eb6cb112",
   "metadata": {},
   "outputs": [
    {
     "name": "stdout",
     "output_type": "stream",
     "text": [
      "              precision    recall  f1-score   support\n",
      "\n",
      "           0       1.00      1.00      1.00       150\n",
      "           1       1.00      1.00      1.00       249\n",
      "\n",
      "    accuracy                           1.00       399\n",
      "   macro avg       1.00      1.00      1.00       399\n",
      "weighted avg       1.00      1.00      1.00       399\n",
      "\n"
     ]
    }
   ],
   "source": [
    "#classification report\n",
    "from sklearn.metrics import classification_report\n",
    "clf_report=classification_report(dependent,ypred)\n",
    "print(clf_report)"
   ]
  },
  {
   "cell_type": "code",
   "execution_count": 12,
   "id": "6dea0676-17fa-473d-8839-fcd5b53c0032",
   "metadata": {},
   "outputs": [
    {
     "name": "stdout",
     "output_type": "stream",
     "text": [
      "ROC_AUC_Score=1.0\n"
     ]
    }
   ],
   "source": [
    "#finidng roc_auc score\n",
    "from sklearn.metrics import roc_auc_score\n",
    "roc_auc_score=roc_auc_score(dependent, model.predict_proba(independent)[:,1])\n",
    "print(\"ROC_AUC_Score={}\".format(roc_auc_score))"
   ]
  },
  {
   "cell_type": "code",
   "execution_count": null,
   "id": "09915f45-7f7c-4eaa-9ad6-2cc5c08a4901",
   "metadata": {},
   "outputs": [],
   "source": []
  }
 ],
 "metadata": {
  "kernelspec": {
   "display_name": "Python 3 (ipykernel)",
   "language": "python",
   "name": "python3"
  },
  "language_info": {
   "codemirror_mode": {
    "name": "ipython",
    "version": 3
   },
   "file_extension": ".py",
   "mimetype": "text/x-python",
   "name": "python",
   "nbconvert_exporter": "python",
   "pygments_lexer": "ipython3",
   "version": "3.11.7"
  }
 },
 "nbformat": 4,
 "nbformat_minor": 5
}
