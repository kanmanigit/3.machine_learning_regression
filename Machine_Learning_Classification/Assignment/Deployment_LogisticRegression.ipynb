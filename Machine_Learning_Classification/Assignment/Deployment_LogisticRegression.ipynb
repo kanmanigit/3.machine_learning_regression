{
 "cells": [
  {
   "cell_type": "code",
   "execution_count": 1,
   "id": "82ad0306-7d3f-4f49-804d-f38e681c399b",
   "metadata": {},
   "outputs": [],
   "source": [
    "import pickle\n",
    "import pandas as pd\n",
    "model=pickle.load(open(\"Final_model_Logistic_classification\",'rb'))"
   ]
  },
  {
   "cell_type": "code",
   "execution_count": 2,
   "id": "5b647546-e1ab-4c54-90d6-a2e4903e076d",
   "metadata": {},
   "outputs": [],
   "source": [
    "#dataset=pd.read_csv(\"CKD.csv\")\n",
    "#dataset"
   ]
  },
  {
   "cell_type": "code",
   "execution_count": 3,
   "id": "1cf04064-a35e-421c-83e5-cdab9e26bbf6",
   "metadata": {},
   "outputs": [],
   "source": [
    "SSX=pickle.load(open(\"SS.pkl\",'rb'))"
   ]
  },
  {
   "cell_type": "code",
   "execution_count": 4,
   "id": "595eb6b7-3e45-4fe8-b231-63a0c17e16be",
   "metadata": {},
   "outputs": [],
   "source": [
    "#dataset=pd.get_dummies(dataset, drop_first=True, dtype=int)"
   ]
  },
  {
   "cell_type": "code",
   "execution_count": 5,
   "id": "ef09da13-2df4-41b5-9c8a-c29a988863f2",
   "metadata": {},
   "outputs": [],
   "source": [
    "#Split the data\n",
    "#independent=dataset[['age', 'bp', 'al', 'su', 'bgr', 'bu', 'sc', 'sod', 'pot', 'hrmo', 'pcv',\n",
    " #      'wc', 'rc', 'sg_b', 'sg_c', 'sg_d', 'sg_e', 'rbc_normal', 'pc_normal',\n",
    " #      'pcc_present', 'ba_present', 'htn_yes', 'dm_yes', 'cad_yes',\n",
    " #      'appet_yes', 'pe_yes', 'ane_yes']]\n",
    "#dependent=dataset[['classification_yes']]"
   ]
  },
  {
   "cell_type": "code",
   "execution_count": 6,
   "id": "a60dd9c7-d286-4eac-9d1c-f8258baa9eba",
   "metadata": {},
   "outputs": [],
   "source": [
    "#Split the datas for training and test data set\n",
    "#from sklearn.model_selection import train_test_split\n",
    "#x_train,x_test,y_train,y_test=train_test_split(independent,dependent,test_size=0.30, random_state=0)"
   ]
  },
  {
   "cell_type": "code",
   "execution_count": 7,
   "id": "004e7f3c-7228-49b0-840a-8f69bbd7ad3b",
   "metadata": {},
   "outputs": [],
   "source": [
    "#scale the data to a range using Standard scaler\n",
    "#from sklearn.preprocessing import StandardScaler\n",
    "#SS=StandardScaler()\n",
    "#x_train=SS.fit_transform(x_train)\n",
    "#x_test=SS.transform(x_test)\n",
    "#x_train,x_test"
   ]
  },
  {
   "cell_type": "code",
   "execution_count": 8,
   "id": "93307abb-79ee-4431-b865-abbcb0fbecba",
   "metadata": {},
   "outputs": [
    {
     "name": "stderr",
     "output_type": "stream",
     "text": [
      "/opt/anaconda3/lib/python3.11/site-packages/sklearn/base.py:439: UserWarning: X does not have valid feature names, but StandardScaler was fitted with feature names\n",
      "  warnings.warn(\n"
     ]
    },
    {
     "data": {
      "text/plain": [
       "array([1])"
      ]
     },
     "execution_count": 8,
     "metadata": {},
     "output_type": "execute_result"
    }
   ],
   "source": [
    "input=SSX.transform([[2,76,3,0,148,57,3,137,4,12,38,8408,4,0,1,0,0,1,0,0,0,0,0,0,1,1,0]])\n",
    "model.predict(input)\n"
   ]
  },
  {
   "cell_type": "code",
   "execution_count": null,
   "id": "703d8b83-1923-4844-afa8-4fc02d1a3abc",
   "metadata": {},
   "outputs": [],
   "source": []
  },
  {
   "cell_type": "code",
   "execution_count": null,
   "id": "e13ebe58-c450-4cdd-a5ed-ab22389c098c",
   "metadata": {},
   "outputs": [],
   "source": []
  }
 ],
 "metadata": {
  "kernelspec": {
   "display_name": "Python 3 (ipykernel)",
   "language": "python",
   "name": "python3"
  },
  "language_info": {
   "codemirror_mode": {
    "name": "ipython",
    "version": 3
   },
   "file_extension": ".py",
   "mimetype": "text/x-python",
   "name": "python",
   "nbconvert_exporter": "python",
   "pygments_lexer": "ipython3",
   "version": "3.11.7"
  }
 },
 "nbformat": 4,
 "nbformat_minor": 5
}
