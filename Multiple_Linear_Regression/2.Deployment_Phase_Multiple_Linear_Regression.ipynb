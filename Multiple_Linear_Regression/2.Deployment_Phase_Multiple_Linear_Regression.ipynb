{
 "cells": [
  {
   "cell_type": "code",
   "execution_count": 1,
   "id": "7bde4712-35a0-464a-9fab-50c093c778ff",
   "metadata": {},
   "outputs": [
    {
     "name": "stdin",
     "output_type": "stream",
     "text": [
      "enter R&D Spend input 20000\n",
      "enter Administration 30000\n",
      "enter Marketing Spend input 40000\n",
      "enter input 0 or 1 for Sate Florida 1\n",
      "enter 0/1 for state newyork  0\n"
     ]
    },
    {
     "name": "stderr",
     "output_type": "stream",
     "text": [
      "/opt/anaconda3/lib/python3.11/site-packages/sklearn/base.py:439: UserWarning: X does not have valid feature names, but LinearRegression was fitted with feature names\n",
      "  warnings.warn(\n"
     ]
    },
    {
     "data": {
      "text/plain": [
       "array([[64908.55520033]])"
      ]
     },
     "execution_count": 1,
     "metadata": {},
     "output_type": "execute_result"
    }
   ],
   "source": [
    "import pickle\n",
    "#load the model\n",
    "loaded_model=pickle.load(open('finalized_model_linear.sac','rb'))\n",
    "\n",
    "rd_input=float(input(\"enter R&D Spend input\"))\n",
    "admin_input= float(input(\"enter Administration\"))\n",
    "market_spend_input=float(input(\"enter Marketing Spend input\"))\n",
    "new_input=int(input(\"enter input 0 or 1 for Sate Florida\"))\n",
    "new_input_state_florida= int(input(\"enter 0/1 for state newyork \"))\n",
    "                                    \n",
    "loaded_model.predict([[rd_input,admin_input,market_spend_input,new_input,new_input_state_florida]])"
   ]
  },
  {
   "cell_type": "code",
   "execution_count": null,
   "id": "6995c446-525d-45be-8fd6-89e7af45b51b",
   "metadata": {},
   "outputs": [],
   "source": [
    "\n"
   ]
  },
  {
   "cell_type": "code",
   "execution_count": null,
   "id": "e890794f-c856-4795-801c-dc94542adec9",
   "metadata": {},
   "outputs": [],
   "source": []
  }
 ],
 "metadata": {
  "kernelspec": {
   "display_name": "Python 3 (ipykernel)",
   "language": "python",
   "name": "python3"
  },
  "language_info": {
   "codemirror_mode": {
    "name": "ipython",
    "version": 3
   },
   "file_extension": ".py",
   "mimetype": "text/x-python",
   "name": "python",
   "nbconvert_exporter": "python",
   "pygments_lexer": "ipython3",
   "version": "3.11.7"
  }
 },
 "nbformat": 4,
 "nbformat_minor": 5
}
