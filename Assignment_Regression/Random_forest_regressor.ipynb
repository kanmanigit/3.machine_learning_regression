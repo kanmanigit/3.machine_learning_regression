{
 "cells": [
  {
   "cell_type": "code",
   "execution_count": 1,
   "id": "c34cd515-fc2d-48ea-bdec-c54667267971",
   "metadata": {},
   "outputs": [],
   "source": [
    "import pandas as pd\n",
    "dataset=pd.read_csv(\"insurance_pre.csv\")\n"
   ]
  },
  {
   "cell_type": "code",
   "execution_count": 2,
   "id": "3c8c8fc3-e615-40d7-a5f6-e9ef71a4b027",
   "metadata": {},
   "outputs": [
    {
     "data": {
      "text/html": [
       "<div>\n",
       "<style scoped>\n",
       "    .dataframe tbody tr th:only-of-type {\n",
       "        vertical-align: middle;\n",
       "    }\n",
       "\n",
       "    .dataframe tbody tr th {\n",
       "        vertical-align: top;\n",
       "    }\n",
       "\n",
       "    .dataframe thead th {\n",
       "        text-align: right;\n",
       "    }\n",
       "</style>\n",
       "<table border=\"1\" class=\"dataframe\">\n",
       "  <thead>\n",
       "    <tr style=\"text-align: right;\">\n",
       "      <th></th>\n",
       "      <th>age</th>\n",
       "      <th>sex</th>\n",
       "      <th>bmi</th>\n",
       "      <th>children</th>\n",
       "      <th>smoker</th>\n",
       "      <th>charges</th>\n",
       "    </tr>\n",
       "  </thead>\n",
       "  <tbody>\n",
       "    <tr>\n",
       "      <th>0</th>\n",
       "      <td>19</td>\n",
       "      <td>female</td>\n",
       "      <td>27.900</td>\n",
       "      <td>0</td>\n",
       "      <td>yes</td>\n",
       "      <td>16884.92400</td>\n",
       "    </tr>\n",
       "    <tr>\n",
       "      <th>1</th>\n",
       "      <td>18</td>\n",
       "      <td>male</td>\n",
       "      <td>33.770</td>\n",
       "      <td>1</td>\n",
       "      <td>no</td>\n",
       "      <td>1725.55230</td>\n",
       "    </tr>\n",
       "    <tr>\n",
       "      <th>2</th>\n",
       "      <td>28</td>\n",
       "      <td>male</td>\n",
       "      <td>33.000</td>\n",
       "      <td>3</td>\n",
       "      <td>no</td>\n",
       "      <td>4449.46200</td>\n",
       "    </tr>\n",
       "    <tr>\n",
       "      <th>3</th>\n",
       "      <td>33</td>\n",
       "      <td>male</td>\n",
       "      <td>22.705</td>\n",
       "      <td>0</td>\n",
       "      <td>no</td>\n",
       "      <td>21984.47061</td>\n",
       "    </tr>\n",
       "    <tr>\n",
       "      <th>4</th>\n",
       "      <td>32</td>\n",
       "      <td>male</td>\n",
       "      <td>28.880</td>\n",
       "      <td>0</td>\n",
       "      <td>no</td>\n",
       "      <td>3866.85520</td>\n",
       "    </tr>\n",
       "    <tr>\n",
       "      <th>...</th>\n",
       "      <td>...</td>\n",
       "      <td>...</td>\n",
       "      <td>...</td>\n",
       "      <td>...</td>\n",
       "      <td>...</td>\n",
       "      <td>...</td>\n",
       "    </tr>\n",
       "    <tr>\n",
       "      <th>1333</th>\n",
       "      <td>50</td>\n",
       "      <td>male</td>\n",
       "      <td>30.970</td>\n",
       "      <td>3</td>\n",
       "      <td>no</td>\n",
       "      <td>10600.54830</td>\n",
       "    </tr>\n",
       "    <tr>\n",
       "      <th>1334</th>\n",
       "      <td>18</td>\n",
       "      <td>female</td>\n",
       "      <td>31.920</td>\n",
       "      <td>0</td>\n",
       "      <td>no</td>\n",
       "      <td>2205.98080</td>\n",
       "    </tr>\n",
       "    <tr>\n",
       "      <th>1335</th>\n",
       "      <td>18</td>\n",
       "      <td>female</td>\n",
       "      <td>36.850</td>\n",
       "      <td>0</td>\n",
       "      <td>no</td>\n",
       "      <td>1629.83350</td>\n",
       "    </tr>\n",
       "    <tr>\n",
       "      <th>1336</th>\n",
       "      <td>21</td>\n",
       "      <td>female</td>\n",
       "      <td>25.800</td>\n",
       "      <td>0</td>\n",
       "      <td>no</td>\n",
       "      <td>2007.94500</td>\n",
       "    </tr>\n",
       "    <tr>\n",
       "      <th>1337</th>\n",
       "      <td>61</td>\n",
       "      <td>female</td>\n",
       "      <td>29.070</td>\n",
       "      <td>0</td>\n",
       "      <td>yes</td>\n",
       "      <td>29141.36030</td>\n",
       "    </tr>\n",
       "  </tbody>\n",
       "</table>\n",
       "<p>1338 rows × 6 columns</p>\n",
       "</div>"
      ],
      "text/plain": [
       "      age     sex     bmi  children smoker      charges\n",
       "0      19  female  27.900         0    yes  16884.92400\n",
       "1      18    male  33.770         1     no   1725.55230\n",
       "2      28    male  33.000         3     no   4449.46200\n",
       "3      33    male  22.705         0     no  21984.47061\n",
       "4      32    male  28.880         0     no   3866.85520\n",
       "...   ...     ...     ...       ...    ...          ...\n",
       "1333   50    male  30.970         3     no  10600.54830\n",
       "1334   18  female  31.920         0     no   2205.98080\n",
       "1335   18  female  36.850         0     no   1629.83350\n",
       "1336   21  female  25.800         0     no   2007.94500\n",
       "1337   61  female  29.070         0    yes  29141.36030\n",
       "\n",
       "[1338 rows x 6 columns]"
      ]
     },
     "execution_count": 2,
     "metadata": {},
     "output_type": "execute_result"
    }
   ],
   "source": [
    "dataset"
   ]
  },
  {
   "cell_type": "code",
   "execution_count": 3,
   "id": "09ddd4c3-9a32-4747-b8db-9a0d48289912",
   "metadata": {},
   "outputs": [],
   "source": [
    "#convert dataset as numerical data\n",
    "dataset=pd.get_dummies(dataset, drop_first=True, dtype=int)"
   ]
  },
  {
   "cell_type": "code",
   "execution_count": 4,
   "id": "754a2ff1-6fea-4a3c-8570-8e37d754795f",
   "metadata": {},
   "outputs": [
    {
     "data": {
      "text/html": [
       "<div>\n",
       "<style scoped>\n",
       "    .dataframe tbody tr th:only-of-type {\n",
       "        vertical-align: middle;\n",
       "    }\n",
       "\n",
       "    .dataframe tbody tr th {\n",
       "        vertical-align: top;\n",
       "    }\n",
       "\n",
       "    .dataframe thead th {\n",
       "        text-align: right;\n",
       "    }\n",
       "</style>\n",
       "<table border=\"1\" class=\"dataframe\">\n",
       "  <thead>\n",
       "    <tr style=\"text-align: right;\">\n",
       "      <th></th>\n",
       "      <th>age</th>\n",
       "      <th>bmi</th>\n",
       "      <th>children</th>\n",
       "      <th>charges</th>\n",
       "      <th>sex_male</th>\n",
       "      <th>smoker_yes</th>\n",
       "    </tr>\n",
       "  </thead>\n",
       "  <tbody>\n",
       "    <tr>\n",
       "      <th>0</th>\n",
       "      <td>19</td>\n",
       "      <td>27.900</td>\n",
       "      <td>0</td>\n",
       "      <td>16884.92400</td>\n",
       "      <td>0</td>\n",
       "      <td>1</td>\n",
       "    </tr>\n",
       "    <tr>\n",
       "      <th>1</th>\n",
       "      <td>18</td>\n",
       "      <td>33.770</td>\n",
       "      <td>1</td>\n",
       "      <td>1725.55230</td>\n",
       "      <td>1</td>\n",
       "      <td>0</td>\n",
       "    </tr>\n",
       "    <tr>\n",
       "      <th>2</th>\n",
       "      <td>28</td>\n",
       "      <td>33.000</td>\n",
       "      <td>3</td>\n",
       "      <td>4449.46200</td>\n",
       "      <td>1</td>\n",
       "      <td>0</td>\n",
       "    </tr>\n",
       "    <tr>\n",
       "      <th>3</th>\n",
       "      <td>33</td>\n",
       "      <td>22.705</td>\n",
       "      <td>0</td>\n",
       "      <td>21984.47061</td>\n",
       "      <td>1</td>\n",
       "      <td>0</td>\n",
       "    </tr>\n",
       "    <tr>\n",
       "      <th>4</th>\n",
       "      <td>32</td>\n",
       "      <td>28.880</td>\n",
       "      <td>0</td>\n",
       "      <td>3866.85520</td>\n",
       "      <td>1</td>\n",
       "      <td>0</td>\n",
       "    </tr>\n",
       "    <tr>\n",
       "      <th>...</th>\n",
       "      <td>...</td>\n",
       "      <td>...</td>\n",
       "      <td>...</td>\n",
       "      <td>...</td>\n",
       "      <td>...</td>\n",
       "      <td>...</td>\n",
       "    </tr>\n",
       "    <tr>\n",
       "      <th>1333</th>\n",
       "      <td>50</td>\n",
       "      <td>30.970</td>\n",
       "      <td>3</td>\n",
       "      <td>10600.54830</td>\n",
       "      <td>1</td>\n",
       "      <td>0</td>\n",
       "    </tr>\n",
       "    <tr>\n",
       "      <th>1334</th>\n",
       "      <td>18</td>\n",
       "      <td>31.920</td>\n",
       "      <td>0</td>\n",
       "      <td>2205.98080</td>\n",
       "      <td>0</td>\n",
       "      <td>0</td>\n",
       "    </tr>\n",
       "    <tr>\n",
       "      <th>1335</th>\n",
       "      <td>18</td>\n",
       "      <td>36.850</td>\n",
       "      <td>0</td>\n",
       "      <td>1629.83350</td>\n",
       "      <td>0</td>\n",
       "      <td>0</td>\n",
       "    </tr>\n",
       "    <tr>\n",
       "      <th>1336</th>\n",
       "      <td>21</td>\n",
       "      <td>25.800</td>\n",
       "      <td>0</td>\n",
       "      <td>2007.94500</td>\n",
       "      <td>0</td>\n",
       "      <td>0</td>\n",
       "    </tr>\n",
       "    <tr>\n",
       "      <th>1337</th>\n",
       "      <td>61</td>\n",
       "      <td>29.070</td>\n",
       "      <td>0</td>\n",
       "      <td>29141.36030</td>\n",
       "      <td>0</td>\n",
       "      <td>1</td>\n",
       "    </tr>\n",
       "  </tbody>\n",
       "</table>\n",
       "<p>1338 rows × 6 columns</p>\n",
       "</div>"
      ],
      "text/plain": [
       "      age     bmi  children      charges  sex_male  smoker_yes\n",
       "0      19  27.900         0  16884.92400         0           1\n",
       "1      18  33.770         1   1725.55230         1           0\n",
       "2      28  33.000         3   4449.46200         1           0\n",
       "3      33  22.705         0  21984.47061         1           0\n",
       "4      32  28.880         0   3866.85520         1           0\n",
       "...   ...     ...       ...          ...       ...         ...\n",
       "1333   50  30.970         3  10600.54830         1           0\n",
       "1334   18  31.920         0   2205.98080         0           0\n",
       "1335   18  36.850         0   1629.83350         0           0\n",
       "1336   21  25.800         0   2007.94500         0           0\n",
       "1337   61  29.070         0  29141.36030         0           1\n",
       "\n",
       "[1338 rows x 6 columns]"
      ]
     },
     "execution_count": 4,
     "metadata": {},
     "output_type": "execute_result"
    }
   ],
   "source": [
    "dataset"
   ]
  },
  {
   "cell_type": "code",
   "execution_count": 5,
   "id": "56bec9d9-ffbb-4191-a4d7-666d166d745d",
   "metadata": {},
   "outputs": [
    {
     "data": {
      "text/plain": [
       "Index(['age', 'bmi', 'children', 'charges', 'sex_male', 'smoker_yes'], dtype='object')"
      ]
     },
     "execution_count": 5,
     "metadata": {},
     "output_type": "execute_result"
    }
   ],
   "source": [
    "\n",
    "dataset.columns\n"
   ]
  },
  {
   "cell_type": "code",
   "execution_count": 6,
   "id": "cb059f8b-b29c-405f-9f69-7a531a639a08",
   "metadata": {},
   "outputs": [],
   "source": [
    "# split input and output data\n",
    "independent=dataset[['age', 'bmi', 'children','sex_male', 'smoker_yes']]\n",
    "dependent=dataset[['charges']]"
   ]
  },
  {
   "cell_type": "code",
   "execution_count": 7,
   "id": "71201675-5d7e-429c-b5fb-783506c3d243",
   "metadata": {},
   "outputs": [],
   "source": [
    "# Split data for train and test sets\n",
    "from sklearn.model_selection import train_test_split\n",
    "X_train,X_test, Y_train,Y_test =train_test_split(independent,dependent,test_size=.3, random_state=1)"
   ]
  },
  {
   "cell_type": "code",
   "execution_count": 8,
   "id": "85590ac1-8068-4de6-978e-8aa9e6b72a8c",
   "metadata": {},
   "outputs": [
    {
     "data": {
      "text/plain": [
       "(      age     bmi  children  sex_male  smoker_yes\n",
       " 744    50  26.410         0         1           0\n",
       " 363    21  26.400         1         0           0\n",
       " 10     25  26.220         0         1           0\n",
       " 970    50  28.160         3         0           0\n",
       " 634    51  39.700         1         1           0\n",
       " ...   ...     ...       ...       ...         ...\n",
       " 715    60  28.900         0         1           0\n",
       " 905    26  29.355         2         0           0\n",
       " 1096   51  34.960         2         0           1\n",
       " 235    40  22.220         2         0           1\n",
       " 1061   57  27.940         1         1           0\n",
       " \n",
       " [936 rows x 5 columns],\n",
       "       age     bmi  children  sex_male  smoker_yes\n",
       " 559    19  35.530         0         1           0\n",
       " 1087   57  31.540         0         1           0\n",
       " 1020   51  37.000         0         1           0\n",
       " 460    49  36.630         3         0           0\n",
       " 802    21  22.300         1         1           0\n",
       " ...   ...     ...       ...       ...         ...\n",
       " 323    57  40.945         0         1           0\n",
       " 1268   20  33.300         0         0           0\n",
       " 134    20  28.785         0         0           0\n",
       " 1274   26  27.060         0         1           1\n",
       " 876    49  27.100         1         0           0\n",
       " \n",
       " [402 rows x 5 columns],\n",
       "           charges\n",
       " 744    8827.20990\n",
       " 363    2597.77900\n",
       " 10     2721.32080\n",
       " 970   10702.64240\n",
       " 634    9391.34600\n",
       " ...           ...\n",
       " 715   12146.97100\n",
       " 905    4564.19145\n",
       " 1096  44641.19740\n",
       " 235   19444.26580\n",
       " 1061  11554.22360\n",
       " \n",
       " [936 rows x 1 columns],\n",
       "           charges\n",
       " 559    1646.42970\n",
       " 1087  11353.22760\n",
       " 1020   8798.59300\n",
       " 460   10381.47870\n",
       " 802    2103.08000\n",
       " ...           ...\n",
       " 323   11566.30055\n",
       " 1268   1880.48700\n",
       " 134    2457.21115\n",
       " 1274  17043.34140\n",
       " 876   26140.36030\n",
       " \n",
       " [402 rows x 1 columns])"
      ]
     },
     "execution_count": 8,
     "metadata": {},
     "output_type": "execute_result"
    }
   ],
   "source": [
    "X_train,X_test, Y_train,Y_test"
   ]
  },
  {
   "cell_type": "code",
   "execution_count": 9,
   "id": "813993e2-f6c5-4dab-b992-8f0240fa9146",
   "metadata": {},
   "outputs": [
    {
     "name": "stderr",
     "output_type": "stream",
     "text": [
      "/var/folders/1s/70xy4dvs6mn0zqfz6nvhbypw0000gn/T/ipykernel_17098/369631596.py:46: DataConversionWarning: A column-vector y was passed when a 1d array was expected. Please change the shape of y to (n_samples,), for example using ravel().\n",
      "  regresser=regresser.fit(X_train,Y_train)\n"
     ]
    }
   ],
   "source": [
    "# model creation\n",
    "from sklearn.ensemble import RandomForestRegressor\n",
    "#regresser=RandomForestRegressor(n_estimators=100,random_state=0) #0.825049122017278\n",
    "\n",
    "#regresser=RandomForestRegressor(n_estimators=100,random_state=0,criterion='squared_error', max_features='sqrt') #0.8388598173145339\n",
    "#regresser=RandomForestRegressor(n_estimators=50,random_state=0,criterion='squared_error', max_features='sqrt') #0.8369776106713841\n",
    "\n",
    "\n",
    "#regresser=RandomForestRegressor(n_estimators=100,random_state=0,criterion='squared_error', max_features='log2')#0.8388598173145339\n",
    "#regresser=RandomForestRegressor(n_estimators=50,random_state=0,criterion='squared_error', max_features='log2') #0.8369776106713841\n",
    "\n",
    "\n",
    "#regresser=RandomForestRegressor(n_estimators=50,random_state=0,criterion='squared_error') #0.8229257456251617\n",
    "#regresser=RandomForestRegressor(n_estimators=100,random_state=0,criterion='squared_error') #0.825049122017278\n",
    "\n",
    "#regresser=RandomForestRegressor(n_estimators=100,random_state=0,criterion='friedman_mse', max_features='sqrt') # 0.8390780475542116\n",
    "#regresser=RandomForestRegressor(n_estimators=50,random_state=0,criterion='friedman_mse', max_features='sqrt') #0.8374215316807476\n",
    "\n",
    "#regresser=RandomForestRegressor(n_estimators=100,random_state=0,criterion='friedman_mse', max_features='log2') # 0.8390780475542116\n",
    "#regresser=RandomForestRegressor(n_estimators=50,random_state=0,criterion='friedman_mse', max_features='log2') #0.8374215316807476\n",
    "\n",
    "#regresser=RandomForestRegressor(n_estimators=100,random_state=0,criterion='friedman_mse') #0.8250826780064943\n",
    "#regresser=RandomForestRegressor(n_estimators=50,random_state=0,criterion='friedman_mse') #0.823500015895199\n",
    "\n",
    "#regresser=RandomForestRegressor(n_estimators=50,random_state=0,criterion='absolute_error', max_features='sqrt') # 0.843193121438361\n",
    "#regresser=RandomForestRegressor(n_estimators=100,random_state=0,criterion='absolute_error', max_features='sqrt')\n",
    "\n",
    "\n",
    "#regresser=RandomForestRegressor(n_estimators=50,random_state=0,criterion='absolute_error', max_features='log2') # 0.843193121438361\n",
    "regresser=RandomForestRegressor(n_estimators=100,random_state=0,criterion='absolute_error', max_features='log2') #0.8439351981692803\n",
    "\n",
    "#regresser=RandomForestRegressor(n_estimators=50,random_state=0,criterion='absolute_error') #0.8263350983004953\n",
    "#regresser=RandomForestRegressor(n_estimators=100,random_state=0,criterion='absolute_error') #0.824962769647794\n",
    "\n",
    "#regresser=RandomForestRegressor(n_estimators=50,random_state=0,criterion='poisson', max_features='sqrt') # 0.8409579434651613\n",
    "#regresser=RandomForestRegressor(n_estimators=100,random_state=0,criterion='poisson', max_features='sqrt')#0.8417099421816833\n",
    "\n",
    "\n",
    "#regresser=RandomForestRegressor(n_estimators=50,random_state=0,criterion='poisson', max_features='log2') # 0.8409579434651613\n",
    "#regresser=RandomForestRegressor(n_estimators=100,random_state=0,criterion='poisson', max_features='log2') #0.8417099421816833\n",
    "\n",
    "#regresser=RandomForestRegressor(n_estimators=50,random_state=0,criterion='poisson #0.822504970432274\n",
    "\n",
    "#regresser=RandomForestRegressor(n_estimators=100,random_state=0,criterion='poisson') #0.8254018510552764\n",
    "\n",
    "regresser=regresser.fit(X_train,Y_train)"
   ]
  },
  {
   "cell_type": "code",
   "execution_count": 10,
   "id": "faf834fa-4e32-4634-9d3d-cd7c2028b7b5",
   "metadata": {},
   "outputs": [],
   "source": [
    "Y_pred=regresser.predict(X_test)"
   ]
  },
  {
   "cell_type": "code",
   "execution_count": 11,
   "id": "3be01b61-fff3-4022-a0d2-9d1a24cd209b",
   "metadata": {},
   "outputs": [],
   "source": [
    "# Find r2_score\n",
    "from sklearn.metrics import r2_score\n",
    "r2_score=r2_score(Y_test,Y_pred)"
   ]
  },
  {
   "cell_type": "code",
   "execution_count": 12,
   "id": "f91857e2-d90e-4d74-9797-8acb5cd103d4",
   "metadata": {},
   "outputs": [
    {
     "data": {
      "text/plain": [
       "0.8439351981692803"
      ]
     },
     "execution_count": 12,
     "metadata": {},
     "output_type": "execute_result"
    }
   ],
   "source": [
    "r2_score"
   ]
  },
  {
   "cell_type": "code",
   "execution_count": 13,
   "id": "d4e61296-f250-4c0f-bd52-ad4d388148f7",
   "metadata": {},
   "outputs": [],
   "source": [
    "#Save the model\n",
    "\n",
    "import pickle\n",
    "pickle.dump(regresser,open('finalized_model_random_forest_regressor.sav','wb'))"
   ]
  },
  {
   "cell_type": "code",
   "execution_count": 14,
   "id": "7e6686e2-2c6a-4f00-8f71-17d70dd1f55d",
   "metadata": {},
   "outputs": [],
   "source": [
    "# load model\n",
    "\n",
    "loaded_model=pickle.load(open(\"finalized_model_random_forest_regressor.sav\",'rb'))"
   ]
  },
  {
   "cell_type": "code",
   "execution_count": 18,
   "id": "3b99dbaf-3cec-47de-b900-5ca720db7c22",
   "metadata": {},
   "outputs": [
    {
     "name": "stderr",
     "output_type": "stream",
     "text": [
      "/opt/anaconda3/lib/python3.11/site-packages/sklearn/base.py:439: UserWarning: X does not have valid feature names, but RandomForestRegressor was fitted with feature names\n",
      "  warnings.warn(\n"
     ]
    }
   ],
   "source": [
    "result=loaded_model.predict([[19,27.900,0,0,1]])"
   ]
  },
  {
   "cell_type": "code",
   "execution_count": 19,
   "id": "2f5d4862-b06a-4571-847e-6f115eaa487b",
   "metadata": {},
   "outputs": [
    {
     "data": {
      "text/plain": [
       "array([18163.21493365])"
      ]
     },
     "execution_count": 19,
     "metadata": {},
     "output_type": "execute_result"
    }
   ],
   "source": [
    "result\n"
   ]
  },
  {
   "cell_type": "code",
   "execution_count": null,
   "id": "24a9919e-d6ab-4f0d-a870-3e9c0cad8539",
   "metadata": {},
   "outputs": [],
   "source": []
  },
  {
   "cell_type": "code",
   "execution_count": null,
   "id": "f4d405aa-9308-4617-9047-b8b8c1ce9966",
   "metadata": {},
   "outputs": [],
   "source": []
  }
 ],
 "metadata": {
  "kernelspec": {
   "display_name": "Python 3 (ipykernel)",
   "language": "python",
   "name": "python3"
  },
  "language_info": {
   "codemirror_mode": {
    "name": "ipython",
    "version": 3
   },
   "file_extension": ".py",
   "mimetype": "text/x-python",
   "name": "python",
   "nbconvert_exporter": "python",
   "pygments_lexer": "ipython3",
   "version": "3.11.7"
  }
 },
 "nbformat": 4,
 "nbformat_minor": 5
}
