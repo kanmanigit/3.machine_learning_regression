{
 "cells": [
  {
   "cell_type": "code",
   "execution_count": 1,
   "id": "c34cd515-fc2d-48ea-bdec-c54667267971",
   "metadata": {},
   "outputs": [],
   "source": [
    "import numpy as np\n",
    "import pandas as pd\n",
    "dataset=pd.read_csv(\"insurance_pre.csv\")\n",
    "#dataset"
   ]
  },
  {
   "cell_type": "code",
   "execution_count": 2,
   "id": "09ddd4c3-9a32-4747-b8db-9a0d48289912",
   "metadata": {},
   "outputs": [],
   "source": [
    "# convert dataset from string to numerical data\n",
    "\n",
    "dataset=pd.get_dummies(dataset, drop_first=True, dtype=int)\n",
    "#dataset"
   ]
  },
  {
   "cell_type": "code",
   "execution_count": 3,
   "id": "cb059f8b-b29c-405f-9f69-7a531a639a08",
   "metadata": {},
   "outputs": [],
   "source": [
    "# split input and output data\n",
    "independent=dataset[['age', 'bmi', 'children','sex_male', 'smoker_yes']]\n",
    "dependent=dataset[['charges']]"
   ]
  },
  {
   "cell_type": "code",
   "execution_count": 4,
   "id": "01a1443f-f0e1-460a-b6b4-b92937a786cd",
   "metadata": {},
   "outputs": [],
   "source": [
    "#Split the data for train and test data\n",
    "from sklearn.model_selection import train_test_split\n",
    "x_train,x_test,y_train,y_test=train_test_split(independent,dependent,test_size=.3, random_state=0)\n",
    "#x_train,x_test,y_train,y_test"
   ]
  },
  {
   "cell_type": "code",
   "execution_count": 5,
   "id": "052ca8a2-0bed-4fc2-a87b-6aed9d268b31",
   "metadata": {},
   "outputs": [],
   "source": [
    "#  preprocessing the input train and test datas in a range\n",
    "\n",
    "from sklearn.preprocessing import StandardScaler\n",
    "SS= StandardScaler()\n",
    "x_train= SS.fit_transform(x_train)\n",
    "x_test=SS.fit_transform(x_test)\n",
    "\n",
    "#x_train,x_test"
   ]
  },
  {
   "cell_type": "code",
   "execution_count": 6,
   "id": "81e53a32-0b1c-4482-8961-d3b6c4349864",
   "metadata": {},
   "outputs": [],
   "source": [
    "#  preprocessing the output train and test datas in a range\n",
    "\n",
    "#from sklearn.preprocessing import StandardScaler\n",
    "#SS= StandardScaler()\n",
    "#y_train= SS.fit_transform(y_train)\n",
    "#y_test=SS.fit_transform(y_test)\n",
    "\n",
    "#y_train,y_test"
   ]
  },
  {
   "cell_type": "code",
   "execution_count": 7,
   "id": "813993e2-f6c5-4dab-b992-8f0240fa9146",
   "metadata": {},
   "outputs": [],
   "source": [
    "#  model creation using grid_serach and RandomForestRegressor\n",
    "\n",
    "from sklearn.model_selection import GridSearchCV\n",
    "from sklearn.ensemble import RandomForestRegressor\n",
    "\n",
    "param_grid={'criterion': ['squared_error', 'absolute_error', 'friedman_mse', 'poisson'],\n",
    "            'max_features': ['sqrt', 'log2'],\n",
    "               'n_estimators': [100,50] }\n",
    "\n",
    "grid= GridSearchCV(RandomForestRegressor(),param_grid,refit=True,n_jobs=-1,verbose=3)\n"
   ]
  },
  {
   "cell_type": "code",
   "execution_count": 8,
   "id": "e81c04df-4a1e-41d7-b5dc-ede60f944920",
   "metadata": {},
   "outputs": [
    {
     "name": "stdout",
     "output_type": "stream",
     "text": [
      "Fitting 5 folds for each of 16 candidates, totalling 80 fits\n"
     ]
    }
   ],
   "source": [
    "#fit the grid\n",
    "y_train=y_train.values.ravel()\n",
    "grid.fit(x_train,y_train)\n",
    "result=grid.cv_results_"
   ]
  },
  {
   "cell_type": "code",
   "execution_count": 9,
   "id": "0ea74c48-fd7c-4854-87f0-6b4f49df7c41",
   "metadata": {},
   "outputs": [
    {
     "name": "stdout",
     "output_type": "stream",
     "text": [
      " best parameter for the Rscore value : {'criterion': 'friedman_mse', 'max_features': 'sqrt', 'n_estimators': 100}\n"
     ]
    }
   ],
   "source": [
    "print(\" best parameter for the Rscore value : {}\".format(grid.best_params_))"
   ]
  },
  {
   "cell_type": "code",
   "execution_count": 10,
   "id": "a4d8f8a9-47f5-43c7-aa01-cb2771639ab1",
   "metadata": {},
   "outputs": [
    {
     "data": {
      "text/plain": [
       "0.8661434443396048"
      ]
     },
     "execution_count": 10,
     "metadata": {},
     "output_type": "execute_result"
    }
   ],
   "source": [
    "#6. Finding R2_score value\n",
    "y_pred=grid.predict(x_test)\n",
    "\n",
    "from sklearn.metrics import r2_score\n",
    "r2_score=r2_score(y_test,y_pred)\n",
    "r2_score"
   ]
  },
  {
   "cell_type": "code",
   "execution_count": 11,
   "id": "faf834fa-4e32-4634-9d3d-cd7c2028b7b5",
   "metadata": {},
   "outputs": [],
   "source": [
    "#displaying the data as a table\n",
    "table=pd.DataFrame.from_dict(result)\n",
    "#table\n"
   ]
  },
  {
   "cell_type": "code",
   "execution_count": null,
   "id": "24a9919e-d6ab-4f0d-a870-3e9c0cad8539",
   "metadata": {},
   "outputs": [],
   "source": []
  },
  {
   "cell_type": "code",
   "execution_count": null,
   "id": "f4d405aa-9308-4617-9047-b8b8c1ce9966",
   "metadata": {},
   "outputs": [],
   "source": []
  }
 ],
 "metadata": {
  "kernelspec": {
   "display_name": "Python 3 (ipykernel)",
   "language": "python",
   "name": "python3"
  },
  "language_info": {
   "codemirror_mode": {
    "name": "ipython",
    "version": 3
   },
   "file_extension": ".py",
   "mimetype": "text/x-python",
   "name": "python",
   "nbconvert_exporter": "python",
   "pygments_lexer": "ipython3",
   "version": "3.11.7"
  }
 },
 "nbformat": 4,
 "nbformat_minor": 5
}
