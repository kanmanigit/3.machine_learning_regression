{
 "cells": [
  {
   "cell_type": "code",
   "execution_count": 1,
   "id": "c34cd515-fc2d-48ea-bdec-c54667267971",
   "metadata": {},
   "outputs": [],
   "source": [
    "import pandas as pd\n",
    "dataset=pd.read_csv(\"insurance_pre.csv\")"
   ]
  },
  {
   "cell_type": "code",
   "execution_count": 2,
   "id": "09ddd4c3-9a32-4747-b8db-9a0d48289912",
   "metadata": {},
   "outputs": [],
   "source": [
    "#convert dataset as numerical data\n",
    "\n",
    "dataset=pd.get_dummies(dataset, drop_first=True, dtype=int)\n",
    "#dataset.columns"
   ]
  },
  {
   "cell_type": "code",
   "execution_count": 3,
   "id": "cb059f8b-b29c-405f-9f69-7a531a639a08",
   "metadata": {},
   "outputs": [
    {
     "data": {
      "text/plain": [
       "(      age     bmi  children  sex_male  smoker_yes\n",
       " 0      19  27.900         0         0           1\n",
       " 1      18  33.770         1         1           0\n",
       " 2      28  33.000         3         1           0\n",
       " 3      33  22.705         0         1           0\n",
       " 4      32  28.880         0         1           0\n",
       " ...   ...     ...       ...       ...         ...\n",
       " 1333   50  30.970         3         1           0\n",
       " 1334   18  31.920         0         0           0\n",
       " 1335   18  36.850         0         0           0\n",
       " 1336   21  25.800         0         0           0\n",
       " 1337   61  29.070         0         0           1\n",
       " \n",
       " [1338 rows x 5 columns],\n",
       "           charges\n",
       " 0     16884.92400\n",
       " 1      1725.55230\n",
       " 2      4449.46200\n",
       " 3     21984.47061\n",
       " 4      3866.85520\n",
       " ...           ...\n",
       " 1333  10600.54830\n",
       " 1334   2205.98080\n",
       " 1335   1629.83350\n",
       " 1336   2007.94500\n",
       " 1337  29141.36030\n",
       " \n",
       " [1338 rows x 1 columns])"
      ]
     },
     "execution_count": 3,
     "metadata": {},
     "output_type": "execute_result"
    }
   ],
   "source": [
    "# split input and output data\n",
    "\n",
    "independent=dataset[['age', 'bmi', 'children','sex_male', 'smoker_yes']]\n",
    "dependent=dataset[['charges']]\n",
    "independent, dependent"
   ]
  },
  {
   "cell_type": "code",
   "execution_count": 4,
   "id": "c7e833cc-f54c-4af7-afc4-177a8b87a79b",
   "metadata": {},
   "outputs": [],
   "source": [
    "#Split the data for train and test data\n",
    "from sklearn.model_selection import train_test_split\n",
    "x_train,x_test,y_train,y_test=train_test_split(independent,dependent,test_size=.3, random_state=0)\n",
    "\n",
    "#x_train,x_test,y_train,y_test"
   ]
  },
  {
   "cell_type": "code",
   "execution_count": null,
   "id": "dde80660-6df7-4a8d-ac3c-5b01074944de",
   "metadata": {},
   "outputs": [],
   "source": []
  },
  {
   "cell_type": "code",
   "execution_count": 5,
   "id": "cfd8d1fe-22de-46df-bf7d-be6aac121e38",
   "metadata": {},
   "outputs": [],
   "source": [
    "# preprocessing the input data in a range\n",
    "\n",
    "from sklearn.preprocessing import StandardScaler\n",
    "SS= StandardScaler()\n",
    "x_train = SS.fit_transform(x_train)\n",
    "\n",
    "#x_train"
   ]
  },
  {
   "cell_type": "code",
   "execution_count": 6,
   "id": "813993e2-f6c5-4dab-b992-8f0240fa9146",
   "metadata": {},
   "outputs": [],
   "source": [
    "# model creation using GridserchCV and DeciosnTreeRegressor modules\n",
    "\n",
    "from sklearn.model_selection import GridSearchCV\n",
    "from sklearn.tree import DecisionTreeRegressor\n",
    "\n",
    "param_grid={ 'criterion': ['squared_error', 'friedman_mse', 'absolute_error', 'poisson'],\n",
    "             'max_features': ['sqrt', 'log2'],\n",
    "             'splitter': ['best','random'] \n",
    "            }\n",
    "grid=GridSearchCV(DecisionTreeRegressor(),param_grid, refit=True, n_jobs=-1,verbose=3)\n"
   ]
  },
  {
   "cell_type": "code",
   "execution_count": 7,
   "id": "f944b1a9-c4f0-44f9-8c09-d40228510fbe",
   "metadata": {},
   "outputs": [
    {
     "name": "stdout",
     "output_type": "stream",
     "text": [
      "Fitting 5 folds for each of 16 candidates, totalling 80 fits\n",
      "R_score value for best parameter      = {'criterion': 'friedman_mse', 'max_features': 'sqrt', 'splitter': 'best'}\n"
     ]
    }
   ],
   "source": [
    "#fit the grid\n",
    "\n",
    "grid.fit(x_train,y_train)\n",
    "print(\"R_score value for best parameter      = {}\".format(grid.best_params_))\n",
    "results=grid.cv_results_"
   ]
  },
  {
   "cell_type": "code",
   "execution_count": 15,
   "id": "3ff5644e-b3f0-46ac-8d0f-37a08f06c764",
   "metadata": {},
   "outputs": [],
   "source": [
    "table=pd.DataFrame.from_dict(results)\n",
    "#table"
   ]
  },
  {
   "cell_type": "code",
   "execution_count": 9,
   "id": "5e99d842-f1c7-4bbd-9d5e-5f1dd6008c86",
   "metadata": {},
   "outputs": [
    {
     "name": "stderr",
     "output_type": "stream",
     "text": [
      "/opt/anaconda3/lib/python3.11/site-packages/sklearn/base.py:432: UserWarning: X has feature names, but DecisionTreeRegressor was fitted without feature names\n",
      "  warnings.warn(\n"
     ]
    }
   ],
   "source": [
    "y_pred=grid.predict(x_test)"
   ]
  },
  {
   "cell_type": "code",
   "execution_count": 10,
   "id": "a9fdf51e-9f7a-4b44-b645-947460ec9565",
   "metadata": {},
   "outputs": [
    {
     "data": {
      "text/plain": [
       "-0.8994262477500115"
      ]
     },
     "execution_count": 10,
     "metadata": {},
     "output_type": "execute_result"
    }
   ],
   "source": [
    "#finding r2Score value\n",
    "from sklearn.metrics import r2_score\n",
    "r2_score= r2_score(y_test,y_pred)\n",
    "r2_score"
   ]
  },
  {
   "cell_type": "code",
   "execution_count": 11,
   "id": "d4e61296-f250-4c0f-bd52-ad4d388148f7",
   "metadata": {},
   "outputs": [],
   "source": [
    "# save model\n",
    "#import pickle\n",
    "#pickle.dump(grid,open(\"model_grid_decision_tree_Regression.sav\",'wb'))"
   ]
  },
  {
   "cell_type": "code",
   "execution_count": 12,
   "id": "7e6686e2-2c6a-4f00-8f71-17d70dd1f55d",
   "metadata": {},
   "outputs": [],
   "source": [
    "#loaded_model=pickle.load(open(\"model_grid_decision_tree_Regression.sav\",'rb'))"
   ]
  },
  {
   "cell_type": "code",
   "execution_count": 13,
   "id": "8d12d835-2b57-4b8c-9eb0-a4f0b29c9da9",
   "metadata": {},
   "outputs": [
    {
     "name": "stderr",
     "output_type": "stream",
     "text": [
      "/opt/anaconda3/lib/python3.11/site-packages/sklearn/base.py:439: UserWarning: X does not have valid feature names, but StandardScaler was fitted with feature names\n",
      "  warnings.warn(\n"
     ]
    },
    {
     "data": {
      "text/plain": [
       "array([[-1.46169465, -0.45767803, -0.89833872,  1.02378711, -0.50466988]])"
      ]
     },
     "execution_count": 13,
     "metadata": {},
     "output_type": "execute_result"
    }
   ],
   "source": [
    "#scale your input before predict\n",
    "\n",
    "input=SS.transform([[19,27.900,0,1,0]])\n",
    "input\n"
   ]
  },
  {
   "cell_type": "code",
   "execution_count": 14,
   "id": "55451144-6930-48ee-8d38-fd70eb7dfdca",
   "metadata": {},
   "outputs": [
    {
     "data": {
      "text/plain": [
       "array([1252.407])"
      ]
     },
     "execution_count": 14,
     "metadata": {},
     "output_type": "execute_result"
    }
   ],
   "source": [
    "#model predition with the scaled input..\n",
    "\n",
    "grid.predict(input)\n"
   ]
  },
  {
   "cell_type": "code",
   "execution_count": null,
   "id": "b0496508-9828-4309-8e87-672b7e711077",
   "metadata": {},
   "outputs": [],
   "source": []
  }
 ],
 "metadata": {
  "kernelspec": {
   "display_name": "Python 3 (ipykernel)",
   "language": "python",
   "name": "python3"
  },
  "language_info": {
   "codemirror_mode": {
    "name": "ipython",
    "version": 3
   },
   "file_extension": ".py",
   "mimetype": "text/x-python",
   "name": "python",
   "nbconvert_exporter": "python",
   "pygments_lexer": "ipython3",
   "version": "3.11.7"
  }
 },
 "nbformat": 4,
 "nbformat_minor": 5
}
