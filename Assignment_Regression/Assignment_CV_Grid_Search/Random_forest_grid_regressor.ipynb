{
 "cells": [
  {
   "cell_type": "code",
   "execution_count": 1,
   "id": "c34cd515-fc2d-48ea-bdec-c54667267971",
   "metadata": {},
   "outputs": [],
   "source": [
    "import numpy as np\n",
    "import pandas as pd\n",
    "dataset=pd.read_csv(\"insurance_pre.csv\")\n"
   ]
  },
  {
   "cell_type": "code",
   "execution_count": 2,
   "id": "3c8c8fc3-e615-40d7-a5f6-e9ef71a4b027",
   "metadata": {},
   "outputs": [],
   "source": [
    "#dataset"
   ]
  },
  {
   "cell_type": "code",
   "execution_count": 3,
   "id": "09ddd4c3-9a32-4747-b8db-9a0d48289912",
   "metadata": {},
   "outputs": [],
   "source": [
    "# convert dataset from string to numerical data\n",
    "\n",
    "dataset=pd.get_dummies(dataset, drop_first=True, dtype=int)"
   ]
  },
  {
   "cell_type": "code",
   "execution_count": 4,
   "id": "754a2ff1-6fea-4a3c-8570-8e37d754795f",
   "metadata": {},
   "outputs": [],
   "source": [
    "#dataset"
   ]
  },
  {
   "cell_type": "code",
   "execution_count": 5,
   "id": "56bec9d9-ffbb-4191-a4d7-666d166d745d",
   "metadata": {},
   "outputs": [],
   "source": [
    "#dataset.columns"
   ]
  },
  {
   "cell_type": "code",
   "execution_count": 6,
   "id": "cb059f8b-b29c-405f-9f69-7a531a639a08",
   "metadata": {},
   "outputs": [],
   "source": [
    "#  split input and output data\n",
    "independent=dataset[['age', 'bmi', 'children','sex_male', 'smoker_yes']]\n",
    "dependent=dataset[['charges']]"
   ]
  },
  {
   "cell_type": "code",
   "execution_count": 7,
   "id": "052ca8a2-0bed-4fc2-a87b-6aed9d268b31",
   "metadata": {},
   "outputs": [
    {
     "data": {
      "text/plain": [
       "array([[-1.43876426, -0.45332   , -0.90861367, -1.0105187 ,  1.97058663],\n",
       "       [-1.50996545,  0.5096211 , -0.07876719,  0.98959079, -0.5074631 ],\n",
       "       [-0.79795355,  0.38330685,  1.58092576,  0.98959079, -0.5074631 ],\n",
       "       ...,\n",
       "       [-1.50996545,  1.0148781 , -0.90861367, -1.0105187 , -0.5074631 ],\n",
       "       [-1.29636188, -0.79781341, -0.90861367, -1.0105187 , -0.5074631 ],\n",
       "       [ 1.55168573, -0.26138796, -0.90861367, -1.0105187 ,  1.97058663]])"
      ]
     },
     "execution_count": 7,
     "metadata": {},
     "output_type": "execute_result"
    }
   ],
   "source": [
    "#  preprocessing the input data in a range\n",
    "\n",
    "from sklearn.preprocessing import StandardScaler\n",
    "SSX= StandardScaler()\n",
    "independent = SSX.fit_transform(independent)\n",
    "\n",
    "independent"
   ]
  },
  {
   "cell_type": "code",
   "execution_count": 8,
   "id": "d74e7dca-7859-4f14-857b-af4ab1df3baf",
   "metadata": {},
   "outputs": [],
   "source": [
    "#  preprocessing the output data in a range\n",
    "\n",
    "#from sklearn.preprocessing import StandardScaler\n",
    "#SSY= StandardScaler()\n",
    "#dependent = SSY.fit_transform(dependent)\n",
    "\n",
    "#dependent"
   ]
  },
  {
   "cell_type": "code",
   "execution_count": 9,
   "id": "813993e2-f6c5-4dab-b992-8f0240fa9146",
   "metadata": {},
   "outputs": [],
   "source": [
    "#  model creation using grid_serach and RandomForestRegressor\n",
    "\n",
    "from sklearn.model_selection import GridSearchCV\n",
    "from sklearn.ensemble import RandomForestRegressor\n",
    "\n",
    "param_grid={'criterion': ['squared_error', 'absolute_error', 'friedman_mse', 'poisson'],\n",
    "            'max_features': ['sqrt', 'log2'],\n",
    "               'n_estimators': [100,50] }\n",
    "\n",
    "grid= GridSearchCV(RandomForestRegressor(),param_grid,refit=True,n_jobs=-1,verbose=3)\n"
   ]
  },
  {
   "cell_type": "code",
   "execution_count": 10,
   "id": "e81c04df-4a1e-41d7-b5dc-ede60f944920",
   "metadata": {},
   "outputs": [
    {
     "name": "stdout",
     "output_type": "stream",
     "text": [
      "Fitting 5 folds for each of 16 candidates, totalling 80 fits\n"
     ]
    }
   ],
   "source": [
    "# fit the grid\n",
    "dependent=dependent.values.ravel()\n",
    "grid.fit(independent,dependent)\n",
    "result=grid.cv_results_"
   ]
  },
  {
   "cell_type": "code",
   "execution_count": 11,
   "id": "0ea74c48-fd7c-4854-87f0-6b4f49df7c41",
   "metadata": {},
   "outputs": [
    {
     "name": "stdout",
     "output_type": "stream",
     "text": [
      " best parameter for the Rscore value : {'criterion': 'poisson', 'max_features': 'log2', 'n_estimators': 100}\n"
     ]
    }
   ],
   "source": [
    "print(\" best parameter for the Rscore value : {}\".format(grid.best_params_))"
   ]
  },
  {
   "cell_type": "code",
   "execution_count": 12,
   "id": "a4d8f8a9-47f5-43c7-aa01-cb2771639ab1",
   "metadata": {},
   "outputs": [
    {
     "data": {
      "text/plain": [
       "0.9737842628218139"
      ]
     },
     "execution_count": 12,
     "metadata": {},
     "output_type": "execute_result"
    }
   ],
   "source": [
    "# Finding R2_score value\n",
    "pred=grid.predict(independent)\n",
    "\n",
    "from sklearn.metrics import r2_score\n",
    "r2_score=r2_score(pred,dependent)\n",
    "r2_score"
   ]
  },
  {
   "cell_type": "code",
   "execution_count": 13,
   "id": "faf834fa-4e32-4634-9d3d-cd7c2028b7b5",
   "metadata": {},
   "outputs": [],
   "source": [
    "#displaying the data as a table\n",
    "#table=pd.DataFrame.from_dict(result)\n",
    "#table\n"
   ]
  },
  {
   "cell_type": "code",
   "execution_count": 14,
   "id": "d4e61296-f250-4c0f-bd52-ad4d388148f7",
   "metadata": {},
   "outputs": [],
   "source": [
    "#Save the model\n",
    "\n",
    "#import pickle\n",
    "#pickle.dump(grid,open('finalized_grid_model_random_forest_regressor.sav','wb'))"
   ]
  },
  {
   "cell_type": "code",
   "execution_count": 15,
   "id": "7e6686e2-2c6a-4f00-8f71-17d70dd1f55d",
   "metadata": {},
   "outputs": [],
   "source": [
    "# load model\n",
    "\n",
    "#loaded_model=pickle.load(open(\"finalized_grid_model_random_forest_regressor.sav\",'rb'))"
   ]
  },
  {
   "cell_type": "code",
   "execution_count": 16,
   "id": "4c4e5bff-6901-42df-928e-2647dbb23483",
   "metadata": {},
   "outputs": [],
   "source": [
    "# scale the input before prediction\n",
    "\n",
    "#input=SSX.transform([[19,20,0,1,0]])\n",
    "\n",
    "#input"
   ]
  },
  {
   "cell_type": "code",
   "execution_count": 17,
   "id": "3b99dbaf-3cec-47de-b900-5ca720db7c22",
   "metadata": {},
   "outputs": [],
   "source": [
    "#result=grid.predict(input)\n",
    "#result"
   ]
  },
  {
   "cell_type": "code",
   "execution_count": null,
   "id": "a09e5fe7-86c8-43c8-a4cb-cb933fe0f0b8",
   "metadata": {},
   "outputs": [],
   "source": [
    " \n"
   ]
  },
  {
   "cell_type": "code",
   "execution_count": null,
   "id": "2f5d4862-b06a-4571-847e-6f115eaa487b",
   "metadata": {},
   "outputs": [],
   "source": [
    "\n"
   ]
  },
  {
   "cell_type": "code",
   "execution_count": null,
   "id": "24a9919e-d6ab-4f0d-a870-3e9c0cad8539",
   "metadata": {},
   "outputs": [],
   "source": []
  },
  {
   "cell_type": "code",
   "execution_count": null,
   "id": "f4d405aa-9308-4617-9047-b8b8c1ce9966",
   "metadata": {},
   "outputs": [],
   "source": []
  }
 ],
 "metadata": {
  "kernelspec": {
   "display_name": "Python 3 (ipykernel)",
   "language": "python",
   "name": "python3"
  },
  "language_info": {
   "codemirror_mode": {
    "name": "ipython",
    "version": 3
   },
   "file_extension": ".py",
   "mimetype": "text/x-python",
   "name": "python",
   "nbconvert_exporter": "python",
   "pygments_lexer": "ipython3",
   "version": "3.11.7"
  }
 },
 "nbformat": 4,
 "nbformat_minor": 5
}
