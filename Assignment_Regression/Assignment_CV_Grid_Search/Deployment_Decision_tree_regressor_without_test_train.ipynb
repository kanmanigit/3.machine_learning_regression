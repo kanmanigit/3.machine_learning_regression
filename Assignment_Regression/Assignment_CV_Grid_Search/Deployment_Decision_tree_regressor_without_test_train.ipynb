{
 "cells": [
  {
   "cell_type": "code",
   "execution_count": 1,
   "id": "7ff6a23d-6e26-4ab4-9a1d-8cf5c99fad36",
   "metadata": {},
   "outputs": [],
   "source": [
    "import pandas as pd\n",
    "import pickle \n",
    "import numpy as np"
   ]
  },
  {
   "cell_type": "code",
   "execution_count": 2,
   "id": "6a8a7c61-e535-42a4-ae1e-0815b94a168f",
   "metadata": {},
   "outputs": [],
   "source": [
    "dataset=pd.read_csv(\"insurance_pre.csv\")"
   ]
  },
  {
   "cell_type": "code",
   "execution_count": 3,
   "id": "b506faf1-7fbb-4c12-974d-cf042bfc858b",
   "metadata": {},
   "outputs": [
    {
     "data": {
      "text/plain": [
       "Index(['age', 'bmi', 'children', 'charges', 'sex_male', 'smoker_yes'], dtype='object')"
      ]
     },
     "execution_count": 3,
     "metadata": {},
     "output_type": "execute_result"
    }
   ],
   "source": [
    "# Convert the strind data to numerical data\n",
    "dataset=pd.get_dummies(dataset,drop_first=True,dtype=int)\n",
    "dataset.columns\n"
   ]
  },
  {
   "cell_type": "code",
   "execution_count": 4,
   "id": "9f77b90f-0db9-4c2d-b586-212b60a758ad",
   "metadata": {},
   "outputs": [],
   "source": [
    "# Split the input data\n",
    "independent=dataset[['age', 'bmi', 'children','sex_male', 'smoker_yes']]\n",
    "dependent=dataset[['charges']]\n"
   ]
  },
  {
   "cell_type": "code",
   "execution_count": 5,
   "id": "d9780cb1-841c-4697-93c8-b045d4b2bcdf",
   "metadata": {},
   "outputs": [],
   "source": [
    "# Preprocessing the input data in a range\n",
    "from sklearn.preprocessing import StandardScaler\n",
    "SSX=StandardScaler()\n",
    "independent=SSX.fit_transform(independent)\n",
    "\n",
    "#independent"
   ]
  },
  {
   "cell_type": "code",
   "execution_count": 6,
   "id": "1fc04476-ed8d-40aa-b1ac-19030dd8a022",
   "metadata": {},
   "outputs": [],
   "source": [
    "#load the model\n",
    "loaded_model=pickle.load(open(\"finalized_grid_model_without_test_train_split.sav\",'rb'))\n"
   ]
  },
  {
   "cell_type": "code",
   "execution_count": 7,
   "id": "04113940-2df0-4598-9e25-88b3b4822ced",
   "metadata": {},
   "outputs": [
    {
     "name": "stderr",
     "output_type": "stream",
     "text": [
      "/opt/anaconda3/lib/python3.11/site-packages/sklearn/base.py:439: UserWarning: X does not have valid feature names, but StandardScaler was fitted with feature names\n",
      "  warnings.warn(\n"
     ]
    }
   ],
   "source": [
    "input=SSX.transform([[12,13,0,1,0]])"
   ]
  },
  {
   "cell_type": "code",
   "execution_count": 8,
   "id": "0120c945-4f35-4882-a1d9-15a06cc0df7a",
   "metadata": {},
   "outputs": [
    {
     "data": {
      "text/plain": [
       "array([1694.7964])"
      ]
     },
     "execution_count": 8,
     "metadata": {},
     "output_type": "execute_result"
    }
   ],
   "source": [
    "result=loaded_model.predict(input)\n",
    "result"
   ]
  },
  {
   "cell_type": "code",
   "execution_count": null,
   "id": "9574d4d2-eb39-4195-ab49-93f2219708cb",
   "metadata": {},
   "outputs": [],
   "source": []
  }
 ],
 "metadata": {
  "kernelspec": {
   "display_name": "Python 3 (ipykernel)",
   "language": "python",
   "name": "python3"
  },
  "language_info": {
   "codemirror_mode": {
    "name": "ipython",
    "version": 3
   },
   "file_extension": ".py",
   "mimetype": "text/x-python",
   "name": "python",
   "nbconvert_exporter": "python",
   "pygments_lexer": "ipython3",
   "version": "3.11.7"
  }
 },
 "nbformat": 4,
 "nbformat_minor": 5
}
