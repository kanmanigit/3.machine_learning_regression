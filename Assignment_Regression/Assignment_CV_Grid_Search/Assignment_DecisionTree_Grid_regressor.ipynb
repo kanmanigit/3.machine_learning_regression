{
 "cells": [
  {
   "cell_type": "code",
   "execution_count": 1,
   "id": "c34cd515-fc2d-48ea-bdec-c54667267971",
   "metadata": {},
   "outputs": [],
   "source": [
    "import pandas as pd\n",
    "dataset=pd.read_csv(\"insurance_pre.csv\")\n",
    "\n",
    "#dataset"
   ]
  },
  {
   "cell_type": "code",
   "execution_count": 2,
   "id": "3c8c8fc3-e615-40d7-a5f6-e9ef71a4b027",
   "metadata": {},
   "outputs": [],
   "source": [
    "#dataset.columns"
   ]
  },
  {
   "cell_type": "code",
   "execution_count": 3,
   "id": "09ddd4c3-9a32-4747-b8db-9a0d48289912",
   "metadata": {},
   "outputs": [],
   "source": [
    "#convert dataset as numerical data\n",
    "\n",
    "dataset=pd.get_dummies(dataset, drop_first=True, dtype=int)"
   ]
  },
  {
   "cell_type": "code",
   "execution_count": 4,
   "id": "56bec9d9-ffbb-4191-a4d7-666d166d745d",
   "metadata": {},
   "outputs": [
    {
     "data": {
      "text/plain": [
       "Index(['age', 'bmi', 'children', 'charges', 'sex_male', 'smoker_yes'], dtype='object')"
      ]
     },
     "execution_count": 4,
     "metadata": {},
     "output_type": "execute_result"
    }
   ],
   "source": [
    "dataset.columns\n"
   ]
  },
  {
   "cell_type": "code",
   "execution_count": 5,
   "id": "cb059f8b-b29c-405f-9f69-7a531a639a08",
   "metadata": {},
   "outputs": [],
   "source": [
    "# split input and output data\n",
    "\n",
    "independent=dataset[['age', 'bmi', 'children','sex_male', 'smoker_yes']]\n",
    "dependent=dataset[['charges']]\n",
    "\n",
    "#independent, dependent"
   ]
  },
  {
   "cell_type": "code",
   "execution_count": 6,
   "id": "cfd8d1fe-22de-46df-bf7d-be6aac121e38",
   "metadata": {},
   "outputs": [
    {
     "data": {
      "text/plain": [
       "array([[-1.43876426, -0.45332   , -0.90861367, -1.0105187 ,  1.97058663],\n",
       "       [-1.50996545,  0.5096211 , -0.07876719,  0.98959079, -0.5074631 ],\n",
       "       [-0.79795355,  0.38330685,  1.58092576,  0.98959079, -0.5074631 ],\n",
       "       ...,\n",
       "       [-1.50996545,  1.0148781 , -0.90861367, -1.0105187 , -0.5074631 ],\n",
       "       [-1.29636188, -0.79781341, -0.90861367, -1.0105187 , -0.5074631 ],\n",
       "       [ 1.55168573, -0.26138796, -0.90861367, -1.0105187 ,  1.97058663]])"
      ]
     },
     "execution_count": 6,
     "metadata": {},
     "output_type": "execute_result"
    }
   ],
   "source": [
    "# preprocessing the input data in a range\n",
    "\n",
    "from sklearn.preprocessing import StandardScaler\n",
    "SSX= StandardScaler()\n",
    "independent = SSX.fit_transform(independent)\n",
    "\n",
    "\n",
    "independent"
   ]
  },
  {
   "cell_type": "code",
   "execution_count": 7,
   "id": "7d93e9ce-f855-4681-b0de-cafc7f60b1ae",
   "metadata": {},
   "outputs": [],
   "source": [
    "# preprocessing the output data in a range\n",
    "\n",
    "#from sklearn.preprocessing import StandardScaler\n",
    "#SSY= StandardScaler()\n",
    "#dependent = SSY.fit_transform(dependent)\n",
    "\n",
    "\n",
    "#dependent"
   ]
  },
  {
   "cell_type": "code",
   "execution_count": 8,
   "id": "813993e2-f6c5-4dab-b992-8f0240fa9146",
   "metadata": {},
   "outputs": [],
   "source": [
    "# model creation using GridserchCV and DeciosnTreeRegressor modules\n",
    "\n",
    "from sklearn.model_selection import GridSearchCV\n",
    "from sklearn.tree import DecisionTreeRegressor\n",
    "\n",
    "param_grid={ 'criterion': ['squared_error', 'friedman_mse', 'absolute_error', 'poisson'],\n",
    "             'max_features': ['sqrt', 'log2'],\n",
    "             'splitter': ['best','random'] \n",
    "            }\n",
    "grid=GridSearchCV(DecisionTreeRegressor(),param_grid, refit=True, n_jobs=-1,verbose=3)\n"
   ]
  },
  {
   "cell_type": "code",
   "execution_count": 9,
   "id": "f944b1a9-c4f0-44f9-8c09-d40228510fbe",
   "metadata": {},
   "outputs": [
    {
     "name": "stdout",
     "output_type": "stream",
     "text": [
      "Fitting 5 folds for each of 16 candidates, totalling 80 fits\n",
      "R_score value for best parameter      = {'criterion': 'squared_error', 'max_features': 'sqrt', 'splitter': 'best'}\n"
     ]
    }
   ],
   "source": [
    "#fit the grid\n",
    "\n",
    "grid.fit(independent,dependent)\n",
    "print(\"R_score value for best parameter      = {}\".format(grid.best_params_))\n",
    "results=grid.cv_results_"
   ]
  },
  {
   "cell_type": "code",
   "execution_count": 10,
   "id": "3ff5644e-b3f0-46ac-8d0f-37a08f06c764",
   "metadata": {},
   "outputs": [],
   "source": [
    "table=pd.DataFrame.from_dict(results)\n",
    "#table"
   ]
  },
  {
   "cell_type": "code",
   "execution_count": 11,
   "id": "5e99d842-f1c7-4bbd-9d5e-5f1dd6008c86",
   "metadata": {},
   "outputs": [],
   "source": [
    "pred=grid.predict(independent)"
   ]
  },
  {
   "cell_type": "code",
   "execution_count": 12,
   "id": "a9fdf51e-9f7a-4b44-b645-947460ec9565",
   "metadata": {},
   "outputs": [
    {
     "data": {
      "text/plain": [
       "0.9986653772918882"
      ]
     },
     "execution_count": 12,
     "metadata": {},
     "output_type": "execute_result"
    }
   ],
   "source": [
    "#finding r2Score value\n",
    "from sklearn.metrics import r2_score\n",
    "r2_score= r2_score(pred,dependent)\n",
    "r2_score"
   ]
  },
  {
   "cell_type": "code",
   "execution_count": 13,
   "id": "b0496508-9828-4309-8e87-672b7e711077",
   "metadata": {},
   "outputs": [],
   "source": [
    "# Save the model\n",
    "\n",
    "import pickle\n",
    "pickle.dump(grid,open('finalized_grid_model_without_test_train_split.sav','wb'))"
   ]
  },
  {
   "cell_type": "code",
   "execution_count": 14,
   "id": "b258d9cd-8e03-4c6b-9a82-9cac50b185cc",
   "metadata": {},
   "outputs": [],
   "source": [
    "# load model\n",
    "loaded_model=pickle.load(open('finalized_grid_model_without_test_train_split.sav','rb'))"
   ]
  },
  {
   "cell_type": "code",
   "execution_count": 15,
   "id": "a00846aa-084b-450c-a30c-099f916c1b58",
   "metadata": {},
   "outputs": [
    {
     "name": "stderr",
     "output_type": "stream",
     "text": [
      "/opt/anaconda3/lib/python3.11/site-packages/sklearn/base.py:439: UserWarning: X does not have valid feature names, but StandardScaler was fitted with feature names\n",
      "  warnings.warn(\n"
     ]
    },
    {
     "data": {
      "text/plain": [
       "array([[-1.43876426, -1.74927139, -0.90861367,  0.98959079, -0.5074631 ]])"
      ]
     },
     "execution_count": 15,
     "metadata": {},
     "output_type": "execute_result"
    }
   ],
   "source": [
    "#prediction\n",
    "#input data\n",
    "#Scale the input data using Standard scaler\n",
    "input=SSX.transform([[19,20,0,1,0]])\n",
    "\n",
    "input\n"
   ]
  },
  {
   "cell_type": "code",
   "execution_count": 16,
   "id": "65d6974d-04be-4114-8454-f9670d140aa6",
   "metadata": {},
   "outputs": [
    {
     "data": {
      "text/plain": [
       "array([1241.565])"
      ]
     },
     "execution_count": 16,
     "metadata": {},
     "output_type": "execute_result"
    }
   ],
   "source": [
    "#prediciton\n",
    "result=grid.predict(input)\n",
    "result\n"
   ]
  },
  {
   "cell_type": "code",
   "execution_count": null,
   "id": "316dac92-9f45-4988-ba08-e7fffffff6c7",
   "metadata": {},
   "outputs": [],
   "source": []
  }
 ],
 "metadata": {
  "kernelspec": {
   "display_name": "Python 3 (ipykernel)",
   "language": "python",
   "name": "python3"
  },
  "language_info": {
   "codemirror_mode": {
    "name": "ipython",
    "version": 3
   },
   "file_extension": ".py",
   "mimetype": "text/x-python",
   "name": "python",
   "nbconvert_exporter": "python",
   "pygments_lexer": "ipython3",
   "version": "3.11.7"
  }
 },
 "nbformat": 4,
 "nbformat_minor": 5
}
