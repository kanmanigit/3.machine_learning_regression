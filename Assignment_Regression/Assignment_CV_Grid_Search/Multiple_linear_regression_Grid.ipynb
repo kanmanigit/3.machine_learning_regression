{
 "cells": [
  {
   "cell_type": "code",
   "execution_count": null,
   "id": "28771c8a-29e9-45af-a5cf-5dacf6ea569a",
   "metadata": {},
   "outputs": [],
   "source": [
    "import numpy as np\n",
    "import pandas as pd\n",
    "dataset=pd.read_csv(\"insurance_pre.csv\")"
   ]
  },
  {
   "cell_type": "code",
   "execution_count": null,
   "id": "9b8f2558-0822-4636-801e-d0a998b6ea8f",
   "metadata": {},
   "outputs": [],
   "source": [
    "dataset"
   ]
  },
  {
   "cell_type": "code",
   "execution_count": null,
   "id": "c176b54f-44d1-43b6-9d49-c7354425c376",
   "metadata": {},
   "outputs": [],
   "source": [
    "# preprocessing_converting Nominal data_converting String into numeric \n",
    "\n",
    "dataset=pd.get_dummies(dataset, drop_first=True, dtype=int)"
   ]
  },
  {
   "cell_type": "code",
   "execution_count": null,
   "id": "5772d086-e0b3-4e6f-b48d-1a36d89d8333",
   "metadata": {},
   "outputs": [],
   "source": [
    "dataset\n"
   ]
  },
  {
   "cell_type": "code",
   "execution_count": null,
   "id": "0accf88a-fb67-4b77-8e92-4f418d6e8c8f",
   "metadata": {},
   "outputs": [],
   "source": [
    "dataset.columns"
   ]
  },
  {
   "cell_type": "code",
   "execution_count": null,
   "id": "36edfaa1-9df5-4d8f-9d86-b44d2d61b4cf",
   "metadata": {},
   "outputs": [],
   "source": [
    "#splitting input and output data\n",
    "independent=dataset[['age', 'bmi', 'children','sex_male', 'smoker_yes']]\n",
    "dependent=dataset[['charges']]"
   ]
  },
  {
   "cell_type": "code",
   "execution_count": null,
   "id": "65151133-a800-4dfb-8833-56cc494b6c27",
   "metadata": {},
   "outputs": [],
   "source": [
    "independent"
   ]
  },
  {
   "cell_type": "code",
   "execution_count": null,
   "id": "21d740c7-cb9f-4f9a-a057-1f236c8b6eff",
   "metadata": {},
   "outputs": [],
   "source": [
    "dependent"
   ]
  },
  {
   "cell_type": "code",
   "execution_count": null,
   "id": "b337bbe9-26f7-48bf-8b73-6e6eb0695b5d",
   "metadata": {},
   "outputs": [],
   "source": [
    "#preparing for the input data in a range usiing Standard scaler\n",
    "\n",
    "from sklearn.preprocessing import StandardScaler\n",
    "SS=StandardScaler()\n",
    "independent=SS.fit_transform(independent)\n",
    "independent"
   ]
  },
  {
   "cell_type": "code",
   "execution_count": null,
   "id": "8d1ab159-a0b9-49e1-a7f0-da8972f3a3d3",
   "metadata": {},
   "outputs": [],
   "source": [
    "from sklearn.model_selection import GridSearchCV\n",
    "from sklearn.linear_model import LinearRegression\n",
    "param_grid={ 'fit_intercept':[True,False], \n",
    "            'copy_X':[True,False], \n",
    "            'n_jobs':[None], \n",
    "            'positive':[True,False] }\n",
    "grid=GridSearchCV(LinearRegression(),param_grid, refit=True, verbose=3, n_jobs=-1)\n",
    "grid.fit(independent,dependent)"
   ]
  },
  {
   "cell_type": "code",
   "execution_count": null,
   "id": "db78ae02-3273-443b-9d64-72e83c38edb2",
   "metadata": {},
   "outputs": [],
   "source": [
    "#best parameters after tunning\n",
    "print (\"Rscore value for best parameter {}\".format(grid.best_params_))"
   ]
  },
  {
   "cell_type": "code",
   "execution_count": null,
   "id": "0abba78e-b03d-4c66-87b0-0a320c94e9ab",
   "metadata": {},
   "outputs": [],
   "source": [
    "results=grid.cv_results_\n",
    "table=pd.DataFrame.from_dict(results)"
   ]
  },
  {
   "cell_type": "code",
   "execution_count": null,
   "id": "852bf275-fd4e-42e9-ae68-cdc0ef880463",
   "metadata": {},
   "outputs": [],
   "source": [
    "table"
   ]
  },
  {
   "cell_type": "code",
   "execution_count": null,
   "id": "a23d54e4-2357-4677-a391-313b76adba23",
   "metadata": {},
   "outputs": [],
   "source": [
    "pred=grid.predict(independent)"
   ]
  },
  {
   "cell_type": "code",
   "execution_count": null,
   "id": "9e6a7a16-1af4-4e6f-b157-adc9c133ec66",
   "metadata": {},
   "outputs": [],
   "source": [
    "#finding r2_score value:\n",
    "\n",
    "from sklearn.metrics import r2_score\n",
    "r2score=r2_score(dependent,pred)\n"
   ]
  },
  {
   "cell_type": "code",
   "execution_count": null,
   "id": "f17f124e-cb57-4446-9a85-2f13bfab7c8b",
   "metadata": {},
   "outputs": [],
   "source": [
    "r2score"
   ]
  },
  {
   "cell_type": "code",
   "execution_count": null,
   "id": "93273b82-3e65-4ae9-ae27-9ac206341320",
   "metadata": {},
   "outputs": [],
   "source": [
    "# save the model\n",
    "import pickle\n",
    "pickle.dump(grid,open(\"multiple_linear_regression_Grid_model.sav\",'wb'))"
   ]
  },
  {
   "cell_type": "code",
   "execution_count": null,
   "id": "9e59ff33-f7ca-4e27-8bac-11a77214d09c",
   "metadata": {},
   "outputs": [],
   "source": [
    "#load the model\n",
    "loaded_model=pickle.load(open(\"multiple_linear_regression_Grid_model.sav\",'rb'))"
   ]
  },
  {
   "cell_type": "code",
   "execution_count": null,
   "id": "05ea56e7-4bfe-480d-8235-293298f8b869",
   "metadata": {},
   "outputs": [],
   "source": [
    "#loaded_model.predict([[12,35,0,1,0]])"
   ]
  },
  {
   "cell_type": "code",
   "execution_count": null,
   "id": "c4bf043d-bdb6-4df9-84d4-e5cf27b8bee1",
   "metadata": {},
   "outputs": [],
   "source": [
    "input=SS.transform([[19,27.900,0,1,0]])"
   ]
  },
  {
   "cell_type": "code",
   "execution_count": null,
   "id": "b4b09786-3795-434a-bf48-6e00fa0f6f31",
   "metadata": {},
   "outputs": [],
   "source": [
    "input\n"
   ]
  },
  {
   "cell_type": "code",
   "execution_count": null,
   "id": "1049a1a7-0a00-4d3e-a8dc-8a10db9d1d5e",
   "metadata": {},
   "outputs": [],
   "source": [
    "loaded_model.predict(input)"
   ]
  },
  {
   "cell_type": "code",
   "execution_count": null,
   "id": "79c7bd00-6686-45ad-ab06-c24824781a33",
   "metadata": {},
   "outputs": [],
   "source": []
  }
 ],
 "metadata": {
  "kernelspec": {
   "display_name": "Python 3 (ipykernel)",
   "language": "python",
   "name": "python3"
  },
  "language_info": {
   "codemirror_mode": {
    "name": "ipython",
    "version": 3
   },
   "file_extension": ".py",
   "mimetype": "text/x-python",
   "name": "python",
   "nbconvert_exporter": "python",
   "pygments_lexer": "ipython3",
   "version": "3.11.7"
  }
 },
 "nbformat": 4,
 "nbformat_minor": 5
}
