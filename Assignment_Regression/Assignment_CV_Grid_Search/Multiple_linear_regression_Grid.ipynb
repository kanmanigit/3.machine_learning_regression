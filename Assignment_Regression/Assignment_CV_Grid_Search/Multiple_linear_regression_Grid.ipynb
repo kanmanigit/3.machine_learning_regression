{
 "cells": [
  {
   "cell_type": "code",
   "execution_count": 1,
   "id": "28771c8a-29e9-45af-a5cf-5dacf6ea569a",
   "metadata": {},
   "outputs": [],
   "source": [
    "import numpy as np\n",
    "import pandas as pd\n",
    "dataset=pd.read_csv(\"insurance_pre.csv\")\n",
    "\n",
    "#dataset"
   ]
  },
  {
   "cell_type": "code",
   "execution_count": 2,
   "id": "c176b54f-44d1-43b6-9d49-c7354425c376",
   "metadata": {},
   "outputs": [],
   "source": [
    "# preprocessing_converting Nominal data_converting String into numeric \n",
    "\n",
    "dataset=pd.get_dummies(dataset, drop_first=True, dtype=int)\n",
    "#dataset"
   ]
  },
  {
   "cell_type": "code",
   "execution_count": 3,
   "id": "0accf88a-fb67-4b77-8e92-4f418d6e8c8f",
   "metadata": {},
   "outputs": [
    {
     "data": {
      "text/plain": [
       "Index(['age', 'bmi', 'children', 'charges', 'sex_male', 'smoker_yes'], dtype='object')"
      ]
     },
     "execution_count": 3,
     "metadata": {},
     "output_type": "execute_result"
    }
   ],
   "source": [
    "dataset.columns"
   ]
  },
  {
   "cell_type": "code",
   "execution_count": 12,
   "id": "36edfaa1-9df5-4d8f-9d86-b44d2d61b4cf",
   "metadata": {},
   "outputs": [
    {
     "data": {
      "text/plain": [
       "(      age     bmi  children  sex_male  smoker_yes\n",
       " 0      19  27.900         0         0           1\n",
       " 1      18  33.770         1         1           0\n",
       " 2      28  33.000         3         1           0\n",
       " 3      33  22.705         0         1           0\n",
       " 4      32  28.880         0         1           0\n",
       " ...   ...     ...       ...       ...         ...\n",
       " 1333   50  30.970         3         1           0\n",
       " 1334   18  31.920         0         0           0\n",
       " 1335   18  36.850         0         0           0\n",
       " 1336   21  25.800         0         0           0\n",
       " 1337   61  29.070         0         0           1\n",
       " \n",
       " [1338 rows x 5 columns],\n",
       "           charges\n",
       " 0     16884.92400\n",
       " 1      1725.55230\n",
       " 2      4449.46200\n",
       " 3     21984.47061\n",
       " 4      3866.85520\n",
       " ...           ...\n",
       " 1333  10600.54830\n",
       " 1334   2205.98080\n",
       " 1335   1629.83350\n",
       " 1336   2007.94500\n",
       " 1337  29141.36030\n",
       " \n",
       " [1338 rows x 1 columns])"
      ]
     },
     "execution_count": 12,
     "metadata": {},
     "output_type": "execute_result"
    }
   ],
   "source": [
    "#splitting input and output data\n",
    "independent=dataset[['age', 'bmi', 'children','sex_male', 'smoker_yes']]\n",
    "dependent=dataset[['charges']]\n",
    "\n",
    "#independent,dependent"
   ]
  },
  {
   "cell_type": "code",
   "execution_count": 5,
   "id": "b337bbe9-26f7-48bf-8b73-6e6eb0695b5d",
   "metadata": {},
   "outputs": [
    {
     "data": {
      "text/plain": [
       "array([[-1.43876426, -0.45332   , -0.90861367, -1.0105187 ,  1.97058663],\n",
       "       [-1.50996545,  0.5096211 , -0.07876719,  0.98959079, -0.5074631 ],\n",
       "       [-0.79795355,  0.38330685,  1.58092576,  0.98959079, -0.5074631 ],\n",
       "       ...,\n",
       "       [-1.50996545,  1.0148781 , -0.90861367, -1.0105187 , -0.5074631 ],\n",
       "       [-1.29636188, -0.79781341, -0.90861367, -1.0105187 , -0.5074631 ],\n",
       "       [ 1.55168573, -0.26138796, -0.90861367, -1.0105187 ,  1.97058663]])"
      ]
     },
     "execution_count": 5,
     "metadata": {},
     "output_type": "execute_result"
    }
   ],
   "source": [
    "#preparing for the input data in a range usiing Standard scaler\n",
    "\n",
    "from sklearn.preprocessing import StandardScaler\n",
    "SSX=StandardScaler()\n",
    "independent=SSX.fit_transform(independent)\n",
    "independent"
   ]
  },
  {
   "cell_type": "code",
   "execution_count": 6,
   "id": "9e961411-cf39-47c3-a5ac-3f98b9dcd632",
   "metadata": {},
   "outputs": [
    {
     "data": {
      "text/plain": [
       "array([[ 0.2985838 ],\n",
       "       [-0.95368917],\n",
       "       [-0.72867467],\n",
       "       ...,\n",
       "       [-0.96159623],\n",
       "       [-0.93036151],\n",
       "       [ 1.31105347]])"
      ]
     },
     "execution_count": 6,
     "metadata": {},
     "output_type": "execute_result"
    }
   ],
   "source": [
    "#preparing for the output data in a range usiing Standard scaler\n",
    "\n",
    "from sklearn.preprocessing import StandardScaler\n",
    "SSY=StandardScaler()\n",
    "dependent=SSY.fit_transform(dependent)\n",
    "dependent"
   ]
  },
  {
   "cell_type": "code",
   "execution_count": 7,
   "id": "8d1ab159-a0b9-49e1-a7f0-da8972f3a3d3",
   "metadata": {},
   "outputs": [
    {
     "name": "stdout",
     "output_type": "stream",
     "text": [
      "Fitting 5 folds for each of 8 candidates, totalling 40 fits\n"
     ]
    },
    {
     "data": {
      "text/html": [
       "<style>#sk-container-id-1 {color: black;background-color: white;}#sk-container-id-1 pre{padding: 0;}#sk-container-id-1 div.sk-toggleable {background-color: white;}#sk-container-id-1 label.sk-toggleable__label {cursor: pointer;display: block;width: 100%;margin-bottom: 0;padding: 0.3em;box-sizing: border-box;text-align: center;}#sk-container-id-1 label.sk-toggleable__label-arrow:before {content: \"▸\";float: left;margin-right: 0.25em;color: #696969;}#sk-container-id-1 label.sk-toggleable__label-arrow:hover:before {color: black;}#sk-container-id-1 div.sk-estimator:hover label.sk-toggleable__label-arrow:before {color: black;}#sk-container-id-1 div.sk-toggleable__content {max-height: 0;max-width: 0;overflow: hidden;text-align: left;background-color: #f0f8ff;}#sk-container-id-1 div.sk-toggleable__content pre {margin: 0.2em;color: black;border-radius: 0.25em;background-color: #f0f8ff;}#sk-container-id-1 input.sk-toggleable__control:checked~div.sk-toggleable__content {max-height: 200px;max-width: 100%;overflow: auto;}#sk-container-id-1 input.sk-toggleable__control:checked~label.sk-toggleable__label-arrow:before {content: \"▾\";}#sk-container-id-1 div.sk-estimator input.sk-toggleable__control:checked~label.sk-toggleable__label {background-color: #d4ebff;}#sk-container-id-1 div.sk-label input.sk-toggleable__control:checked~label.sk-toggleable__label {background-color: #d4ebff;}#sk-container-id-1 input.sk-hidden--visually {border: 0;clip: rect(1px 1px 1px 1px);clip: rect(1px, 1px, 1px, 1px);height: 1px;margin: -1px;overflow: hidden;padding: 0;position: absolute;width: 1px;}#sk-container-id-1 div.sk-estimator {font-family: monospace;background-color: #f0f8ff;border: 1px dotted black;border-radius: 0.25em;box-sizing: border-box;margin-bottom: 0.5em;}#sk-container-id-1 div.sk-estimator:hover {background-color: #d4ebff;}#sk-container-id-1 div.sk-parallel-item::after {content: \"\";width: 100%;border-bottom: 1px solid gray;flex-grow: 1;}#sk-container-id-1 div.sk-label:hover label.sk-toggleable__label {background-color: #d4ebff;}#sk-container-id-1 div.sk-serial::before {content: \"\";position: absolute;border-left: 1px solid gray;box-sizing: border-box;top: 0;bottom: 0;left: 50%;z-index: 0;}#sk-container-id-1 div.sk-serial {display: flex;flex-direction: column;align-items: center;background-color: white;padding-right: 0.2em;padding-left: 0.2em;position: relative;}#sk-container-id-1 div.sk-item {position: relative;z-index: 1;}#sk-container-id-1 div.sk-parallel {display: flex;align-items: stretch;justify-content: center;background-color: white;position: relative;}#sk-container-id-1 div.sk-item::before, #sk-container-id-1 div.sk-parallel-item::before {content: \"\";position: absolute;border-left: 1px solid gray;box-sizing: border-box;top: 0;bottom: 0;left: 50%;z-index: -1;}#sk-container-id-1 div.sk-parallel-item {display: flex;flex-direction: column;z-index: 1;position: relative;background-color: white;}#sk-container-id-1 div.sk-parallel-item:first-child::after {align-self: flex-end;width: 50%;}#sk-container-id-1 div.sk-parallel-item:last-child::after {align-self: flex-start;width: 50%;}#sk-container-id-1 div.sk-parallel-item:only-child::after {width: 0;}#sk-container-id-1 div.sk-dashed-wrapped {border: 1px dashed gray;margin: 0 0.4em 0.5em 0.4em;box-sizing: border-box;padding-bottom: 0.4em;background-color: white;}#sk-container-id-1 div.sk-label label {font-family: monospace;font-weight: bold;display: inline-block;line-height: 1.2em;}#sk-container-id-1 div.sk-label-container {text-align: center;}#sk-container-id-1 div.sk-container {/* jupyter's `normalize.less` sets `[hidden] { display: none; }` but bootstrap.min.css set `[hidden] { display: none !important; }` so we also need the `!important` here to be able to override the default hidden behavior on the sphinx rendered scikit-learn.org. See: https://github.com/scikit-learn/scikit-learn/issues/21755 */display: inline-block !important;position: relative;}#sk-container-id-1 div.sk-text-repr-fallback {display: none;}</style><div id=\"sk-container-id-1\" class=\"sk-top-container\"><div class=\"sk-text-repr-fallback\"><pre>GridSearchCV(estimator=LinearRegression(), n_jobs=-1,\n",
       "             param_grid={&#x27;copy_X&#x27;: [True, False],\n",
       "                         &#x27;fit_intercept&#x27;: [True, False], &#x27;n_jobs&#x27;: [None],\n",
       "                         &#x27;positive&#x27;: [True, False]},\n",
       "             verbose=3)</pre><b>In a Jupyter environment, please rerun this cell to show the HTML representation or trust the notebook. <br />On GitHub, the HTML representation is unable to render, please try loading this page with nbviewer.org.</b></div><div class=\"sk-container\" hidden><div class=\"sk-item sk-dashed-wrapped\"><div class=\"sk-label-container\"><div class=\"sk-label sk-toggleable\"><input class=\"sk-toggleable__control sk-hidden--visually\" id=\"sk-estimator-id-1\" type=\"checkbox\" ><label for=\"sk-estimator-id-1\" class=\"sk-toggleable__label sk-toggleable__label-arrow\">GridSearchCV</label><div class=\"sk-toggleable__content\"><pre>GridSearchCV(estimator=LinearRegression(), n_jobs=-1,\n",
       "             param_grid={&#x27;copy_X&#x27;: [True, False],\n",
       "                         &#x27;fit_intercept&#x27;: [True, False], &#x27;n_jobs&#x27;: [None],\n",
       "                         &#x27;positive&#x27;: [True, False]},\n",
       "             verbose=3)</pre></div></div></div><div class=\"sk-parallel\"><div class=\"sk-parallel-item\"><div class=\"sk-item\"><div class=\"sk-label-container\"><div class=\"sk-label sk-toggleable\"><input class=\"sk-toggleable__control sk-hidden--visually\" id=\"sk-estimator-id-2\" type=\"checkbox\" ><label for=\"sk-estimator-id-2\" class=\"sk-toggleable__label sk-toggleable__label-arrow\">estimator: LinearRegression</label><div class=\"sk-toggleable__content\"><pre>LinearRegression()</pre></div></div></div><div class=\"sk-serial\"><div class=\"sk-item\"><div class=\"sk-estimator sk-toggleable\"><input class=\"sk-toggleable__control sk-hidden--visually\" id=\"sk-estimator-id-3\" type=\"checkbox\" ><label for=\"sk-estimator-id-3\" class=\"sk-toggleable__label sk-toggleable__label-arrow\">LinearRegression</label><div class=\"sk-toggleable__content\"><pre>LinearRegression()</pre></div></div></div></div></div></div></div></div></div></div>"
      ],
      "text/plain": [
       "GridSearchCV(estimator=LinearRegression(), n_jobs=-1,\n",
       "             param_grid={'copy_X': [True, False],\n",
       "                         'fit_intercept': [True, False], 'n_jobs': [None],\n",
       "                         'positive': [True, False]},\n",
       "             verbose=3)"
      ]
     },
     "execution_count": 7,
     "metadata": {},
     "output_type": "execute_result"
    }
   ],
   "source": [
    "from sklearn.model_selection import GridSearchCV\n",
    "from sklearn.linear_model import LinearRegression\n",
    "param_grid={ 'fit_intercept':[True,False], \n",
    "            'copy_X':[True,False], \n",
    "            'n_jobs':[None], \n",
    "            'positive':[True,False] }\n",
    "grid=GridSearchCV(LinearRegression(),param_grid, refit=True, verbose=3, n_jobs=-1)\n",
    "grid.fit(independent,dependent)"
   ]
  },
  {
   "cell_type": "code",
   "execution_count": 8,
   "id": "db78ae02-3273-443b-9d64-72e83c38edb2",
   "metadata": {},
   "outputs": [
    {
     "name": "stdout",
     "output_type": "stream",
     "text": [
      "Rscore value for best parameter {'copy_X': True, 'fit_intercept': False, 'n_jobs': None, 'positive': True}\n"
     ]
    }
   ],
   "source": [
    "#best parameters after tunning\n",
    "print (\"Rscore value for best parameter {}\".format(grid.best_params_))"
   ]
  },
  {
   "cell_type": "code",
   "execution_count": 9,
   "id": "0abba78e-b03d-4c66-87b0-0a320c94e9ab",
   "metadata": {},
   "outputs": [],
   "source": [
    "results=grid.cv_results_\n",
    "table=pd.DataFrame.from_dict(results)\n",
    "#table"
   ]
  },
  {
   "cell_type": "code",
   "execution_count": 10,
   "id": "a23d54e4-2357-4677-a391-313b76adba23",
   "metadata": {},
   "outputs": [],
   "source": [
    "pred=grid.predict(independent)"
   ]
  },
  {
   "cell_type": "code",
   "execution_count": 11,
   "id": "9e6a7a16-1af4-4e6f-b157-adc9c133ec66",
   "metadata": {},
   "outputs": [
    {
     "data": {
      "text/plain": [
       "0.7496945303464789"
      ]
     },
     "execution_count": 11,
     "metadata": {},
     "output_type": "execute_result"
    }
   ],
   "source": [
    "#finding r2_score value:\n",
    "\n",
    "from sklearn.metrics import r2_score\n",
    "r2score=r2_score(dependent,pred)\n",
    "r2score"
   ]
  },
  {
   "cell_type": "code",
   "execution_count": null,
   "id": "79c7bd00-6686-45ad-ab06-c24824781a33",
   "metadata": {},
   "outputs": [],
   "source": []
  },
  {
   "cell_type": "code",
   "execution_count": null,
   "id": "87887065-613e-402e-a923-c75dec44355b",
   "metadata": {},
   "outputs": [],
   "source": []
  }
 ],
 "metadata": {
  "kernelspec": {
   "display_name": "Python 3 (ipykernel)",
   "language": "python",
   "name": "python3"
  },
  "language_info": {
   "codemirror_mode": {
    "name": "ipython",
    "version": 3
   },
   "file_extension": ".py",
   "mimetype": "text/x-python",
   "name": "python",
   "nbconvert_exporter": "python",
   "pygments_lexer": "ipython3",
   "version": "3.11.7"
  }
 },
 "nbformat": 4,
 "nbformat_minor": 5
}
