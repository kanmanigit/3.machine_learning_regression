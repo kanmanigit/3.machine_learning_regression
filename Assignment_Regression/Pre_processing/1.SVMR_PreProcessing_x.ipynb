{
 "cells": [
  {
   "cell_type": "code",
   "execution_count": 1,
   "id": "cd29a896-2fdc-49e5-b3ba-ee18a819fb58",
   "metadata": {},
   "outputs": [],
   "source": [
    "import pandas as pd\n",
    "import pickle"
   ]
  },
  {
   "cell_type": "code",
   "execution_count": 2,
   "id": "ce46b9cf-de24-4789-8392-c52cc5dac511",
   "metadata": {},
   "outputs": [],
   "source": [
    "dataset=pd.read_csv(\"50_Startups.csv\")\n",
    "#dataset"
   ]
  },
  {
   "cell_type": "code",
   "execution_count": 3,
   "id": "f74ae1f4-d156-4d37-9c76-16708790937e",
   "metadata": {},
   "outputs": [
    {
     "data": {
      "text/plain": [
       "Index(['R&D Spend', 'Administration', 'Marketing Spend', 'State', 'Profit'], dtype='object')"
      ]
     },
     "execution_count": 3,
     "metadata": {},
     "output_type": "execute_result"
    }
   ],
   "source": [
    "\n",
    "dataset.columns"
   ]
  },
  {
   "cell_type": "code",
   "execution_count": 4,
   "id": "61451ef6-1ef0-411a-a837-8e49dd571c9b",
   "metadata": {},
   "outputs": [],
   "source": [
    "# convert the column to numeric dataset\n",
    "\n",
    "dataset=pd.get_dummies(dataset,drop_first=True,dtype=int)\n",
    "\n",
    "#dataset\n"
   ]
  },
  {
   "cell_type": "code",
   "execution_count": 5,
   "id": "ac117575-a99d-49de-8caa-a16845b392c6",
   "metadata": {},
   "outputs": [
    {
     "data": {
      "text/plain": [
       "Index(['R&D Spend', 'Administration', 'Marketing Spend', 'Profit',\n",
       "       'State_Florida', 'State_New York'],\n",
       "      dtype='object')"
      ]
     },
     "execution_count": 5,
     "metadata": {},
     "output_type": "execute_result"
    }
   ],
   "source": [
    "dataset.columns"
   ]
  },
  {
   "cell_type": "code",
   "execution_count": 6,
   "id": "24bc9f9f-a17e-45c6-a9dd-bb02291665bc",
   "metadata": {},
   "outputs": [],
   "source": [
    "# split the input and output data\n",
    "independent=dataset[['R&D Spend', 'Administration', 'Marketing Spend','State_Florida', 'State_New York']]\n",
    "#independent"
   ]
  },
  {
   "cell_type": "code",
   "execution_count": 7,
   "id": "8408f257-6de6-4636-9aeb-e7d2b7d78c32",
   "metadata": {},
   "outputs": [],
   "source": [
    "dependent=dataset[['Profit']]"
   ]
  },
  {
   "cell_type": "code",
   "execution_count": 8,
   "id": "fb3d006c-24c4-4faf-82a7-61faa542cce7",
   "metadata": {},
   "outputs": [],
   "source": [
    "# Split the data as train and test dataset\n",
    "\n",
    "from sklearn.model_selection import train_test_split"
   ]
  },
  {
   "cell_type": "code",
   "execution_count": 9,
   "id": "fe4f0b41-1b89-4c76-98ef-00f05afd583f",
   "metadata": {},
   "outputs": [],
   "source": [
    "X_train, X_test, Y_train, Y_test=train_test_split(independent,dependent, test_size=0.3,random_state=1)\n",
    "\n",
    "#X_train, X_test, Y_train, Y_test   "
   ]
  },
  {
   "cell_type": "code",
   "execution_count": 10,
   "id": "fc74dd15-57ca-4b87-97e4-b3e67c96e6bf",
   "metadata": {},
   "outputs": [],
   "source": [
    "# preprocessing the input data in a range\n",
    "\n",
    "from sklearn.preprocessing import StandardScaler\n",
    "SSX= StandardScaler()\n",
    "X_train = SSX.fit_transform(X_train)\n",
    "X_test= SSX.transform(X_test)\n",
    "\n",
    "#X_train, X_test"
   ]
  },
  {
   "cell_type": "code",
   "execution_count": 11,
   "id": "9e8779ce-c7dc-4511-91f0-3c470e2185f1",
   "metadata": {},
   "outputs": [],
   "source": [
    "# Preprocessing the output data in a range\n",
    "#from sklearn.preprocessing import StandardScaler\n",
    "#SSY=StandardScaler()\n",
    "#Y_train=SSY.fit_transform(Y_train)\n",
    "#Y_test=SSY.transform(Y_test)"
   ]
  },
  {
   "cell_type": "code",
   "execution_count": 12,
   "id": "ec380230-f1ac-4ef3-9d6a-25ef3d5dca1a",
   "metadata": {},
   "outputs": [
    {
     "name": "stderr",
     "output_type": "stream",
     "text": [
      "/opt/anaconda3/lib/python3.11/site-packages/sklearn/utils/validation.py:1143: DataConversionWarning: A column-vector y was passed when a 1d array was expected. Please change the shape of y to (n_samples, ), for example using ravel().\n",
      "  y = column_or_1d(y, warn=True)\n"
     ]
    },
    {
     "data": {
      "text/html": [
       "<style>#sk-container-id-1 {color: black;background-color: white;}#sk-container-id-1 pre{padding: 0;}#sk-container-id-1 div.sk-toggleable {background-color: white;}#sk-container-id-1 label.sk-toggleable__label {cursor: pointer;display: block;width: 100%;margin-bottom: 0;padding: 0.3em;box-sizing: border-box;text-align: center;}#sk-container-id-1 label.sk-toggleable__label-arrow:before {content: \"▸\";float: left;margin-right: 0.25em;color: #696969;}#sk-container-id-1 label.sk-toggleable__label-arrow:hover:before {color: black;}#sk-container-id-1 div.sk-estimator:hover label.sk-toggleable__label-arrow:before {color: black;}#sk-container-id-1 div.sk-toggleable__content {max-height: 0;max-width: 0;overflow: hidden;text-align: left;background-color: #f0f8ff;}#sk-container-id-1 div.sk-toggleable__content pre {margin: 0.2em;color: black;border-radius: 0.25em;background-color: #f0f8ff;}#sk-container-id-1 input.sk-toggleable__control:checked~div.sk-toggleable__content {max-height: 200px;max-width: 100%;overflow: auto;}#sk-container-id-1 input.sk-toggleable__control:checked~label.sk-toggleable__label-arrow:before {content: \"▾\";}#sk-container-id-1 div.sk-estimator input.sk-toggleable__control:checked~label.sk-toggleable__label {background-color: #d4ebff;}#sk-container-id-1 div.sk-label input.sk-toggleable__control:checked~label.sk-toggleable__label {background-color: #d4ebff;}#sk-container-id-1 input.sk-hidden--visually {border: 0;clip: rect(1px 1px 1px 1px);clip: rect(1px, 1px, 1px, 1px);height: 1px;margin: -1px;overflow: hidden;padding: 0;position: absolute;width: 1px;}#sk-container-id-1 div.sk-estimator {font-family: monospace;background-color: #f0f8ff;border: 1px dotted black;border-radius: 0.25em;box-sizing: border-box;margin-bottom: 0.5em;}#sk-container-id-1 div.sk-estimator:hover {background-color: #d4ebff;}#sk-container-id-1 div.sk-parallel-item::after {content: \"\";width: 100%;border-bottom: 1px solid gray;flex-grow: 1;}#sk-container-id-1 div.sk-label:hover label.sk-toggleable__label {background-color: #d4ebff;}#sk-container-id-1 div.sk-serial::before {content: \"\";position: absolute;border-left: 1px solid gray;box-sizing: border-box;top: 0;bottom: 0;left: 50%;z-index: 0;}#sk-container-id-1 div.sk-serial {display: flex;flex-direction: column;align-items: center;background-color: white;padding-right: 0.2em;padding-left: 0.2em;position: relative;}#sk-container-id-1 div.sk-item {position: relative;z-index: 1;}#sk-container-id-1 div.sk-parallel {display: flex;align-items: stretch;justify-content: center;background-color: white;position: relative;}#sk-container-id-1 div.sk-item::before, #sk-container-id-1 div.sk-parallel-item::before {content: \"\";position: absolute;border-left: 1px solid gray;box-sizing: border-box;top: 0;bottom: 0;left: 50%;z-index: -1;}#sk-container-id-1 div.sk-parallel-item {display: flex;flex-direction: column;z-index: 1;position: relative;background-color: white;}#sk-container-id-1 div.sk-parallel-item:first-child::after {align-self: flex-end;width: 50%;}#sk-container-id-1 div.sk-parallel-item:last-child::after {align-self: flex-start;width: 50%;}#sk-container-id-1 div.sk-parallel-item:only-child::after {width: 0;}#sk-container-id-1 div.sk-dashed-wrapped {border: 1px dashed gray;margin: 0 0.4em 0.5em 0.4em;box-sizing: border-box;padding-bottom: 0.4em;background-color: white;}#sk-container-id-1 div.sk-label label {font-family: monospace;font-weight: bold;display: inline-block;line-height: 1.2em;}#sk-container-id-1 div.sk-label-container {text-align: center;}#sk-container-id-1 div.sk-container {/* jupyter's `normalize.less` sets `[hidden] { display: none; }` but bootstrap.min.css set `[hidden] { display: none !important; }` so we also need the `!important` here to be able to override the default hidden behavior on the sphinx rendered scikit-learn.org. See: https://github.com/scikit-learn/scikit-learn/issues/21755 */display: inline-block !important;position: relative;}#sk-container-id-1 div.sk-text-repr-fallback {display: none;}</style><div id=\"sk-container-id-1\" class=\"sk-top-container\"><div class=\"sk-text-repr-fallback\"><pre>SVR(C=1000)</pre><b>In a Jupyter environment, please rerun this cell to show the HTML representation or trust the notebook. <br />On GitHub, the HTML representation is unable to render, please try loading this page with nbviewer.org.</b></div><div class=\"sk-container\" hidden><div class=\"sk-item\"><div class=\"sk-estimator sk-toggleable\"><input class=\"sk-toggleable__control sk-hidden--visually\" id=\"sk-estimator-id-1\" type=\"checkbox\" checked><label for=\"sk-estimator-id-1\" class=\"sk-toggleable__label sk-toggleable__label-arrow\">SVR</label><div class=\"sk-toggleable__content\"><pre>SVR(C=1000)</pre></div></div></div></div></div>"
      ],
      "text/plain": [
       "SVR(C=1000)"
      ]
     },
     "execution_count": 12,
     "metadata": {},
     "output_type": "execute_result"
    }
   ],
   "source": [
    "# Model Creation\n",
    "from sklearn.svm import SVR\n",
    "\n",
    "#regresser=SVR(kernel='linear',C=1000)\n",
    "#regresser=SVR(kernel='poly',C=1000)\n",
    "regresser=SVR(kernel='rbf',C=1000)\n",
    "#regresser=SVR(kernel='sigmoid',C=1000)\n",
    "#regresser=SVR(kernel='precomputed',C=1000)\n",
    "\n",
    "regresser.fit(X_train,Y_train)"
   ]
  },
  {
   "cell_type": "code",
   "execution_count": 13,
   "id": "8b08b809-62ff-493d-810e-8515f76377c1",
   "metadata": {},
   "outputs": [],
   "source": [
    "#Slope only for \"kernal=linear\" \n",
    "#slope=regresser.coef_"
   ]
  },
  {
   "cell_type": "code",
   "execution_count": 14,
   "id": "bd031342-93a8-4c32-a1b1-a7bb7a5f5028",
   "metadata": {},
   "outputs": [],
   "source": [
    "# slope"
   ]
  },
  {
   "cell_type": "code",
   "execution_count": 15,
   "id": "3b10e6f4-4f05-46ae-8baa-a7981106e1f5",
   "metadata": {},
   "outputs": [],
   "source": [
    "# initial point\n",
    "bias=regresser.intercept_"
   ]
  },
  {
   "cell_type": "code",
   "execution_count": 16,
   "id": "4d109519-63c6-4844-8502-59f81899ac63",
   "metadata": {},
   "outputs": [
    {
     "data": {
      "text/plain": [
       "array([116235.40015969])"
      ]
     },
     "execution_count": 16,
     "metadata": {},
     "output_type": "execute_result"
    }
   ],
   "source": [
    "bias"
   ]
  },
  {
   "cell_type": "code",
   "execution_count": 17,
   "id": "1aacfb73-fc43-4e3c-ab7e-336df8b2bdf2",
   "metadata": {},
   "outputs": [
    {
     "data": {
      "text/plain": [
       "array([34], dtype=int32)"
      ]
     },
     "execution_count": 17,
     "metadata": {},
     "output_type": "execute_result"
    }
   ],
   "source": [
    "# find the number of support vectors\n",
    "regresser.n_support_"
   ]
  },
  {
   "cell_type": "code",
   "execution_count": 18,
   "id": "6fb9a74c-dc98-4426-a911-43bfca37d615",
   "metadata": {},
   "outputs": [],
   "source": [
    "Y_predict=regresser.predict(X_test)"
   ]
  },
  {
   "cell_type": "code",
   "execution_count": 19,
   "id": "947347c8-4723-43ef-af98-2ebbdf6db1d2",
   "metadata": {},
   "outputs": [],
   "source": [
    "from sklearn.metrics import r2_score\n",
    "r2_score=r2_score(Y_test, Y_predict )"
   ]
  },
  {
   "cell_type": "code",
   "execution_count": 20,
   "id": "21963504-0752-42b4-8eea-0aba837f6941",
   "metadata": {},
   "outputs": [
    {
     "data": {
      "text/plain": [
       "-0.0491799237171453"
      ]
     },
     "execution_count": 20,
     "metadata": {},
     "output_type": "execute_result"
    }
   ],
   "source": [
    "r2_score"
   ]
  },
  {
   "cell_type": "code",
   "execution_count": 21,
   "id": "c358d013-12eb-4b7f-974e-08acc6e5e410",
   "metadata": {},
   "outputs": [],
   "source": [
    "# kernal=linear r2_score  0.18493430534838728 without preprocessing\n",
    "\n",
    "# kernal=linear r2_score  -0.17998445230050053 with preprocessing\n",
    "# ditto above with C=1000, r2_score is 0.8083565059299784\n",
    "# kernal=poly r2_score C=100 -8327617.64964037 with preprocessing\n",
    "# kernal=rbf r2_score  -0.17998445230050053 with preprocessing\n",
    "# kernal=sigmoid r2_score  -37260849.119532205 with preprocessing\n",
    "# kernal=precomputed r2_score  -332252847.9580803 with preprocessing\n"
   ]
  },
  {
   "cell_type": "code",
   "execution_count": 22,
   "id": "80909537-5549-4a8c-8328-c269c41945db",
   "metadata": {},
   "outputs": [],
   "source": [
    "# Save Model\n",
    "pickle.dump(regresser,open(\"finalized_model_SVMR.sav\",'wb'))\n"
   ]
  },
  {
   "cell_type": "code",
   "execution_count": 23,
   "id": "4013524a-63a4-478d-906d-2a78396aac81",
   "metadata": {},
   "outputs": [
    {
     "name": "stderr",
     "output_type": "stream",
     "text": [
      "/opt/anaconda3/lib/python3.11/site-packages/sklearn/base.py:439: UserWarning: X does not have valid feature names, but StandardScaler was fitted with feature names\n",
      "  warnings.warn(\n"
     ]
    }
   ],
   "source": [
    "#pre input, scale the input data\n",
    "pre_input=SSX.transform([[1200,1300,1500,0,1]])\n",
    "\n"
   ]
  },
  {
   "cell_type": "code",
   "execution_count": 24,
   "id": "048dda44-9557-4035-9dd0-9bdcfc85d0a3",
   "metadata": {},
   "outputs": [
    {
     "data": {
      "text/plain": [
       "array([116096.79156604])"
      ]
     },
     "execution_count": 24,
     "metadata": {},
     "output_type": "execute_result"
    }
   ],
   "source": [
    "#load the model\n",
    "loaded_model=pickle.load(open(\"finalized_model_SVMR.sav\",'rb'))\n",
    "result=loaded_model.predict(pre_input)\n",
    "result"
   ]
  },
  {
   "cell_type": "code",
   "execution_count": 25,
   "id": "00234ea6-f18c-43c3-a1ab-2ee4839a1741",
   "metadata": {},
   "outputs": [],
   "source": [
    "# if standard scalar applied on the output data\n",
    "#Final_result=SSY.inverse_transform([result])\n",
    "#Final_result"
   ]
  },
  {
   "cell_type": "code",
   "execution_count": null,
   "id": "4e74b629-1894-4526-ba92-ef5d5098771e",
   "metadata": {},
   "outputs": [],
   "source": []
  }
 ],
 "metadata": {
  "kernelspec": {
   "display_name": "Python 3 (ipykernel)",
   "language": "python",
   "name": "python3"
  },
  "language_info": {
   "codemirror_mode": {
    "name": "ipython",
    "version": 3
   },
   "file_extension": ".py",
   "mimetype": "text/x-python",
   "name": "python",
   "nbconvert_exporter": "python",
   "pygments_lexer": "ipython3",
   "version": "3.11.7"
  }
 },
 "nbformat": 4,
 "nbformat_minor": 5
}
