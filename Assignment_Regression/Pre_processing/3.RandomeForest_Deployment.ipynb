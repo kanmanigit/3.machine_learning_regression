{
 "cells": [
  {
   "cell_type": "code",
   "execution_count": 1,
   "id": "de7ba0a1-c8c7-46b5-9936-e765256479cd",
   "metadata": {},
   "outputs": [],
   "source": [
    "import pickle\n",
    "import pandas"
   ]
  },
  {
   "cell_type": "code",
   "execution_count": 2,
   "id": "5f7d3c70-17ee-40d9-884a-04767dfb3908",
   "metadata": {},
   "outputs": [],
   "source": [
    "#load SSX standard scaler object\n",
    "SSX=pickle.load(open(\"SSX.pkl\",'rb'))\n",
    "\n",
    "#load SSY standard scaler object\n",
    "SSY=pickle.load(open(\"SSY.pkl\",'rb'))"
   ]
  },
  {
   "cell_type": "code",
   "execution_count": 3,
   "id": "62c418d2-c180-4161-87dc-838f51ede2ea",
   "metadata": {},
   "outputs": [],
   "source": [
    "#load model\n",
    "loaded_module=pickle.load(open(\"finalized_model_random_forest_regressor.sav\",'rb'))"
   ]
  },
  {
   "cell_type": "code",
   "execution_count": 4,
   "id": "8e180bda-3ba4-4d7f-a7de-0fa798348cf5",
   "metadata": {},
   "outputs": [
    {
     "name": "stderr",
     "output_type": "stream",
     "text": [
      "/opt/anaconda3/lib/python3.11/site-packages/sklearn/base.py:439: UserWarning: X does not have valid feature names, but StandardScaler was fitted with feature names\n",
      "  warnings.warn(\n"
     ]
    },
    {
     "data": {
      "text/plain": [
       "array([[-1.70465294, -4.699849  , -1.84131386, -0.76870611,  1.83711731]])"
      ]
     },
     "execution_count": 4,
     "metadata": {},
     "output_type": "execute_result"
    }
   ],
   "source": [
    "pre_input=SSX.transform([[3400,3500,2000,0,1]])\n",
    "pre_input"
   ]
  },
  {
   "cell_type": "code",
   "execution_count": 5,
   "id": "1607470c-28a4-4403-8f5b-9b5a716ae968",
   "metadata": {},
   "outputs": [
    {
     "data": {
      "text/plain": [
       "array([-1.71292469])"
      ]
     },
     "execution_count": 5,
     "metadata": {},
     "output_type": "execute_result"
    }
   ],
   "source": [
    "result=loaded_module.predict(pre_input)\n",
    "result"
   ]
  },
  {
   "cell_type": "code",
   "execution_count": 6,
   "id": "1ceb53b7-88a3-48f5-8a5b-7ddeb44f917a",
   "metadata": {},
   "outputs": [
    {
     "data": {
      "text/plain": [
       "array([[49615.8093]])"
      ]
     },
     "execution_count": 6,
     "metadata": {},
     "output_type": "execute_result"
    }
   ],
   "source": [
    "Final_result=SSY.inverse_transform([result])\n",
    "Final_result"
   ]
  },
  {
   "cell_type": "code",
   "execution_count": null,
   "id": "9fbf2747-83a0-45d7-847f-33067d62f881",
   "metadata": {},
   "outputs": [],
   "source": []
  }
 ],
 "metadata": {
  "kernelspec": {
   "display_name": "Python 3 (ipykernel)",
   "language": "python",
   "name": "python3"
  },
  "language_info": {
   "codemirror_mode": {
    "name": "ipython",
    "version": 3
   },
   "file_extension": ".py",
   "mimetype": "text/x-python",
   "name": "python",
   "nbconvert_exporter": "python",
   "pygments_lexer": "ipython3",
   "version": "3.11.7"
  }
 },
 "nbformat": 4,
 "nbformat_minor": 5
}
