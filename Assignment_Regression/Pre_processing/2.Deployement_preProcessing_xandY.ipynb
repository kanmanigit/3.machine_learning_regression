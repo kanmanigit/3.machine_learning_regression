{
 "cells": [
  {
   "cell_type": "code",
   "execution_count": 1,
   "id": "de7ba0a1-c8c7-46b5-9936-e765256479cd",
   "metadata": {},
   "outputs": [],
   "source": [
    "import pickle\n",
    "import pandas\n"
   ]
  },
  {
   "cell_type": "code",
   "execution_count": 2,
   "id": "ed967ab2-82d2-4529-acfe-972ccbf5fd6f",
   "metadata": {},
   "outputs": [],
   "source": [
    "ds=pandas.read_csv(\"50_Startups.csv\")\n",
    "#ds"
   ]
  },
  {
   "cell_type": "code",
   "execution_count": 3,
   "id": "c4b3600d-707c-4998-9f9b-c9f5ac9fa9b7",
   "metadata": {},
   "outputs": [
    {
     "data": {
      "text/plain": [
       "Index(['R&D Spend', 'Administration', 'Marketing Spend', 'Profit',\n",
       "       'State_Florida', 'State_New York'],\n",
       "      dtype='object')"
      ]
     },
     "execution_count": 3,
     "metadata": {},
     "output_type": "execute_result"
    }
   ],
   "source": [
    "# convert the string to numerical data\n",
    "ds=pandas.get_dummies(ds, drop_first=True, dtype=int)\n",
    "#ds\n",
    "ds.columns"
   ]
  },
  {
   "cell_type": "code",
   "execution_count": 4,
   "id": "c251be75-b826-439b-b23b-102ae79ed1bc",
   "metadata": {},
   "outputs": [],
   "source": [
    "# Split the input and output data\n",
    "independent=ds[['R&D Spend', 'Administration', 'Marketing Spend','State_Florida', 'State_New York']]\n",
    "dependent=ds[['Profit']]\n",
    "#independent,dependent"
   ]
  },
  {
   "cell_type": "code",
   "execution_count": 5,
   "id": "01102f76-4ec2-46a8-88d8-13b835d7524f",
   "metadata": {},
   "outputs": [],
   "source": [
    "#spilt the datas for traning and testing datas set\n",
    "\n",
    "from sklearn.model_selection import train_test_split\n",
    "x_train,x_test,y_train,y_test=train_test_split(independent,dependent,test_size=0.30,random_state=0)\n",
    "\n",
    "#x_train,x_test,y_train,y_test"
   ]
  },
  {
   "cell_type": "code",
   "execution_count": 7,
   "id": "d06b0758-4bcb-4a2d-8dfb-869f0cf22d6b",
   "metadata": {},
   "outputs": [],
   "source": [
    "# Scale the input data as a range using skilern's Standard Scaler class\n",
    "from sklearn.preprocessing import StandardScaler\n",
    "SSX= StandardScaler()\n",
    "x_train = SSX.fit_transform(x_train)\n",
    "x_test= SSX.transform(x_test)\n",
    "\n",
    "#X_train, X_test"
   ]
  },
  {
   "cell_type": "code",
   "execution_count": 8,
   "id": "06db9e84-9c55-4e83-a98c-37140aa1d292",
   "metadata": {},
   "outputs": [],
   "source": [
    "# Preprocessing the output data in a range\n",
    "from sklearn.preprocessing import StandardScaler\n",
    "SSY=StandardScaler()\n",
    "y_train=SSY.fit_transform(y_train)\n",
    "y_test=SSY.transform(y_test)"
   ]
  },
  {
   "cell_type": "code",
   "execution_count": 9,
   "id": "62c418d2-c180-4161-87dc-838f51ede2ea",
   "metadata": {},
   "outputs": [],
   "source": [
    "#load model\n",
    "loaded_module=pickle.load(open(\"finalized_model_SVMRXY.sav\",'rb'))"
   ]
  },
  {
   "cell_type": "code",
   "execution_count": 11,
   "id": "3ce27ef6-d763-432d-94e0-bc4f18d12ccc",
   "metadata": {},
   "outputs": [
    {
     "name": "stderr",
     "output_type": "stream",
     "text": [
      "/opt/anaconda3/lib/python3.11/site-packages/sklearn/base.py:439: UserWarning: X does not have valid feature names, but StandardScaler was fitted with feature names\n",
      "  warnings.warn(\n"
     ]
    },
    {
     "data": {
      "text/plain": [
       "array([[-1.42451165, -4.610087  , -1.52276718, -0.5       ,  1.30088727]])"
      ]
     },
     "execution_count": 11,
     "metadata": {},
     "output_type": "execute_result"
    }
   ],
   "source": [
    "#pre_input\n",
    "pre_input=SSX.transform([[3400,5000,2000,0,1]])\n",
    "pre_input"
   ]
  },
  {
   "cell_type": "code",
   "execution_count": 13,
   "id": "1607470c-28a4-4403-8f5b-9b5a716ae968",
   "metadata": {},
   "outputs": [
    {
     "data": {
      "text/plain": [
       "array([-0.16912844])"
      ]
     },
     "execution_count": 13,
     "metadata": {},
     "output_type": "execute_result"
    }
   ],
   "source": [
    "result=loaded_module.predict(pre_input)\n",
    "result"
   ]
  },
  {
   "cell_type": "code",
   "execution_count": 17,
   "id": "1ceb53b7-88a3-48f5-8a5b-7ddeb44f917a",
   "metadata": {},
   "outputs": [
    {
     "data": {
      "text/plain": [
       "array([[102950.63936516]])"
      ]
     },
     "execution_count": 17,
     "metadata": {},
     "output_type": "execute_result"
    }
   ],
   "source": [
    "Final_result=SSY.inverse_transform([result])\n",
    "Final_result"
   ]
  },
  {
   "cell_type": "code",
   "execution_count": null,
   "id": "9fbf2747-83a0-45d7-847f-33067d62f881",
   "metadata": {},
   "outputs": [],
   "source": []
  }
 ],
 "metadata": {
  "kernelspec": {
   "display_name": "Python 3 (ipykernel)",
   "language": "python",
   "name": "python3"
  },
  "language_info": {
   "codemirror_mode": {
    "name": "ipython",
    "version": 3
   },
   "file_extension": ".py",
   "mimetype": "text/x-python",
   "name": "python",
   "nbconvert_exporter": "python",
   "pygments_lexer": "ipython3",
   "version": "3.11.7"
  }
 },
 "nbformat": 4,
 "nbformat_minor": 5
}
