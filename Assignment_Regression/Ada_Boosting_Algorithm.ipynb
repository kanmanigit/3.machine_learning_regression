{
 "cells": [
  {
   "cell_type": "code",
   "execution_count": 1,
   "id": "c34cd515-fc2d-48ea-bdec-c54667267971",
   "metadata": {},
   "outputs": [],
   "source": [
    "import pandas as pd\n",
    "dataset=pd.read_csv(\"insurance_pre.csv\")\n"
   ]
  },
  {
   "cell_type": "code",
   "execution_count": 2,
   "id": "3c8c8fc3-e615-40d7-a5f6-e9ef71a4b027",
   "metadata": {},
   "outputs": [
    {
     "data": {
      "text/plain": [
       "Index(['age', 'sex', 'bmi', 'children', 'smoker', 'charges'], dtype='object')"
      ]
     },
     "execution_count": 2,
     "metadata": {},
     "output_type": "execute_result"
    }
   ],
   "source": [
    "dataset.columns"
   ]
  },
  {
   "cell_type": "code",
   "execution_count": 3,
   "id": "09ddd4c3-9a32-4747-b8db-9a0d48289912",
   "metadata": {},
   "outputs": [],
   "source": [
    "#convert dataset as numerical data\n",
    "dataset=pd.get_dummies(dataset, drop_first=True, dtype=int)"
   ]
  },
  {
   "cell_type": "code",
   "execution_count": 4,
   "id": "56bec9d9-ffbb-4191-a4d7-666d166d745d",
   "metadata": {},
   "outputs": [
    {
     "data": {
      "text/plain": [
       "Index(['age', 'bmi', 'children', 'charges', 'sex_male', 'smoker_yes'], dtype='object')"
      ]
     },
     "execution_count": 4,
     "metadata": {},
     "output_type": "execute_result"
    }
   ],
   "source": [
    "dataset.columns\n"
   ]
  },
  {
   "cell_type": "code",
   "execution_count": 5,
   "id": "cb059f8b-b29c-405f-9f69-7a531a639a08",
   "metadata": {},
   "outputs": [],
   "source": [
    "# split input and output data\n",
    "independent=dataset[['age', 'bmi', 'children','sex_male', 'smoker_yes']]\n",
    "dependent=dataset[['charges']]"
   ]
  },
  {
   "cell_type": "code",
   "execution_count": 6,
   "id": "71201675-5d7e-429c-b5fb-783506c3d243",
   "metadata": {},
   "outputs": [],
   "source": [
    "# Split data for train and test sets\n",
    "from sklearn.model_selection import train_test_split\n",
    "X_train,X_test, Y_train,Y_test =train_test_split(independent,dependent,test_size=.3, random_state=1)"
   ]
  },
  {
   "cell_type": "code",
   "execution_count": 7,
   "id": "85590ac1-8068-4de6-978e-8aa9e6b72a8c",
   "metadata": {},
   "outputs": [
    {
     "data": {
      "text/plain": [
       "(      age     bmi  children  sex_male  smoker_yes\n",
       " 744    50  26.410         0         1           0\n",
       " 363    21  26.400         1         0           0\n",
       " 10     25  26.220         0         1           0\n",
       " 970    50  28.160         3         0           0\n",
       " 634    51  39.700         1         1           0\n",
       " ...   ...     ...       ...       ...         ...\n",
       " 715    60  28.900         0         1           0\n",
       " 905    26  29.355         2         0           0\n",
       " 1096   51  34.960         2         0           1\n",
       " 235    40  22.220         2         0           1\n",
       " 1061   57  27.940         1         1           0\n",
       " \n",
       " [936 rows x 5 columns],\n",
       "       age     bmi  children  sex_male  smoker_yes\n",
       " 559    19  35.530         0         1           0\n",
       " 1087   57  31.540         0         1           0\n",
       " 1020   51  37.000         0         1           0\n",
       " 460    49  36.630         3         0           0\n",
       " 802    21  22.300         1         1           0\n",
       " ...   ...     ...       ...       ...         ...\n",
       " 323    57  40.945         0         1           0\n",
       " 1268   20  33.300         0         0           0\n",
       " 134    20  28.785         0         0           0\n",
       " 1274   26  27.060         0         1           1\n",
       " 876    49  27.100         1         0           0\n",
       " \n",
       " [402 rows x 5 columns],\n",
       "           charges\n",
       " 744    8827.20990\n",
       " 363    2597.77900\n",
       " 10     2721.32080\n",
       " 970   10702.64240\n",
       " 634    9391.34600\n",
       " ...           ...\n",
       " 715   12146.97100\n",
       " 905    4564.19145\n",
       " 1096  44641.19740\n",
       " 235   19444.26580\n",
       " 1061  11554.22360\n",
       " \n",
       " [936 rows x 1 columns],\n",
       "           charges\n",
       " 559    1646.42970\n",
       " 1087  11353.22760\n",
       " 1020   8798.59300\n",
       " 460   10381.47870\n",
       " 802    2103.08000\n",
       " ...           ...\n",
       " 323   11566.30055\n",
       " 1268   1880.48700\n",
       " 134    2457.21115\n",
       " 1274  17043.34140\n",
       " 876   26140.36030\n",
       " \n",
       " [402 rows x 1 columns])"
      ]
     },
     "execution_count": 7,
     "metadata": {},
     "output_type": "execute_result"
    }
   ],
   "source": [
    "X_train,X_test, Y_train,Y_test"
   ]
  },
  {
   "cell_type": "code",
   "execution_count": 8,
   "id": "cfd8d1fe-22de-46df-bf7d-be6aac121e38",
   "metadata": {},
   "outputs": [],
   "source": [
    "# preprocessing the data in a range\n",
    "\n",
    "#from sklearn.preprocessing import StandardScaler\n",
    "#SS= StandardScaler()\n",
    "#X_train = SS.fit_transform(X_train)\n",
    "#X_test= SS.transform(X_test)"
   ]
  },
  {
   "cell_type": "code",
   "execution_count": 11,
   "id": "813993e2-f6c5-4dab-b992-8f0240fa9146",
   "metadata": {},
   "outputs": [
    {
     "name": "stderr",
     "output_type": "stream",
     "text": [
      "/opt/anaconda3/lib/python3.11/site-packages/sklearn/utils/validation.py:1143: DataConversionWarning: A column-vector y was passed when a 1d array was expected. Please change the shape of y to (n_samples, ), for example using ravel().\n",
      "  y = column_or_1d(y, warn=True)\n"
     ]
    }
   ],
   "source": [
    "# model creation\n",
    "from sklearn.ensemble import AdaBoostRegressor\n",
    "regresser=AdaBoostRegressor()\n",
    "regresser=regresser.fit(X_train,Y_train)"
   ]
  },
  {
   "cell_type": "code",
   "execution_count": 12,
   "id": "d2c474dd-11cc-47c9-9656-a97668efcfad",
   "metadata": {},
   "outputs": [],
   "source": [
    "# plot the tree\n",
    "#import matplotlib.pyplot as plt\n",
    "#from sklearn import tree\n",
    "#tree.plot_tree(regresser)\n",
    "#plt.show()"
   ]
  },
  {
   "cell_type": "code",
   "execution_count": 13,
   "id": "da4d5418-861a-4a91-8fbd-44bdcb77b112",
   "metadata": {},
   "outputs": [],
   "source": [
    "Y_pred=regresser.predict(X_test)"
   ]
  },
  {
   "cell_type": "code",
   "execution_count": 14,
   "id": "3be01b61-fff3-4022-a0d2-9d1a24cd209b",
   "metadata": {},
   "outputs": [],
   "source": [
    "# Find r2_score\n",
    "from sklearn.metrics import r2_score\n",
    "r2_score=r2_score(Y_test,Y_pred)"
   ]
  },
  {
   "cell_type": "code",
   "execution_count": 15,
   "id": "f91857e2-d90e-4d74-9797-8acb5cd103d4",
   "metadata": {},
   "outputs": [
    {
     "data": {
      "text/plain": [
       "0.8230272510659714"
      ]
     },
     "execution_count": 15,
     "metadata": {},
     "output_type": "execute_result"
    }
   ],
   "source": [
    "r2_score"
   ]
  },
  {
   "cell_type": "code",
   "execution_count": 16,
   "id": "d4e61296-f250-4c0f-bd52-ad4d388148f7",
   "metadata": {},
   "outputs": [],
   "source": [
    "# save model\n",
    "import pickle\n",
    "pickle.dump(regresser,open(\"model_ada_boosting_Regression.sav\",'wb'))"
   ]
  },
  {
   "cell_type": "code",
   "execution_count": 17,
   "id": "7e6686e2-2c6a-4f00-8f71-17d70dd1f55d",
   "metadata": {},
   "outputs": [],
   "source": [
    "loaded_model=pickle.load(open(\"model_ada_boosting_Regression.sav\",'rb'))"
   ]
  },
  {
   "cell_type": "code",
   "execution_count": 18,
   "id": "8d12d835-2b57-4b8c-9eb0-a4f0b29c9da9",
   "metadata": {},
   "outputs": [
    {
     "name": "stderr",
     "output_type": "stream",
     "text": [
      "/opt/anaconda3/lib/python3.11/site-packages/sklearn/base.py:439: UserWarning: X does not have valid feature names, but AdaBoostRegressor was fitted with feature names\n",
      "  warnings.warn(\n"
     ]
    },
    {
     "data": {
      "text/plain": [
       "array([20276.1698125])"
      ]
     },
     "execution_count": 18,
     "metadata": {},
     "output_type": "execute_result"
    }
   ],
   "source": [
    "loaded_model.predict([[19,27.900,0,0,1]])\n"
   ]
  },
  {
   "cell_type": "code",
   "execution_count": null,
   "id": "e48da49e-c54b-4626-b5fc-148b70d207a5",
   "metadata": {},
   "outputs": [],
   "source": []
  },
  {
   "cell_type": "code",
   "execution_count": null,
   "id": "ccc681ef-a858-4930-a96a-e7ca4ec055e3",
   "metadata": {},
   "outputs": [],
   "source": []
  }
 ],
 "metadata": {
  "kernelspec": {
   "display_name": "Python 3 (ipykernel)",
   "language": "python",
   "name": "python3"
  },
  "language_info": {
   "codemirror_mode": {
    "name": "ipython",
    "version": 3
   },
   "file_extension": ".py",
   "mimetype": "text/x-python",
   "name": "python",
   "nbconvert_exporter": "python",
   "pygments_lexer": "ipython3",
   "version": "3.11.7"
  }
 },
 "nbformat": 4,
 "nbformat_minor": 5
}
