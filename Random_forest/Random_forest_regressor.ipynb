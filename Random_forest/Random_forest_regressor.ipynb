{
 "cells": [
  {
   "cell_type": "code",
   "execution_count": 1,
   "id": "c34cd515-fc2d-48ea-bdec-c54667267971",
   "metadata": {},
   "outputs": [],
   "source": [
    "import pandas as pd\n",
    "dataset=pd.read_csv(\"50_Startups.csv\")\n"
   ]
  },
  {
   "cell_type": "code",
   "execution_count": 2,
   "id": "3c8c8fc3-e615-40d7-a5f6-e9ef71a4b027",
   "metadata": {},
   "outputs": [],
   "source": [
    "#dataset"
   ]
  },
  {
   "cell_type": "code",
   "execution_count": 3,
   "id": "09ddd4c3-9a32-4747-b8db-9a0d48289912",
   "metadata": {},
   "outputs": [],
   "source": [
    "#convert dataset as numerical data\n",
    "dataset=pd.get_dummies(dataset, drop_first=True, dtype=int)"
   ]
  },
  {
   "cell_type": "code",
   "execution_count": 4,
   "id": "754a2ff1-6fea-4a3c-8570-8e37d754795f",
   "metadata": {},
   "outputs": [],
   "source": [
    "#dataset"
   ]
  },
  {
   "cell_type": "code",
   "execution_count": 5,
   "id": "56bec9d9-ffbb-4191-a4d7-666d166d745d",
   "metadata": {},
   "outputs": [
    {
     "data": {
      "text/plain": [
       "Index(['R&D Spend', 'Administration', 'Marketing Spend', 'Profit',\n",
       "       'State_Florida', 'State_New York'],\n",
       "      dtype='object')"
      ]
     },
     "execution_count": 5,
     "metadata": {},
     "output_type": "execute_result"
    }
   ],
   "source": [
    "\n",
    "dataset.columns\n"
   ]
  },
  {
   "cell_type": "code",
   "execution_count": 6,
   "id": "cb059f8b-b29c-405f-9f69-7a531a639a08",
   "metadata": {},
   "outputs": [],
   "source": [
    "# split input and output data\n",
    "independent=dataset[['R&D Spend', 'Administration', 'Marketing Spend','State_Florida', 'State_New York']]\n",
    "dependent=dataset[['Profit']]"
   ]
  },
  {
   "cell_type": "code",
   "execution_count": 7,
   "id": "71201675-5d7e-429c-b5fb-783506c3d243",
   "metadata": {},
   "outputs": [],
   "source": [
    "# Split data for train and test sets\n",
    "from sklearn.model_selection import train_test_split\n",
    "X_train,X_test, Y_train,Y_test =train_test_split(independent,dependent,test_size=.3, random_state=1)"
   ]
  },
  {
   "cell_type": "code",
   "execution_count": 8,
   "id": "85590ac1-8068-4de6-978e-8aa9e6b72a8c",
   "metadata": {},
   "outputs": [],
   "source": [
    "#X_train,X_test, Y_train,Y_test"
   ]
  },
  {
   "cell_type": "code",
   "execution_count": 9,
   "id": "813993e2-f6c5-4dab-b992-8f0240fa9146",
   "metadata": {},
   "outputs": [
    {
     "name": "stderr",
     "output_type": "stream",
     "text": [
      "/var/folders/1s/70xy4dvs6mn0zqfz6nvhbypw0000gn/T/ipykernel_7809/3259309272.py:21: DataConversionWarning: A column-vector y was passed when a 1d array was expected. Please change the shape of y to (n_samples,), for example using ravel().\n",
      "  regresser=regresser.fit(X_train,Y_train)\n"
     ]
    }
   ],
   "source": [
    "# model creation\n",
    "from sklearn.ensemble import RandomForestRegressor\n",
    "regresser=RandomForestRegressor(n_estimators=100,random_state=0) #0.9311274830400662\n",
    "\n",
    "#regresser=RandomForestRegressor(n_estimators=100,random_state=0,criterion='squared_error', max_features='sqrt') # 0.8020653404735797\n",
    "#regresser=RandomForestRegressor(n_estimators=50,random_state=0,criterion='squared_error', max_features='sqrt') # 0.7945900621431058\n",
    "#regresser=RandomForestRegressor(n_estimators=100,random_state=0,criterion='squared_error', max_features='log2') # 0.8020653404735797\n",
    "#regresser=RandomForestRegressor(n_estimators=50,random_state=0,criterion='squared_error', max_features='log2') # 0.7945900621431058\n",
    "\n",
    "\n",
    "#regresser=RandomForestRegressor(n_estimators=100,random_state=0,criterion='friedman_mse', max_features='sqrt') # 0.7994149841456731\n",
    "# regresser=RandomForestRegressor(n_estimators=100,random_state=0,criterion='friedman_mse', max_features='log2') # 0.7994149841456731\n",
    "\n",
    "# regresser=RandomForestRegressor(n_estimators=50,random_state=0,criterion='absolute_error', max_features='sqrt') # 0.779255107785152\n",
    "#regresser=RandomForestRegressor(n_estimators=50,random_state=0,criterion='absolute_error', max_features='log2') # 0.779255107785152\n",
    "\n",
    "#regresser=RandomForestRegressor(n_estimators=50,random_state=0,criterion='poisson', max_features='sqrt') # 0.7985722655219785\n",
    "#regresser=RandomForestRegressor(n_estimators=50,random_state=0,criterion='poisson', max_features='log2') # 0.7985722655219785\n",
    "#regresser=RandomForestRegressor(n_estimators=100,random_state=0,criterion='poisson', max_features='log2') #0.8071095737085611\n",
    "\n",
    "regresser=regresser.fit(X_train,Y_train)"
   ]
  },
  {
   "cell_type": "code",
   "execution_count": 10,
   "id": "faf834fa-4e32-4634-9d3d-cd7c2028b7b5",
   "metadata": {},
   "outputs": [],
   "source": [
    "Y_pred=regresser.predict(X_test)"
   ]
  },
  {
   "cell_type": "code",
   "execution_count": 11,
   "id": "3be01b61-fff3-4022-a0d2-9d1a24cd209b",
   "metadata": {},
   "outputs": [],
   "source": [
    "# Find r2_score\n",
    "from sklearn.metrics import r2_score\n",
    "r2_score=r2_score(Y_test,Y_pred)"
   ]
  },
  {
   "cell_type": "code",
   "execution_count": 12,
   "id": "f91857e2-d90e-4d74-9797-8acb5cd103d4",
   "metadata": {},
   "outputs": [
    {
     "data": {
      "text/plain": [
       "0.9311274830400662"
      ]
     },
     "execution_count": 12,
     "metadata": {},
     "output_type": "execute_result"
    }
   ],
   "source": [
    "r2_score"
   ]
  },
  {
   "cell_type": "code",
   "execution_count": null,
   "id": "d4e61296-f250-4c0f-bd52-ad4d388148f7",
   "metadata": {},
   "outputs": [],
   "source": [
    "#Save the model\n",
    "\n",
    "import pickle\n",
    "pickle.dump(regresser,open('finalized_model_random_forest_regressor','wb'))"
   ]
  },
  {
   "cell_type": "code",
   "execution_count": null,
   "id": "7e6686e2-2c6a-4f00-8f71-17d70dd1f55d",
   "metadata": {},
   "outputs": [],
   "source": [
    "# load model\n",
    "\n",
    "loaded_model=pickle.load(open(\"finalized_model_random_forest_regressor\",'rb'))"
   ]
  },
  {
   "cell_type": "code",
   "execution_count": null,
   "id": "3b99dbaf-3cec-47de-b900-5ca720db7c22",
   "metadata": {},
   "outputs": [],
   "source": [
    "result=loaded_model.predict([[1590,3450,988,0,1]])"
   ]
  },
  {
   "cell_type": "code",
   "execution_count": null,
   "id": "2f5d4862-b06a-4571-847e-6f115eaa487b",
   "metadata": {},
   "outputs": [],
   "source": [
    "result\n"
   ]
  },
  {
   "cell_type": "code",
   "execution_count": null,
   "id": "24a9919e-d6ab-4f0d-a870-3e9c0cad8539",
   "metadata": {},
   "outputs": [],
   "source": []
  }
 ],
 "metadata": {
  "kernelspec": {
   "display_name": "Python 3 (ipykernel)",
   "language": "python",
   "name": "python3"
  },
  "language_info": {
   "codemirror_mode": {
    "name": "ipython",
    "version": 3
   },
   "file_extension": ".py",
   "mimetype": "text/x-python",
   "name": "python",
   "nbconvert_exporter": "python",
   "pygments_lexer": "ipython3",
   "version": "3.11.7"
  }
 },
 "nbformat": 4,
 "nbformat_minor": 5
}
